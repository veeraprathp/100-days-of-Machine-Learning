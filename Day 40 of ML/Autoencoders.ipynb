{
  "nbformat": 4,
  "nbformat_minor": 0,
  "metadata": {
    "colab": {
      "provenance": []
    },
    "kernelspec": {
      "name": "python3",
      "display_name": "Python 3"
    },
    "language_info": {
      "name": "python"
    }
  },
  "cells": [
    {
      "cell_type": "markdown",
      "source": [
        "**Importing the datasets**"
      ],
      "metadata": {
        "id": "DPGSkyBlCYAs"
      }
    },
    {
      "cell_type": "code",
      "execution_count": 23,
      "metadata": {
        "id": "2fNt7M4k-J8f"
      },
      "outputs": [],
      "source": [
        "import matplotlib.pyplot as plt\n",
        "import numpy as np\n",
        "import pandas as np\n",
        "import tensorflow as tf\n",
        "\n",
        "from sklearn.metrics import accuracy_score,precision_score,recall_score\n",
        "from sklearn.model_selection import train_test_split\n",
        "import tensorflow as tf\n",
        "from tensorflow.keras import layers, models\n"
      ]
    },
    {
      "cell_type": "code",
      "source": [
        "minst = tf.keras.datasets.mnist\n",
        "(X_train, _),(X_test, _)= minst.load_data()\n",
        "X_train,X_val = X_train[:-10000],X_train[-10000]\n",
        "\n",
        "X_train = X_train.astype('float32') /255.\n",
        "X_test = X_test.astype('float32') /255.\n",
        "X_val = X_val.astype('float32') /255.\n",
        "\n",
        "print(X_train.shape)\n",
        "print(X_test.shape)\n",
        "print(X_val.shape)\n"
      ],
      "metadata": {
        "colab": {
          "base_uri": "https://localhost:8080/"
        },
        "id": "fCjLBklKB9zd",
        "outputId": "948c72db-2747-4b57-abb8-1bf5d4a08079"
      },
      "execution_count": 24,
      "outputs": [
        {
          "output_type": "stream",
          "name": "stdout",
          "text": [
            "(50000, 28, 28)\n",
            "(10000, 28, 28)\n",
            "(28, 28)\n"
          ]
        }
      ]
    },
    {
      "cell_type": "markdown",
      "source": [
        "Visulaising the dataset images"
      ],
      "metadata": {
        "id": "vS81o9FCFR6I"
      }
    },
    {
      "cell_type": "code",
      "source": [
        "n=10\n",
        "plt.figure(figsize=(20,4))\n",
        "for i in range(n):\n",
        "  #Display Original\n",
        "  ax = plt.subplot(2,n,i+1)\n",
        "  plt.imshow(X_test[i])\n",
        "  plt.title(\"original\")\n",
        "  plt.gray()\n",
        "  ax.get_xaxis().set_visible(False)\n",
        "  ax.get_yaxis().set_visible(False)"
      ],
      "metadata": {
        "colab": {
          "base_uri": "https://localhost:8080/",
          "height": 144
        },
        "id": "xcnKhSW9Dr6U",
        "outputId": "43fdd3ab-18b5-4531-ba4e-ea643e40d91f"
      },
      "execution_count": 25,
      "outputs": [
        {
          "output_type": "display_data",
          "data": {
            "text/plain": [
              "<Figure size 2000x400 with 10 Axes>"
            ],
            "image/png": "[encoded data removed]"
          },
          "metadata": {}
        }
      ]
    },
    {
      "cell_type": "code",
      "source": [
        "latent_dim =64\n",
        "\n",
        "class Autoencoder(Model):\n",
        "  def __init__(self,latent_dim):\n",
        "    super(Autoencoder,self).__init__()\n",
        "    self.latent_dim = latent_dim\n",
        "    self.encoder = tf.keras.Sequential([\n",
        "        layers.Flatten(),\n",
        "        layers.Dense(latent_dim, activation ='relu')\n",
        "    ])\n",
        "    self.decoder = tf.keras.Sequential([\n",
        "        layers.Dense(784,activation='sigmoid'),\n",
        "        layers.Reshape((28,28))\n",
        "         ])\n",
        "  def call(self,X):\n",
        "      encoded = self.encoder(X)\n",
        "      decoder =self.decoder(encoded)\n",
        "      return decoder\n",
        "\n",
        "autoencoder = Autoencoder(latent_dim)"
      ],
      "metadata": {
        "id": "v5c9fYFHHpa7"
      },
      "execution_count": 51,
      "outputs": []
    },
    {
      "cell_type": "markdown",
      "source": [
        "Define Auto Enocder Class"
      ],
      "metadata": {
        "id": "PEjGpAszLrfw"
      }
    },
    {
      "cell_type": "code",
      "source": [
        "autoencoder.compile(optimizer = 'adam', loss = 'MeanAbsoluteError')"
      ],
      "metadata": {
        "id": "Z0r_kO7BJqAf"
      },
      "execution_count": 52,
      "outputs": []
    },
    {
      "cell_type": "code",
      "source": [
        "autoencoder.fit(X_train,X_train,\n",
        "                epochs= 25 ,\n",
        "                shuffle =True,\n",
        "                validation_data = (X_test,X_test))\n",
        "\n",
        "\n",
        "\n"
      ],
      "metadata": {
        "colab": {
          "base_uri": "https://localhost:8080/",
          "height": 1000
        },
        "collapsed": true,
        "id": "0XvycJErMCn8",
        "outputId": "52bf8bdc-762b-4da8-bacb-2c18112da39b"
      },
      "execution_count": 40,
      "outputs": [
        {
          "output_type": "stream",
          "name": "stdout",
          "text": [
            "Epoch 1/50\n",
            "1563/1563 [==============================] - 8s 4ms/step - loss: 0.0972 - val_loss: 0.0773\n",
            "Epoch 2/50\n",
            "1563/1563 [==============================] - 8s 5ms/step - loss: 0.0705 - val_loss: 0.0661\n",
            "Epoch 3/50\n",
            "1563/1563 [==============================] - 7s 4ms/step - loss: 0.0649 - val_loss: 0.0641\n",
            "Epoch 4/50\n",
            "1563/1563 [==============================] - 8s 5ms/step - loss: 0.0637 - val_loss: 0.0633\n",
            "Epoch 5/50\n",
            "1563/1563 [==============================] - 7s 5ms/step - loss: 0.0631 - val_loss: 0.0629\n",
            "Epoch 6/50\n",
            "1563/1563 [==============================] - 8s 5ms/step - loss: 0.0628 - val_loss: 0.0627\n",
            "Epoch 7/50\n",
            "1563/1563 [==============================] - 8s 5ms/step - loss: 0.0626 - val_loss: 0.0625\n",
            "Epoch 8/50\n",
            "1563/1563 [==============================] - 7s 4ms/step - loss: 0.0621 - val_loss: 0.0620\n",
            "Epoch 9/50\n",
            "1563/1563 [==============================] - 8s 5ms/step - loss: 0.0618 - val_loss: 0.0616\n",
            "Epoch 10/50\n",
            "1563/1563 [==============================] - 7s 4ms/step - loss: 0.0615 - val_loss: 0.0615\n",
            "Epoch 11/50\n",
            "1563/1563 [==============================] - 8s 5ms/step - loss: 0.0613 - val_loss: 0.0610\n",
            "Epoch 12/50\n",
            "1563/1563 [==============================] - 8s 5ms/step - loss: 0.0608 - val_loss: 0.0608\n",
            "Epoch 13/50\n",
            "1563/1563 [==============================] - 10s 6ms/step - loss: 0.0607 - val_loss: 0.0608\n",
            "Epoch 14/50\n",
            "1563/1563 [==============================] - 8s 5ms/step - loss: 0.0606 - val_loss: 0.0607\n",
            "Epoch 15/50\n",
            "1563/1563 [==============================] - 6s 4ms/step - loss: 0.0606 - val_loss: 0.0606\n",
            "Epoch 16/50\n",
            "1563/1563 [==============================] - 8s 5ms/step - loss: 0.0606 - val_loss: 0.0606\n",
            "Epoch 17/50\n",
            "1563/1563 [==============================] - 7s 4ms/step - loss: 0.0604 - val_loss: 0.0603\n",
            "Epoch 18/50\n",
            "1563/1563 [==============================] - 8s 5ms/step - loss: 0.0602 - val_loss: 0.0603\n",
            "Epoch 19/50\n",
            "1563/1563 [==============================] - 7s 4ms/step - loss: 0.0602 - val_loss: 0.0602\n",
            "Epoch 20/50\n",
            "1563/1563 [==============================] - 8s 5ms/step - loss: 0.0602 - val_loss: 0.0602\n",
            "Epoch 21/50\n",
            "1563/1563 [==============================] - 7s 4ms/step - loss: 0.0601 - val_loss: 0.0600\n",
            "Epoch 22/50\n",
            "1563/1563 [==============================] - 8s 5ms/step - loss: 0.0599 - val_loss: 0.0600\n",
            "Epoch 23/50\n",
            "1563/1563 [==============================] - 7s 4ms/step - loss: 0.0599 - val_loss: 0.0600\n",
            "Epoch 24/50\n",
            "1563/1563 [==============================] - 8s 5ms/step - loss: 0.0599 - val_loss: 0.0599\n",
            "Epoch 25/50\n",
            "1563/1563 [==============================] - 7s 5ms/step - loss: 0.0599 - val_loss: 0.0599\n",
            "Epoch 26/50\n",
            "1563/1563 [==============================] - 10s 6ms/step - loss: 0.0599 - val_loss: 0.0599\n",
            "Epoch 27/50\n",
            "1563/1563 [==============================] - 9s 6ms/step - loss: 0.0598 - val_loss: 0.0599\n",
            "Epoch 28/50\n",
            "1563/1563 [==============================] - 6s 4ms/step - loss: 0.0598 - val_loss: 0.0599\n",
            "Epoch 29/50\n",
            "1563/1563 [==============================] - 8s 5ms/step - loss: 0.0598 - val_loss: 0.0599\n",
            "Epoch 30/50\n",
            "1563/1563 [==============================] - 7s 4ms/step - loss: 0.0597 - val_loss: 0.0595\n",
            "Epoch 31/50\n",
            "1563/1563 [==============================] - 8s 5ms/step - loss: 0.0595 - val_loss: 0.0595\n",
            "Epoch 32/50\n",
            "1563/1563 [==============================] - 7s 4ms/step - loss: 0.0595 - val_loss: 0.0595\n",
            "Epoch 33/50\n",
            "1563/1563 [==============================] - 8s 5ms/step - loss: 0.0594 - val_loss: 0.0595\n",
            "Epoch 34/50\n",
            "1563/1563 [==============================] - 7s 4ms/step - loss: 0.0594 - val_loss: 0.0595\n",
            "Epoch 35/50\n",
            "1563/1563 [==============================] - 8s 5ms/step - loss: 0.0594 - val_loss: 0.0595\n",
            "Epoch 36/50\n",
            "1563/1563 [==============================] - 7s 4ms/step - loss: 0.0594 - val_loss: 0.0595\n",
            "Epoch 37/50\n",
            "1563/1563 [==============================] - 8s 5ms/step - loss: 0.0594 - val_loss: 0.0595\n",
            "Epoch 38/50\n",
            "1563/1563 [==============================] - 8s 5ms/step - loss: 0.0594 - val_loss: 0.0595\n",
            "Epoch 39/50\n",
            "1563/1563 [==============================] - 8s 5ms/step - loss: 0.0593 - val_loss: 0.0592\n",
            "Epoch 40/50\n",
            "1563/1563 [==============================] - 10s 6ms/step - loss: 0.0591 - val_loss: 0.0591\n",
            "Epoch 41/50\n",
            "1563/1563 [==============================] - 7s 4ms/step - loss: 0.0591 - val_loss: 0.0591\n",
            "Epoch 42/50\n",
            "1563/1563 [==============================] - 8s 5ms/step - loss: 0.0590 - val_loss: 0.0587\n",
            "Epoch 43/50\n",
            "1563/1563 [==============================] - 7s 4ms/step - loss: 0.0584 - val_loss: 0.0584\n",
            "Epoch 44/50\n",
            "1563/1563 [==============================] - 8s 5ms/step - loss: 0.0584 - val_loss: 0.0584\n",
            "Epoch 45/50\n",
            "1563/1563 [==============================] - 7s 4ms/step - loss: 0.0583 - val_loss: 0.0583\n",
            "Epoch 46/50\n",
            "1563/1563 [==============================] - 8s 5ms/step - loss: 0.0583 - val_loss: 0.0583\n",
            "Epoch 47/50\n",
            "1563/1563 [==============================] - 7s 5ms/step - loss: 0.0583 - val_loss: 0.0583\n",
            "Epoch 48/50\n",
            "1563/1563 [==============================] - 8s 5ms/step - loss: 0.0583 - val_loss: 0.0584\n",
            "Epoch 49/50\n",
            "1563/1563 [==============================] - 8s 5ms/step - loss: 0.0583 - val_loss: 0.0583\n",
            "Epoch 50/50\n",
            "1563/1563 [==============================] - 7s 4ms/step - loss: 0.0583 - val_loss: 0.0584\n"
          ]
        },
        {
          "output_type": "error",
          "ename": "AttributeError",
          "evalue": "'Autoencoder' object has no attribute 'self'",
          "traceback": [
            "\u001b[0;31m---------------------------------------------------------------------------\u001b[0m",
            "\u001b[0;31mAttributeError\u001b[0m                            Traceback (most recent call last)",
            "\u001b[0;32m<ipython-input-40-da0989a0f4bc>\u001b[0m in \u001b[0;36m<cell line: 6>\u001b[0;34m()\u001b[0m\n\u001b[1;32m      4\u001b[0m                 validation_data = (X_test,X_test))\n\u001b[1;32m      5\u001b[0m \u001b[0;34m\u001b[0m\u001b[0m\n\u001b[0;32m----> 6\u001b[0;31m \u001b[0mencoded_img\u001b[0m \u001b[0;34m=\u001b[0m \u001b[0mautoencoder\u001b[0m\u001b[0;34m.\u001b[0m\u001b[0mself\u001b[0m\u001b[0;34m.\u001b[0m\u001b[0mencoder\u001b[0m\u001b[0;34m(\u001b[0m\u001b[0mX_test\u001b[0m\u001b[0;34m)\u001b[0m\u001b[0;34m.\u001b[0m\u001b[0mnumpy\u001b[0m\u001b[0;34m(\u001b[0m\u001b[0;34m)\u001b[0m\u001b[0;34m\u001b[0m\u001b[0;34m\u001b[0m\u001b[0m\n\u001b[0m\u001b[1;32m      7\u001b[0m \u001b[0mdecoded_img\u001b[0m \u001b[0;34m=\u001b[0m \u001b[0mautoencoder\u001b[0m\u001b[0;34m.\u001b[0m\u001b[0mself\u001b[0m\u001b[0;34m.\u001b[0m\u001b[0mdecoder\u001b[0m\u001b[0;34m(\u001b[0m\u001b[0mencoded_img\u001b[0m\u001b[0;34m)\u001b[0m\u001b[0;34m.\u001b[0m\u001b[0mnumpy\u001b[0m\u001b[0;34m(\u001b[0m\u001b[0;34m)\u001b[0m\u001b[0;34m\u001b[0m\u001b[0;34m\u001b[0m\u001b[0m\n\u001b[1;32m      8\u001b[0m \u001b[0;34m\u001b[0m\u001b[0m\n",
            "\u001b[0;31mAttributeError\u001b[0m: 'Autoencoder' object has no attribute 'self'"
          ]
        }
      ]
    },
    {
      "cell_type": "code",
      "source": [
        "encoded_img = autoencoder.encoder(X_test).numpy()\n",
        "decoded_img = autoencoder.decoder(encoded_img).numpy()"
      ],
      "metadata": {
        "id": "JnK4joSCQK2o"
      },
      "execution_count": 41,
      "outputs": []
    },
    {
      "cell_type": "code",
      "source": [
        "n = 10  # Number of digits to display\n",
        "plt.figure(figsize=(20, 4))\n",
        "for i in range(n):\n",
        "    # Display original images\n",
        "    ax = plt.subplot(2, n, i + 1)\n",
        "    plt.imshow(X_test[i], cmap='gray')\n",
        "    plt.title(\"Original\")\n",
        "    ax.get_xaxis().set_visible(False)\n",
        "    ax.get_yaxis().set_visible(False)"
      ],
      "metadata": {
        "colab": {
          "base_uri": "https://localhost:8080/",
          "height": 144
        },
        "id": "gEeBpLaCUMRI",
        "outputId": "ad6e4405-538f-437e-e60a-77c5aedad3a5"
      },
      "execution_count": 43,
      "outputs": [
        {
          "output_type": "display_data",
          "data": {
            "text/plain": [
              "<Figure size 2000x400 with 10 Axes>"
            ],
            "image/png": "[encoded data removed]"
          },
          "metadata": {}
        }
      ]
    },
    {
      "cell_type": "code",
      "source": [
        "n = 10  # Number of digits to display\n",
        "plt.figure(figsize=(20, 4))\n",
        "for i in range(n):\n",
        "  ax = plt.subplot(2, n, i + 1 + n)\n",
        "  plt.imshow(decoded_img[i], cmap='gray')\n",
        "  plt.title(\"Reconstructed\")\n",
        "  ax.get_xaxis().set_visible(False)\n",
        "  ax.get_yaxis().set_visible(False)"
      ],
      "metadata": {
        "colab": {
          "base_uri": "https://localhost:8080/",
          "height": 144
        },
        "id": "kVaPFIGCUS6K",
        "outputId": "a8b3ba6f-a03e-4137-b941-5a5429cfab16"
      },
      "execution_count": 47,
      "outputs": [
        {
          "output_type": "display_data",
          "data": {
            "text/plain": [
              "<Figure size 2000x400 with 10 Axes>"
            ],
            "image/png": "[encoded data removed]"
          },
          "metadata": {}
        }
      ]
    },
    {
      "cell_type": "code",
      "source": [],
      "metadata": {
        "id": "wRxTS7r1UdMb"
      },
      "execution_count": null,
      "outputs": []
    }
  ]
}