{
  "nbformat": 4,
  "nbformat_minor": 0,
  "metadata": {
    "colab": {
      "provenance": []
    },
    "kernelspec": {
      "name": "python3",
      "display_name": "Python 3"
    },
    "language_info": {
      "name": "python"
    }
  },
  "cells": [
    {
      "cell_type": "code",
      "source": [
        "import numpy as np\n",
        "\n",
        "\n",
        "class SVM:\n",
        "  def __init__(self,learning_rate = 0.001,lambda_param = 0.01, n_iters = 1000):\n",
        "    self.lr = learning_rate\n",
        "    self.lambda_param = lambda_param\n",
        "    self.n_iters = n_iters\n",
        "    self.w = None\n",
        "    self.b = None\n",
        "\n",
        "  def fit(self, X, y):\n",
        "    n_samples, n_features = X.shape\n",
        "    y_ = np.where(y <= 0, -1, 1)\n",
        "\n",
        "    # Initialize weights\n",
        "    self.w = np.zeros(n_features)\n",
        "    self.b = 0\n",
        "\n",
        "    for _ in range(self.n_iters):\n",
        "        for idx, x_i in enumerate(X):\n",
        "            condition = y_[idx] * (np.dot(x_i, self.w) - self.b) >= 1\n",
        "\n",
        "            if condition:\n",
        "                self.w -= self.lr * (2 * self.lambda_param * self.w)\n",
        "            else:\n",
        "                self.w -= self.lr * (2 * self.lambda_param * self.w - np.dot(x_i, y_[idx]))\n",
        "                self.b -= self.lr * y_[idx]\n",
        "\n",
        "\n",
        "  def predict(self, X):\n",
        "    approx = np.dot(X,self.w)-self.b\n",
        "    return np.sign(approx)"
      ],
      "metadata": {
        "id": "nty2dzB1h35b"
      },
      "execution_count": 50,
      "outputs": []
    },
    {
      "cell_type": "code",
      "source": [
        "from sklearn.model_selection import train_test_split\n",
        "from sklearn import datasets\n",
        "import matplotlib.pyplot as plt\n",
        "\n",
        "X, y = datasets.make_blobs(\n",
        "        n_samples=50, n_features=2, centers=2, cluster_std=1.05, random_state=40\n",
        "    )\n",
        "y = np.where(y == 0, -1, 1)\n",
        "X_train, X_test, y_train, y_test = train_test_split(\n",
        "X, y, test_size=0.2, random_state=123\n",
        "    )\n",
        "clf = SVM()\n",
        "clf.fit(X_train, y_train)\n",
        "predictions = clf.predict(X_test)\n",
        "\n",
        "def accuracy(y_true, y_pred):\n",
        "        accuracy = np.sum(y_true == y_pred) / len(y_true)\n",
        "        return accuracy\n",
        "print(\"SVM classification accuracy\", accuracy(y_test, predictions))"
      ],
      "metadata": {
        "colab": {
          "base_uri": "https://localhost:8080/"
        },
        "id": "O2PUm96posbd",
        "outputId": "42a5d865-4ee1-45d1-9598-75c624a593c2"
      },
      "execution_count": 51,
      "outputs": [
        {
          "output_type": "stream",
          "name": "stdout",
          "text": [
            "SVM classification accuracy 1.0\n"
          ]
        }
      ]
    },
    {
      "cell_type": "code",
      "source": [],
      "metadata": {
        "id": "17KVGIx-od5B"
      },
      "execution_count": null,
      "outputs": []
    }
  ]
}