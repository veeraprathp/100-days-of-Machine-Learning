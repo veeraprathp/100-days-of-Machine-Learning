{
  "nbformat": 4,
  "nbformat_minor": 0,
  "metadata": {
    "colab": {
      "provenance": []
    },
    "kernelspec": {
      "name": "python3",
      "display_name": "Python 3"
    },
    "language_info": {
      "name": "python"
    }
  },
  "cells": [
    {
      "cell_type": "markdown",
      "source": [
        "**Importing the datasets**"
      ],
      "metadata": {
        "id": "DPGSkyBlCYAs"
      }
    },
    {
      "cell_type": "code",
      "execution_count": 24,
      "metadata": {
        "id": "2fNt7M4k-J8f"
      },
      "outputs": [],
      "source": [
        "import matplotlib.pyplot as plt\n",
        "import numpy as np\n",
        "import pandas as pd\n",
        "import tensorflow as tf\n",
        "\n",
        "from sklearn.metrics import accuracy_score,precision_score,recall_score\n",
        "from sklearn.model_selection import train_test_split\n",
        "import tensorflow as tf\n",
        "from tensorflow.keras import layers,Model\n"
      ]
    },
    {
      "cell_type": "code",
      "source": [
        "minst = tf.keras.datasets.mnist\n",
        "(X_train, _),(X_test, _)= minst.load_data()\n",
        "X_train,X_val = X_train[:-10000],X_train[-10000]\n",
        "\n",
        "X_train = X_train.astype('float32') /255.\n",
        "X_test = X_test.astype('float32') /255.\n",
        "X_val = X_val.astype('float32') /255.\n",
        "\n",
        "print(X_train.shape)\n",
        "print(X_test.shape)\n",
        "print(X_val.shape)\n"
      ],
      "metadata": {
        "colab": {
          "base_uri": "https://localhost:8080/"
        },
        "id": "fCjLBklKB9zd",
        "outputId": "c1c84d37-de0e-4cfd-9e08-2c3f6e566b5c"
      },
      "execution_count": 11,
      "outputs": [
        {
          "output_type": "stream",
          "name": "stdout",
          "text": [
            "(50000, 28, 28)\n",
            "(10000, 28, 28)\n",
            "(28, 28)\n"
          ]
        }
      ]
    },
    {
      "cell_type": "markdown",
      "source": [
        "Visulaising the dataset images"
      ],
      "metadata": {
        "id": "vS81o9FCFR6I"
      }
    },
    {
      "cell_type": "code",
      "source": [
        "n=10\n",
        "plt.figure(figsize=(20,4))\n",
        "for i in range(n):\n",
        "  #Display Original\n",
        "  ax = plt.subplot(2,n,i+1)\n",
        "  plt.imshow(X_test[i])\n",
        "  plt.title(\"original\")\n",
        "  plt.gray()\n",
        "  ax.get_xaxis().set_visible(False)\n",
        "  ax.get_yaxis().set_visible(False)"
      ],
      "metadata": {
        "colab": {
          "base_uri": "https://localhost:8080/",
          "height": 144
        },
        "id": "xcnKhSW9Dr6U",
        "outputId": "8cf34085-2802-4963-87d4-7b2e45863acc"
      },
      "execution_count": 12,
      "outputs": [
        {
          "output_type": "display_data",
          "data": {
            "text/plain": [
              "<Figure size 2000x400 with 10 Axes>"
            ],
            "image/png": "[encoded data removed]"
          },
          "metadata": {}
        }
      ]
    },
    {
      "cell_type": "code",
      "source": [
        "latent_dim =64\n",
        "\n",
        "class Autoencoder(Model):\n",
        "  def __init__(self,latent_dim):\n",
        "    super(Autoencoder,self).__init__()\n",
        "    self.latent_dim = latent_dim\n",
        "    self.encoder = tf.keras.Sequential([\n",
        "        layers.Flatten(),\n",
        "        layers.Dense(latent_dim, activation ='relu')\n",
        "    ])\n",
        "    self.decoder = tf.keras.Sequential([\n",
        "        layers.Dense(784,activation='sigmoid'),\n",
        "        layers.Reshape((28,28))\n",
        "         ])\n",
        "  def call(self,X):\n",
        "      encoded = self.encoder(X)\n",
        "      decoder =self.decoder(encoded)\n",
        "      return decoder\n",
        "\n",
        "autoencoder = Autoencoder(latent_dim)"
      ],
      "metadata": {
        "id": "v5c9fYFHHpa7"
      },
      "execution_count": 13,
      "outputs": []
    },
    {
      "cell_type": "markdown",
      "source": [
        "Define Auto Enocder Class"
      ],
      "metadata": {
        "id": "PEjGpAszLrfw"
      }
    },
    {
      "cell_type": "code",
      "source": [
        "autoencoder.compile(optimizer = 'adam', loss = 'MeanAbsoluteError')"
      ],
      "metadata": {
        "id": "Z0r_kO7BJqAf"
      },
      "execution_count": 14,
      "outputs": []
    },
    {
      "cell_type": "code",
      "source": [
        "autoencoder.fit(X_train,X_train,\n",
        "                epochs= 25 ,\n",
        "                shuffle =True,\n",
        "                validation_data = (X_test,X_test))\n",
        "\n",
        "\n",
        "\n"
      ],
      "metadata": {
        "colab": {
          "base_uri": "https://localhost:8080/"
        },
        "collapsed": true,
        "id": "0XvycJErMCn8",
        "outputId": "6dd9681d-390c-4d51-9355-709e0c3f9b84"
      },
      "execution_count": 15,
      "outputs": [
        {
          "output_type": "stream",
          "name": "stdout",
          "text": [
            "Epoch 1/25\n",
            "1563/1563 [==============================] - 9s 5ms/step - loss: 0.0960 - val_loss: 0.0750\n",
            "Epoch 2/25\n",
            "1563/1563 [==============================] - 6s 4ms/step - loss: 0.0689 - val_loss: 0.0651\n",
            "Epoch 3/25\n",
            "1563/1563 [==============================] - 9s 6ms/step - loss: 0.0639 - val_loss: 0.0630\n",
            "Epoch 4/25\n",
            "1563/1563 [==============================] - 7s 4ms/step - loss: 0.0627 - val_loss: 0.0622\n",
            "Epoch 5/25\n",
            "1563/1563 [==============================] - 8s 5ms/step - loss: 0.0616 - val_loss: 0.0610\n",
            "Epoch 6/25\n",
            "1563/1563 [==============================] - 6s 4ms/step - loss: 0.0609 - val_loss: 0.0607\n",
            "Epoch 7/25\n",
            "1563/1563 [==============================] - 8s 5ms/step - loss: 0.0606 - val_loss: 0.0606\n",
            "Epoch 8/25\n",
            "1563/1563 [==============================] - 6s 4ms/step - loss: 0.0605 - val_loss: 0.0605\n",
            "Epoch 9/25\n",
            "1563/1563 [==============================] - 8s 5ms/step - loss: 0.0603 - val_loss: 0.0597\n",
            "Epoch 10/25\n",
            "1563/1563 [==============================] - 6s 4ms/step - loss: 0.0595 - val_loss: 0.0594\n",
            "Epoch 11/25\n",
            "1563/1563 [==============================] - 15s 10ms/step - loss: 0.0592 - val_loss: 0.0592\n",
            "Epoch 12/25\n",
            "1563/1563 [==============================] - 7s 5ms/step - loss: 0.0591 - val_loss: 0.0588\n",
            "Epoch 13/25\n",
            "1563/1563 [==============================] - 7s 4ms/step - loss: 0.0588 - val_loss: 0.0588\n",
            "Epoch 14/25\n",
            "1563/1563 [==============================] - 9s 6ms/step - loss: 0.0588 - val_loss: 0.0587\n",
            "Epoch 15/25\n",
            "1563/1563 [==============================] - 6s 4ms/step - loss: 0.0587 - val_loss: 0.0587\n",
            "Epoch 16/25\n",
            "1563/1563 [==============================] - 7s 5ms/step - loss: 0.0584 - val_loss: 0.0584\n",
            "Epoch 17/25\n",
            "1563/1563 [==============================] - 11s 7ms/step - loss: 0.0583 - val_loss: 0.0583\n",
            "Epoch 18/25\n",
            "1563/1563 [==============================] - 13s 9ms/step - loss: 0.0581 - val_loss: 0.0579\n",
            "Epoch 19/25\n",
            "1563/1563 [==============================] - 6s 4ms/step - loss: 0.0579 - val_loss: 0.0578\n",
            "Epoch 20/25\n",
            "1563/1563 [==============================] - 7s 5ms/step - loss: 0.0578 - val_loss: 0.0579\n",
            "Epoch 21/25\n",
            "1563/1563 [==============================] - 6s 4ms/step - loss: 0.0578 - val_loss: 0.0579\n",
            "Epoch 22/25\n",
            "1563/1563 [==============================] - 8s 5ms/step - loss: 0.0578 - val_loss: 0.0578\n",
            "Epoch 23/25\n",
            "1563/1563 [==============================] - 6s 4ms/step - loss: 0.0578 - val_loss: 0.0578\n",
            "Epoch 24/25\n",
            "1563/1563 [==============================] - 8s 5ms/step - loss: 0.0578 - val_loss: 0.0578\n",
            "Epoch 25/25\n",
            "1563/1563 [==============================] - 7s 4ms/step - loss: 0.0578 - val_loss: 0.0578\n"
          ]
        },
        {
          "output_type": "execute_result",
          "data": {
            "text/plain": [
              "<keras.src.callbacks.History at 0x7c34f5fdffa0>"
            ]
          },
          "metadata": {},
          "execution_count": 15
        }
      ]
    },
    {
      "cell_type": "code",
      "source": [
        "encoder = autoencoder.encoder\n",
        "#decoded_img = autoencoder.decoder(encoded_img).numpy()"
      ],
      "metadata": {
        "id": "JnK4joSCQK2o"
      },
      "execution_count": 20,
      "outputs": []
    },
    {
      "cell_type": "code",
      "source": [
        "# Load the MNIST dataset with labels for classification\n",
        "(X_train, y_train), (X_test, y_test) = tf.keras.datasets.mnist.load_data()\n",
        "X_train = X_train.astype('float32') / 255.0\n",
        "X_test = X_test.astype('float32') / 255.0\n",
        "\n",
        "num_classes = 10\n",
        "\n",
        "# Define the classification model using the pre-trained encoder\n",
        "classification_model = tf.keras.Sequential([\n",
        "    encoder,  # Transfer learning: using the pre-trained encoder\n",
        "    tf.keras.layers.Dense(128, activation='relu'),\n",
        "    tf.keras.layers.Dense(num_classes, activation='softmax')\n",
        "])\n",
        "\n",
        "classification_model.compile(optimizer='adam',\n",
        "                             loss='sparse_categorical_crossentropy',\n",
        "                             metrics=['accuracy'])\n",
        "\n",
        "# Train the classification model\n",
        "classification_model.fit(X_train, y_train,\n",
        "                         epochs=10,\n",
        "                         validation_data=(X_test, y_test))\n"
      ],
      "metadata": {
        "colab": {
          "base_uri": "https://localhost:8080/"
        },
        "id": "pLEncSxMtHyZ",
        "outputId": "86fe4ac0-76f5-4a5f-b7e4-db5fa0581043"
      },
      "execution_count": 21,
      "outputs": [
        {
          "output_type": "stream",
          "name": "stdout",
          "text": [
            "Epoch 1/10\n",
            "1875/1875 [==============================] - 7s 3ms/step - loss: 0.3731 - accuracy: 0.8893 - val_loss: 0.1839 - val_accuracy: 0.9426\n",
            "Epoch 2/10\n",
            "1875/1875 [==============================] - 7s 4ms/step - loss: 0.1590 - accuracy: 0.9520 - val_loss: 0.1294 - val_accuracy: 0.9599\n",
            "Epoch 3/10\n",
            "1875/1875 [==============================] - 6s 3ms/step - loss: 0.1108 - accuracy: 0.9658 - val_loss: 0.1081 - val_accuracy: 0.9669\n",
            "Epoch 4/10\n",
            "1875/1875 [==============================] - 8s 4ms/step - loss: 0.0848 - accuracy: 0.9734 - val_loss: 0.0986 - val_accuracy: 0.9699\n",
            "Epoch 5/10\n",
            "1875/1875 [==============================] - 12s 7ms/step - loss: 0.0700 - accuracy: 0.9783 - val_loss: 0.0873 - val_accuracy: 0.9723\n",
            "Epoch 6/10\n",
            "1875/1875 [==============================] - 6s 3ms/step - loss: 0.0557 - accuracy: 0.9816 - val_loss: 0.0960 - val_accuracy: 0.9709\n",
            "Epoch 7/10\n",
            "1875/1875 [==============================] - 6s 3ms/step - loss: 0.0476 - accuracy: 0.9846 - val_loss: 0.0946 - val_accuracy: 0.9718\n",
            "Epoch 8/10\n",
            "1875/1875 [==============================] - 6s 3ms/step - loss: 0.0393 - accuracy: 0.9872 - val_loss: 0.0797 - val_accuracy: 0.9774\n",
            "Epoch 9/10\n",
            "1875/1875 [==============================] - 5s 3ms/step - loss: 0.0343 - accuracy: 0.9890 - val_loss: 0.0817 - val_accuracy: 0.9762\n",
            "Epoch 10/10\n",
            "1875/1875 [==============================] - 7s 4ms/step - loss: 0.0310 - accuracy: 0.9896 - val_loss: 0.0985 - val_accuracy: 0.9725\n"
          ]
        },
        {
          "output_type": "execute_result",
          "data": {
            "text/plain": [
              "<keras.src.callbacks.History at 0x7c34f27cad40>"
            ]
          },
          "metadata": {},
          "execution_count": 21
        }
      ]
    },
    {
      "cell_type": "code",
      "source": [
        "test_loss, test_acc = classification_model.evaluate(X_test, y_test, verbose=2)\n",
        "print(f'Test accuracy: {test_acc}')\n"
      ],
      "metadata": {
        "colab": {
          "base_uri": "https://localhost:8080/"
        },
        "id": "7BkjAn2GuPMl",
        "outputId": "0b124fc7-0932-41d9-cfd1-52e1999f7cc0"
      },
      "execution_count": 22,
      "outputs": [
        {
          "output_type": "stream",
          "name": "stdout",
          "text": [
            "313/313 - 1s - loss: 0.0985 - accuracy: 0.9725 - 924ms/epoch - 3ms/step\n",
            "Test accuracy: 0.9725000262260437\n"
          ]
        }
      ]
    },
    {
      "cell_type": "code",
      "source": [
        "predictions = classification_model.predict(X_test)\n",
        "predicted_labels = np.argmax(predictions, axis=1)\n"
      ],
      "metadata": {
        "colab": {
          "base_uri": "https://localhost:8080/"
        },
        "id": "Py9OsY7HuRsf",
        "outputId": "98e69124-b93d-486d-e33a-77f9f127287e"
      },
      "execution_count": 25,
      "outputs": [
        {
          "output_type": "stream",
          "name": "stdout",
          "text": [
            "313/313 [==============================] - 1s 2ms/step\n"
          ]
        }
      ]
    },
    {
      "cell_type": "code",
      "source": [
        "import matplotlib.pyplot as plt\n",
        "\n",
        "# Function to plot the images\n",
        "def plot_images(images, true_labels, predicted_labels, num_images=10):\n",
        "    plt.figure(figsize=(15, 3))\n",
        "    for i in range(num_images):\n",
        "        plt.subplot(1, num_images, i + 1)\n",
        "        plt.imshow(images[i], cmap='gray')\n",
        "        plt.title(f\"True: {true_labels[i]}\\nPred: {predicted_labels[i]}\")\n",
        "        plt.axis('off')\n",
        "    plt.show()\n",
        "\n",
        "# Plot the first 10 test images\n",
        "plot_images(X_test, y_test, predicted_labels, num_images=10)\n"
      ],
      "metadata": {
        "colab": {
          "base_uri": "https://localhost:8080/",
          "height": 175
        },
        "id": "KvDH-E0LugPs",
        "outputId": "9cac3f4c-6c91-4b75-dc31-2ec1551439c5"
      },
      "execution_count": 26,
      "outputs": [
        {
          "output_type": "display_data",
          "data": {
            "text/plain": [
              "<Figure size 1500x300 with 10 Axes>"
            ],
            "image/png": "[encoded data removed]"
          },
          "metadata": {}
        }
      ]
    }
  ]
}