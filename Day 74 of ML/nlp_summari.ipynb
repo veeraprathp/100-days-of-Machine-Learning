{
  "nbformat": 4,
  "nbformat_minor": 0,
  "metadata": {
    "colab": {
      "provenance": []
    },
    "kernelspec": {
      "name": "python3",
      "display_name": "Python 3"
    },
    "language_info": {
      "name": "python"
    }
  },
  "cells": [
    {
      "cell_type": "code",
      "execution_count": 1,
      "metadata": {
        "colab": {
          "base_uri": "https://localhost:8080/"
        },
        "id": "-O8aMNAy1Ubq",
        "outputId": "74e07866-b95a-49ed-86e7-001dae195c1d"
      },
      "outputs": [
        {
          "output_type": "stream",
          "name": "stdout",
          "text": [
            "Downloading text-for-summarization, 1810 bytes compressed\n",
            "\r[==================================================] 1810 bytes downloaded\n",
            "Downloaded and uncompressed: text-for-summarization\n",
            "Data source import complete.\n"
          ]
        }
      ],
      "source": [
        "\n",
        "# IMPORTANT: RUN THIS CELL IN ORDER TO IMPORT YOUR KAGGLE DATA SOURCES\n",
        "# TO THE CORRECT LOCATION (/kaggle/input) IN YOUR NOTEBOOK,\n",
        "# THEN FEEL FREE TO DELETE THIS CELL.\n",
        "# NOTE: THIS NOTEBOOK ENVIRONMENT DIFFERS FROM KAGGLE'S PYTHON\n",
        "# ENVIRONMENT SO THERE MAY BE MISSING LIBRARIES USED BY YOUR\n",
        "# NOTEBOOK.\n",
        "\n",
        "import os\n",
        "import sys\n",
        "from tempfile import NamedTemporaryFile\n",
        "from urllib.request import urlopen\n",
        "from urllib.parse import unquote, urlparse\n",
        "from urllib.error import HTTPError\n",
        "from zipfile import ZipFile\n",
        "import tarfile\n",
        "import shutil\n",
        "\n",
        "CHUNK_SIZE = 40960\n",
        "DATA_SOURCE_MAPPING = 'text-for-summarization:https%3A%2F%2Fstorage.googleapis.com%2Fkaggle-data-sets%2F4967965%2F8359571%2Fbundle%2Farchive.zip%3FX-Goog-Algorithm%3DGOOG4-RSA-SHA256%26X-Goog-Credential%3Dgcp-kaggle-com%2540kaggle-161607.iam.gserviceaccount.com%252F20240922%252Fauto%252Fstorage%252Fgoog4_request%26X-Goog-Date%3D20240922T222351Z%26X-Goog-Expires%3D259200%26X-Goog-SignedHeaders%3Dhost%26X-Goog-Signature%3D0688357573b5b724a5b3fe658dbf8e30dfac666f7790aa2b3a132b41a30619c1693b784e901cefac76213004707566c92d40fc82ea7d873f250bcb2c9f2aef9dbad85c19cc2596aa6bee47360b1c62aef1cb5c487ee808007c4ea5ee3ff0cf1742a7f6c7ffbf70f89476b8d2a0437a32b19dd7331d833d43acdf7ddfaf2b8122601c4ac8dae140d0efd50f47dfae25326b402805c4055627c0754c11152a6257f5fea67754dfe736429859ffd91616a9e7ad7d8319ac1fde59b2c94192af22fbf85f8554d44eb643935cd63ead72caa66fb2e0764814d52378d9646e872cc086c311ab7ef04b35c77dcc7ed66c8bc70e0f230d3a0a6ac228b26764fbc0509f20'\n",
        "\n",
        "KAGGLE_INPUT_PATH='/kaggle/input'\n",
        "KAGGLE_WORKING_PATH='/kaggle/working'\n",
        "KAGGLE_SYMLINK='kaggle'\n",
        "\n",
        "!umount /kaggle/input/ 2> /dev/null\n",
        "shutil.rmtree('/kaggle/input', ignore_errors=True)\n",
        "os.makedirs(KAGGLE_INPUT_PATH, 0o777, exist_ok=True)\n",
        "os.makedirs(KAGGLE_WORKING_PATH, 0o777, exist_ok=True)\n",
        "\n",
        "try:\n",
        "  os.symlink(KAGGLE_INPUT_PATH, os.path.join(\"..\", 'input'), target_is_directory=True)\n",
        "except FileExistsError:\n",
        "  pass\n",
        "try:\n",
        "  os.symlink(KAGGLE_WORKING_PATH, os.path.join(\"..\", 'working'), target_is_directory=True)\n",
        "except FileExistsError:\n",
        "  pass\n",
        "\n",
        "for data_source_mapping in DATA_SOURCE_MAPPING.split(','):\n",
        "    directory, download_url_encoded = data_source_mapping.split(':')\n",
        "    download_url = unquote(download_url_encoded)\n",
        "    filename = urlparse(download_url).path\n",
        "    destination_path = os.path.join(KAGGLE_INPUT_PATH, directory)\n",
        "    try:\n",
        "        with urlopen(download_url) as fileres, NamedTemporaryFile() as tfile:\n",
        "            total_length = fileres.headers['content-length']\n",
        "            print(f'Downloading {directory}, {total_length} bytes compressed')\n",
        "            dl = 0\n",
        "            data = fileres.read(CHUNK_SIZE)\n",
        "            while len(data) > 0:\n",
        "                dl += len(data)\n",
        "                tfile.write(data)\n",
        "                done = int(50 * dl / int(total_length))\n",
        "                sys.stdout.write(f\"\\r[{'=' * done}{' ' * (50-done)}] {dl} bytes downloaded\")\n",
        "                sys.stdout.flush()\n",
        "                data = fileres.read(CHUNK_SIZE)\n",
        "            if filename.endswith('.zip'):\n",
        "              with ZipFile(tfile) as zfile:\n",
        "                zfile.extractall(destination_path)\n",
        "            else:\n",
        "              with tarfile.open(tfile.name) as tarfile:\n",
        "                tarfile.extractall(destination_path)\n",
        "            print(f'\\nDownloaded and uncompressed: {directory}')\n",
        "    except HTTPError as e:\n",
        "        print(f'Failed to load (likely expired) {download_url} to path {destination_path}')\n",
        "        continue\n",
        "    except OSError as e:\n",
        "        print(f'Failed to load {download_url} to path {destination_path}')\n",
        "        continue\n",
        "\n",
        "print('Data source import complete.')\n"
      ]
    },
    {
      "cell_type": "code",
      "source": [
        "import numpy as np\n",
        "import pandas as pd\n",
        "import matplotlib.pyplot as plt\n",
        "from matplotlib.colors import LinearSegmentedColormap\n",
        "import os\n",
        "import nltk\n",
        "import re\n",
        "import math\n",
        "import operator\n",
        "from nltk.stem import PorterStemmer\n",
        "from nltk.stem import WordNetLemmatizer\n",
        "from nltk.tokenize import word_tokenize, sent_tokenize\n",
        "from nltk import pos_tag                   # ---------> POS tagging\n",
        "from nltk.corpus import stopwords , state_union\n",
        "from nltk.tokenize import PunktSentenceTokenizer\n",
        "import spacy\n",
        "from spacy import displacy                 # ---------> for Visualization\n",
        "from string import punctuation\n",
        "from string import punctuation\n",
        "from IPython.display import HTML\n",
        "from scipy.stats import norm\n",
        "# ---------> for highlighting words\n",
        "# Downloading Files\n",
        "#nltk.download('stopwords')\n",
        "#nltk.download('punkt')\n",
        "nltk.download('averaged_perceptron_tagger')\n",
        "nltk.download('wordnet')\n",
        "nlp = spacy.load('en_core_web_sm')\n",
        "wordlemmatizer = WordNetLemmatizer()\n",
        "stemmer = PorterStemmer()\n",
        "nltk.download('stopwords')\n",
        "nltk.download('punkt')\n",
        "Stopwords = set(stopwords.words('english'))"
      ],
      "metadata": {
        "colab": {
          "base_uri": "https://localhost:8080/"
        },
        "id": "3dhJPUsN1bs5",
        "outputId": "8a6b89d6-3339-428b-ce0b-2a7eec7d1eb6"
      },
      "execution_count": 2,
      "outputs": [
        {
          "output_type": "stream",
          "name": "stderr",
          "text": [
            "[nltk_data] Downloading package averaged_perceptron_tagger to\n",
            "[nltk_data]     /root/nltk_data...\n",
            "[nltk_data]   Unzipping taggers/averaged_perceptron_tagger.zip.\n",
            "[nltk_data] Downloading package wordnet to /root/nltk_data...\n",
            "[nltk_data] Downloading package stopwords to /root/nltk_data...\n",
            "[nltk_data]   Unzipping corpora/stopwords.zip.\n",
            "[nltk_data] Downloading package punkt to /root/nltk_data...\n",
            "[nltk_data]   Unzipping tokenizers/punkt.zip.\n"
          ]
        }
      ]
    },
    {
      "cell_type": "code",
      "source": [
        "text = \"\"\"Germany, officially the Federal Republic of Germany (German: Bundesrepublik Deutschland), is a country in Central Europe. It is the most populous country in the European Union and the fourth-largest economy in the world by nominal GDP. Germany is bordered by Denmark to the north, Poland and the Czech Republic to the east, Austria to the southeast, and Switzerland to the south. To the west, it shares borders with France, Luxembourg, Belgium, and the Netherlands, while the Baltic Sea lies to the northeast and the North Sea to the northwest. The country has a rich history dating back to ancient times, with Germanic tribes being documented as early as the first century BCE.\n",
        "\n",
        "The Holy Roman Empire, established in 800 CE, played a significant role in shaping medieval Europe, but the Thirty Years' War (1618–1648) left the region fragmented. In the 19th century, the German states began to unify, culminating in the formation of the German Empire in 1871 under the leadership of Prussia. Germany rapidly industrialized and became a major world power.\n",
        "Following its defeat in World War I, Germany was left economically and politically destabilized, leading to the rise of the Nazi regime. Adolf Hitler's leadership during World War II resulted in widespread destruction, the Holocaust, and the eventual division of Germany into West and East Germany during the Cold War. In 1990, following the fall of the Berlin Wall and the collapse of the Soviet Union, Germany was reunified as a single country.\n",
        "\n",
        "Today, Germany is known for its influential role in the European Union and its leadership in technological innovation, environmental policy, and economic stability. The country is a key player in global affairs, promoting democracy, human rights, and multilateral cooperation across various international organizations. Germany's diverse culture, heritage, and contributions to philosophy, science, and the arts continue to shape its identity on the world stage\"\"\".replace('\\n',' ')"
      ],
      "metadata": {
        "id": "W_eElaZ42MmP"
      },
      "execution_count": 16,
      "outputs": []
    },
    {
      "cell_type": "code",
      "source": [
        "words = word_tokenize(text)\n",
        "vis = words\n",
        "words[:10]"
      ],
      "metadata": {
        "colab": {
          "base_uri": "https://localhost:8080/"
        },
        "id": "BiJTx6Aa1i5O",
        "outputId": "a0fd4ef9-6cf2-4842-b1e5-4c85cb697939"
      },
      "execution_count": 17,
      "outputs": [
        {
          "output_type": "execute_result",
          "data": {
            "text/plain": [
              "['Germany',\n",
              " ',',\n",
              " 'officially',\n",
              " 'the',\n",
              " 'Federal',\n",
              " 'Republic',\n",
              " 'of',\n",
              " 'Germany',\n",
              " '(',\n",
              " 'German']"
            ]
          },
          "metadata": {},
          "execution_count": 17
        }
      ]
    },
    {
      "cell_type": "code",
      "source": [
        "i = 1\n",
        "sentences = sent_tokenize(text)\n",
        "for sen in sentences:\n",
        "  if i <= 5:\n",
        "    i = i+1\n",
        "    print(sen,'\\n')\n",
        "    print('--'*65)\n",
        "\n",
        "\n",
        "\n",
        "\n",
        "\n"
      ],
      "metadata": {
        "colab": {
          "base_uri": "https://localhost:8080/"
        },
        "id": "H6oG5Wtr2NOo",
        "outputId": "73b021bc-7639-4739-b2c4-c3e78dfe34f8"
      },
      "execution_count": 18,
      "outputs": [
        {
          "output_type": "stream",
          "name": "stdout",
          "text": [
            "Germany, officially the Federal Republic of Germany (German: Bundesrepublik Deutschland), is a country in Central Europe. \n",
            "\n",
            "----------------------------------------------------------------------------------------------------------------------------------\n",
            "It is the most populous country in the European Union and the fourth-largest economy in the world by nominal GDP. \n",
            "\n",
            "----------------------------------------------------------------------------------------------------------------------------------\n",
            "Germany is bordered by Denmark to the north, Poland and the Czech Republic to the east, Austria to the southeast, and Switzerland to the south. \n",
            "\n",
            "----------------------------------------------------------------------------------------------------------------------------------\n",
            "To the west, it shares borders with France, Luxembourg, Belgium, and the Netherlands, while the Baltic Sea lies to the northeast and the North Sea to the northwest. \n",
            "\n",
            "----------------------------------------------------------------------------------------------------------------------------------\n",
            "The country has a rich history dating back to ancient times, with Germanic tribes being documented as early as the first century BCE. \n",
            "\n",
            "----------------------------------------------------------------------------------------------------------------------------------\n"
          ]
        }
      ]
    },
    {
      "cell_type": "markdown",
      "source": [
        "Lowering All words"
      ],
      "metadata": {
        "id": "nfE7CpzH28E0"
      }
    },
    {
      "cell_type": "code",
      "source": [
        "def lowercasing(word):\n",
        "  word =word.lower()\n",
        "for word in words:\n",
        "  lowercasing(word)\n",
        "vis = words\n",
        "print(words[:10])"
      ],
      "metadata": {
        "colab": {
          "base_uri": "https://localhost:8080/"
        },
        "id": "HAc5Bbmq2yOf",
        "outputId": "33afcb5b-231a-4145-ce45-67905a255c28"
      },
      "execution_count": 8,
      "outputs": [
        {
          "output_type": "stream",
          "name": "stdout",
          "text": [
            "['India', ',', 'officially', 'the', 'Republic', 'of', 'India', '(', 'Hindi', ':']\n"
          ]
        }
      ]
    },
    {
      "cell_type": "code",
      "source": [
        "contraction_mapping = {\n",
        "    \"ain't\": \"is not\", \"aren't\": \"are not\", \"can't\": \"cannot\", \"'cause\": \"because\", \"could've\": \"could have\", \"couldn't\": \"could not\",\"didn't\": \"did not\", \"doesn't\": \"does not\", \"don't\": \"do not\", \"hadn't\": \"had not\", \"hasn't\": \"has not\", \"haven't\": \"have not\",\"he'd\": \"he would\", \"he'll\": \"he will\", \"he's\": \"he is\", \"how'd\": \"how did\", \"how'd'y\": \"how do you\", \"how'll\": \"how will\", \"how's\": \"how is\",\n",
        "    \"I'd\": \"I would\", \"I'd've\": \"I would have\", \"I'll\": \"I will\", \"I'll've\": \"I will have\", \"I'm\": \"I am\", \"I've\": \"I have\", \"i'd\": \"i would\",\"i'd've\": \"i would have\", \"i'll\": \"i will\",  \"i'll've\": \"i will have\", \"i'm\": \"i am\", \"i've\": \"i have\", \"isn't\": \"is not\", \"it'd\": \"it would\",\"it'd've\": \"it would have\", \"it'll\": \"it will\", \"it'll've\": \"it will have\", \"it's\": \"it is\", \"let's\": \"let us\", \"ma'am\": \"madam\",\"mayn't\": \"may not\", \"might've\": \"might have\", \"mightn't\": \"might not\", \"mightn't've\": \"might not have\", \"must've\": \"must have\",\n",
        "    \"mustn't\": \"must not\", \"mustn't've\": \"must not have\", \"needn't\": \"need not\", \"needn't've\": \"need not have\", \"o'clock\": \"of the clock\",\"oughtn't\": \"ought not\", \"oughtn't've\": \"ought not have\", \"shan't\": \"shall not\", \"sha'n't\": \"shall not\", \"shan't've\": \"shall not have\",\"she'd\": \"she would\", \"she'd've\": \"she would have\", \"she'll\": \"she will\", \"she'll've\": \"she will have\", \"she's\": \"she is\",\n",
        "    \"should've\": \"should have\", \"shouldn't\": \"should not\", \"shouldn't've\": \"should not have\", \"so've\": \"so have\", \"so's\": \"so as\",\"this's\": \"this is\", \"that'd\": \"that would\", \"that'd've\": \"that would have\", \"that's\": \"that is\", \"there'd\": \"there would\",\"there'd've\": \"there would have\", \"there's\": \"there is\", \"here's\": \"here is\", \"they'd\": \"they would\", \"they'd've\": \"they would have\",\"they'll\": \"they will\", \"they'll've\": \"they will have\", \"they're\": \"they are\", \"they've\": \"they have\", \"to've\": \"to have\",\"wasn't\": \"was not\", \"we'd\": \"we would\", \"we'd've\": \"we would have\", \"we'll\": \"we will\", \"we'll've\": \"we will have\", \"we're\": \"we are\",\"we've\": \"we have\", \"weren't\": \"were not\", \"what'll\": \"what will\", \"what'll've\": \"what will have\", \"what're\": \"what are\",\n",
        "    \"what's\": \"what is\", \"what've\": \"what have\", \"when's\": \"when is\", \"when've\": \"when have\", \"where'd\": \"where did\", \"where's\": \"where is\",\"where've\": \"where have\", \"who'll\": \"who will\", \"who'll've\": \"who will have\", \"who's\": \"who is\", \"who've\": \"who have\",\"why's\": \"why is\", \"why've\": \"why have\", \"will've\": \"will have\", \"won't\": \"will not\", \"won't've\": \"will not have\",\"would've\": \"would have\", \"wouldn't\": \"would not\", \"wouldn't've\": \"would not have\", \"y'all\": \"you all\",\n",
        "    \"y'all'd\": \"you all would\", \"y'all'd've\": \"you all would have\", \"y'all're\": \"you all are\", \"y'all've\": \"you all have\",\n",
        "    \"you'd\": \"you would\", \"you'd've\": \"you would have\", \"you'll\": \"you will\", \"you'll've\": \"you will have\",\n",
        "    \"you're\": \"you are\", \"you've\": \"you have\"\n",
        "}\n",
        "\n",
        "def preprocess_text(words):\n",
        "  for contraction,expanded in contraction_mapping.items():\n",
        "    words = words.replace(contraction,expanded)\n",
        "\n",
        "for word in words:\n",
        "  preprocess_text(word)\n",
        "vis = words\n",
        "\n"
      ],
      "metadata": {
        "id": "A5w023Ol3TRe"
      },
      "execution_count": 10,
      "outputs": []
    },
    {
      "cell_type": "markdown",
      "source": [
        "Tokinization the text"
      ],
      "metadata": {
        "id": "ixhALSgW34qI"
      }
    },
    {
      "cell_type": "code",
      "source": [
        "stopwords = list(stopwords.words(\"english\"))+list(punctuation)+list([0,1,2,3,4,5,6,7,8,9])\n",
        "stopwords[-1]"
      ],
      "metadata": {
        "colab": {
          "base_uri": "https://localhost:8080/"
        },
        "id": "chQPCMvz32Sd",
        "outputId": "4feb7586-2d56-46f8-afd5-023d9e3b61d2"
      },
      "execution_count": 13,
      "outputs": [
        {
          "output_type": "execute_result",
          "data": {
            "text/plain": [
              "9"
            ]
          },
          "metadata": {},
          "execution_count": 13
        }
      ]
    },
    {
      "cell_type": "code",
      "source": [
        "without_stop = []\n",
        "def stopwords_removal(words):\n",
        "  if word not in stopwords:\n",
        "    without_stop.append(word)\n",
        "for word in words:\n",
        "  stopwords_removal(word)\n",
        "words = without_stop\n",
        "vis = words\n",
        "print(len(vis))\n",
        "vis2= list(set(vis))\n",
        "print(vis)\n"
      ],
      "metadata": {
        "colab": {
          "base_uri": "https://localhost:8080/"
        },
        "id": "VxFuA2eW4SjN",
        "outputId": "03260e0a-cd87-49b3-82ff-6df4571c2652"
      },
      "execution_count": 19,
      "outputs": [
        {
          "output_type": "stream",
          "name": "stdout",
          "text": [
            "194\n",
            "['Germany', 'officially', 'Federal', 'Republic', 'Germany', 'German', 'Bundesrepublik', 'Deutschland', 'country', 'Central', 'Europe', 'It', 'populous', 'country', 'European', 'Union', 'fourth-largest', 'economy', 'world', 'nominal', 'GDP', 'Germany', 'bordered', 'Denmark', 'north', 'Poland', 'Czech', 'Republic', 'east', 'Austria', 'southeast', 'Switzerland', 'south', 'To', 'west', 'shares', 'borders', 'France', 'Luxembourg', 'Belgium', 'Netherlands', 'Baltic', 'Sea', 'lies', 'northeast', 'North', 'Sea', 'northwest', 'The', 'country', 'rich', 'history', 'dating', 'back', 'ancient', 'times', 'Germanic', 'tribes', 'documented', 'early', 'first', 'century', 'BCE', 'The', 'Holy', 'Roman', 'Empire', 'established', '800', 'CE', 'played', 'significant', 'role', 'shaping', 'medieval', 'Europe', 'Thirty', 'Years', 'War', '1618–1648', 'left', 'region', 'fragmented', 'In', '19th', 'century', 'German', 'states', 'began', 'unify', 'culminating', 'formation', 'German', 'Empire', '1871', 'leadership', 'Prussia', 'Germany', 'rapidly', 'industrialized', 'became', 'major', 'world', 'power', 'Following', 'defeat', 'World', 'War', 'I', 'Germany', 'left', 'economically', 'politically', 'destabilized', 'leading', 'rise', 'Nazi', 'regime', 'Adolf', 'Hitler', \"'s\", 'leadership', 'World', 'War', 'II', 'resulted', 'widespread', 'destruction', 'Holocaust', 'eventual', 'division', 'Germany', 'West', 'East', 'Germany', 'Cold', 'War', 'In', '1990', 'following', 'fall', 'Berlin', 'Wall', 'collapse', 'Soviet', 'Union', 'Germany', 'reunified', 'single', 'country', 'Today', 'Germany', 'known', 'influential', 'role', 'European', 'Union', 'leadership', 'technological', 'innovation', 'environmental', 'policy', 'economic', 'stability', 'The', 'country', 'key', 'player', 'global', 'affairs', 'promoting', 'democracy', 'human', 'rights', 'multilateral', 'cooperation', 'across', 'various', 'international', 'organizations', 'Germany', \"'s\", 'diverse', 'culture', 'heritage', 'contributions', 'philosophy', 'science', 'arts', 'continue', 'shape', 'identity', 'world', 'stage']\n"
          ]
        }
      ]
    },
    {
      "cell_type": "code",
      "source": [
        "stemmed_words = []\n",
        "for word in words:\n",
        "    stemmed = stemmer.stem(word)\n",
        "    stemmed_words.append(stemmed)\n",
        "words = stemmed_words\n",
        "words[:10]"
      ],
      "metadata": {
        "colab": {
          "base_uri": "https://localhost:8080/"
        },
        "id": "MWWoWjZq49nE",
        "outputId": "2ee9708d-05c2-4219-f7f4-fb49b074b72f"
      },
      "execution_count": 20,
      "outputs": [
        {
          "output_type": "execute_result",
          "data": {
            "text/plain": [
              "['germani',\n",
              " 'offici',\n",
              " 'feder',\n",
              " 'republ',\n",
              " 'germani',\n",
              " 'german',\n",
              " 'bundesrepublik',\n",
              " 'deutschland',\n",
              " 'countri',\n",
              " 'central']"
            ]
          },
          "metadata": {},
          "execution_count": 20
        }
      ]
    },
    {
      "cell_type": "code",
      "source": [
        "lemmatized_words = []\n",
        "for word in words:\n",
        "    lemmatized_words.append(wordlemmatizer.lemmatize(word))\n",
        "words = lemmatized_words\n",
        "words[:10]"
      ],
      "metadata": {
        "colab": {
          "base_uri": "https://localhost:8080/"
        },
        "id": "hutK30MY6kLq",
        "outputId": "563c5496-a840-4d73-fe06-f7c31d696062"
      },
      "execution_count": 21,
      "outputs": [
        {
          "output_type": "execute_result",
          "data": {
            "text/plain": [
              "['germani',\n",
              " 'offici',\n",
              " 'feder',\n",
              " 'republ',\n",
              " 'germani',\n",
              " 'german',\n",
              " 'bundesrepublik',\n",
              " 'deutschland',\n",
              " 'countri',\n",
              " 'central']"
            ]
          },
          "metadata": {},
          "execution_count": 21
        }
      ]
    },
    {
      "cell_type": "code",
      "source": [
        "for i in sentences[ : 1]:\n",
        "    for w, t in pos_tag(words) :\n",
        "        print (f'Word :( {w :{7}} )    Type : (   {t :{5}} )    means : {spacy.explain(t)}')\n",
        "        print('...................................................................................................')\n",
        "\n",
        "    print(\"\\n########################################################################################################\\n\")\n"
      ],
      "metadata": {
        "colab": {
          "base_uri": "https://localhost:8080/"
        },
        "id": "Aa_tL3fk6mAx",
        "outputId": "1621d7f0-59be-4232-83a1-6aad1ab6c5ff"
      },
      "execution_count": 23,
      "outputs": [
        {
          "output_type": "stream",
          "name": "stdout",
          "text": [
            "Word :( germani )    Type : (   NN    )    means : noun, singular or mass\n",
            "...................................................................................................\n",
            "Word :( offici  )    Type : (   MD    )    means : verb, modal auxiliary\n",
            "...................................................................................................\n",
            "Word :( feder   )    Type : (   VB    )    means : verb, base form\n",
            "...................................................................................................\n",
            "Word :( republ  )    Type : (   NN    )    means : noun, singular or mass\n",
            "...................................................................................................\n",
            "Word :( germani )    Type : (   JJ    )    means : adjective (English), other noun-modifier (Chinese)\n",
            "...................................................................................................\n",
            "Word :( german  )    Type : (   JJ    )    means : adjective (English), other noun-modifier (Chinese)\n",
            "...................................................................................................\n",
            "Word :( bundesrepublik )    Type : (   NN    )    means : noun, singular or mass\n",
            "...................................................................................................\n",
            "Word :( deutschland )    Type : (   NN    )    means : noun, singular or mass\n",
            "...................................................................................................\n",
            "Word :( countri )    Type : (   JJ    )    means : adjective (English), other noun-modifier (Chinese)\n",
            "...................................................................................................\n",
            "Word :( central )    Type : (   JJ    )    means : adjective (English), other noun-modifier (Chinese)\n",
            "...................................................................................................\n",
            "Word :( europ   )    Type : (   NN    )    means : noun, singular or mass\n",
            "...................................................................................................\n",
            "Word :( it      )    Type : (   PRP   )    means : pronoun, personal\n",
            "...................................................................................................\n",
            "Word :( popul   )    Type : (   VBZ   )    means : verb, 3rd person singular present\n",
            "...................................................................................................\n",
            "Word :( countri )    Type : (   JJ    )    means : adjective (English), other noun-modifier (Chinese)\n",
            "...................................................................................................\n",
            "Word :( european )    Type : (   JJ    )    means : adjective (English), other noun-modifier (Chinese)\n",
            "...................................................................................................\n",
            "Word :( union   )    Type : (   NN    )    means : noun, singular or mass\n",
            "...................................................................................................\n",
            "Word :( fourth-largest )    Type : (   JJS   )    means : adjective, superlative\n",
            "...................................................................................................\n",
            "Word :( economi )    Type : (   JJ    )    means : adjective (English), other noun-modifier (Chinese)\n",
            "...................................................................................................\n",
            "Word :( world   )    Type : (   NN    )    means : noun, singular or mass\n",
            "...................................................................................................\n",
            "Word :( nomin   )    Type : (   NN    )    means : noun, singular or mass\n",
            "...................................................................................................\n",
            "Word :( gdp     )    Type : (   NN    )    means : noun, singular or mass\n",
            "...................................................................................................\n",
            "Word :( germani )    Type : (   NN    )    means : noun, singular or mass\n",
            "...................................................................................................\n",
            "Word :( border  )    Type : (   NN    )    means : noun, singular or mass\n",
            "...................................................................................................\n",
            "Word :( denmark )    Type : (   NN    )    means : noun, singular or mass\n",
            "...................................................................................................\n",
            "Word :( north   )    Type : (   JJ    )    means : adjective (English), other noun-modifier (Chinese)\n",
            "...................................................................................................\n",
            "Word :( poland  )    Type : (   NN    )    means : noun, singular or mass\n",
            "...................................................................................................\n",
            "Word :( czech   )    Type : (   NN    )    means : noun, singular or mass\n",
            "...................................................................................................\n",
            "Word :( republ  )    Type : (   NN    )    means : noun, singular or mass\n",
            "...................................................................................................\n",
            "Word :( east    )    Type : (   JJ    )    means : adjective (English), other noun-modifier (Chinese)\n",
            "...................................................................................................\n",
            "Word :( austria )    Type : (   NNS   )    means : noun, plural\n",
            "...................................................................................................\n",
            "Word :( southeast )    Type : (   VBD   )    means : verb, past tense\n",
            "...................................................................................................\n",
            "Word :( switzerland )    Type : (   NN    )    means : noun, singular or mass\n",
            "...................................................................................................\n",
            "Word :( south   )    Type : (   NN    )    means : noun, singular or mass\n",
            "...................................................................................................\n",
            "Word :( to      )    Type : (   TO    )    means : infinitival \"to\"\n",
            "...................................................................................................\n",
            "Word :( west    )    Type : (   JJS   )    means : adjective, superlative\n",
            "...................................................................................................\n",
            "Word :( share   )    Type : (   NN    )    means : noun, singular or mass\n",
            "...................................................................................................\n",
            "Word :( border  )    Type : (   NN    )    means : noun, singular or mass\n",
            "...................................................................................................\n",
            "Word :( franc   )    Type : (   NN    )    means : noun, singular or mass\n",
            "...................................................................................................\n",
            "Word :( luxembourg )    Type : (   NN    )    means : noun, singular or mass\n",
            "...................................................................................................\n",
            "Word :( belgium )    Type : (   NN    )    means : noun, singular or mass\n",
            "...................................................................................................\n",
            "Word :( netherland )    Type : (   VBP   )    means : verb, non-3rd person singular present\n",
            "...................................................................................................\n",
            "Word :( baltic  )    Type : (   JJ    )    means : adjective (English), other noun-modifier (Chinese)\n",
            "...................................................................................................\n",
            "Word :( sea     )    Type : (   NN    )    means : noun, singular or mass\n",
            "...................................................................................................\n",
            "Word :( lie     )    Type : (   NN    )    means : noun, singular or mass\n",
            "...................................................................................................\n",
            "Word :( northeast )    Type : (   JJ    )    means : adjective (English), other noun-modifier (Chinese)\n",
            "...................................................................................................\n",
            "Word :( north   )    Type : (   JJ    )    means : adjective (English), other noun-modifier (Chinese)\n",
            "...................................................................................................\n",
            "Word :( sea     )    Type : (   NN    )    means : noun, singular or mass\n",
            "...................................................................................................\n",
            "Word :( northwest )    Type : (   IN    )    means : conjunction, subordinating or preposition\n",
            "...................................................................................................\n",
            "Word :( the     )    Type : (   DT    )    means : determiner\n",
            "...................................................................................................\n",
            "Word :( countri )    Type : (   NN    )    means : noun, singular or mass\n",
            "...................................................................................................\n",
            "Word :( rich    )    Type : (   JJ    )    means : adjective (English), other noun-modifier (Chinese)\n",
            "...................................................................................................\n",
            "Word :( histori )    Type : (   NN    )    means : noun, singular or mass\n",
            "...................................................................................................\n",
            "Word :( date    )    Type : (   NN    )    means : noun, singular or mass\n",
            "...................................................................................................\n",
            "Word :( back    )    Type : (   RB    )    means : adverb\n",
            "...................................................................................................\n",
            "Word :( ancient )    Type : (   JJ    )    means : adjective (English), other noun-modifier (Chinese)\n",
            "...................................................................................................\n",
            "Word :( time    )    Type : (   NN    )    means : noun, singular or mass\n",
            "...................................................................................................\n",
            "Word :( german  )    Type : (   JJ    )    means : adjective (English), other noun-modifier (Chinese)\n",
            "...................................................................................................\n",
            "Word :( tribe   )    Type : (   NN    )    means : noun, singular or mass\n",
            "...................................................................................................\n",
            "Word :( document )    Type : (   NN    )    means : noun, singular or mass\n",
            "...................................................................................................\n",
            "Word :( earli   )    Type : (   NN    )    means : noun, singular or mass\n",
            "...................................................................................................\n",
            "Word :( first   )    Type : (   RB    )    means : adverb\n",
            "...................................................................................................\n",
            "Word :( centuri )    Type : (   VBZ   )    means : verb, 3rd person singular present\n",
            "...................................................................................................\n",
            "Word :( bce     )    Type : (   VB    )    means : verb, base form\n",
            "...................................................................................................\n",
            "Word :( the     )    Type : (   DT    )    means : determiner\n",
            "...................................................................................................\n",
            "Word :( holi    )    Type : (   NN    )    means : noun, singular or mass\n",
            "...................................................................................................\n",
            "Word :( roman   )    Type : (   NN    )    means : noun, singular or mass\n",
            "...................................................................................................\n",
            "Word :( empir   )    Type : (   VBD   )    means : verb, past tense\n",
            "...................................................................................................\n",
            "Word :( establish )    Type : (   VB    )    means : verb, base form\n",
            "...................................................................................................\n",
            "Word :( 800     )    Type : (   CD    )    means : cardinal number\n",
            "...................................................................................................\n",
            "Word :( ce      )    Type : (   JJ    )    means : adjective (English), other noun-modifier (Chinese)\n",
            "...................................................................................................\n",
            "Word :( play    )    Type : (   NN    )    means : noun, singular or mass\n",
            "...................................................................................................\n",
            "Word :( signific )    Type : (   JJ    )    means : adjective (English), other noun-modifier (Chinese)\n",
            "...................................................................................................\n",
            "Word :( role    )    Type : (   NN    )    means : noun, singular or mass\n",
            "...................................................................................................\n",
            "Word :( shape   )    Type : (   NN    )    means : noun, singular or mass\n",
            "...................................................................................................\n",
            "Word :( mediev  )    Type : (   FW    )    means : foreign word\n",
            "...................................................................................................\n",
            "Word :( europ   )    Type : (   NN    )    means : noun, singular or mass\n",
            "...................................................................................................\n",
            "Word :( thirti  )    Type : (   IN    )    means : conjunction, subordinating or preposition\n",
            "...................................................................................................\n",
            "Word :( year    )    Type : (   NN    )    means : noun, singular or mass\n",
            "...................................................................................................\n",
            "Word :( war     )    Type : (   NN    )    means : noun, singular or mass\n",
            "...................................................................................................\n",
            "Word :( 1618–1648 )    Type : (   CD    )    means : cardinal number\n",
            "...................................................................................................\n",
            "Word :( left    )    Type : (   VBD   )    means : verb, past tense\n",
            "...................................................................................................\n",
            "Word :( region  )    Type : (   NN    )    means : noun, singular or mass\n",
            "...................................................................................................\n",
            "Word :( fragment )    Type : (   NN    )    means : noun, singular or mass\n",
            "...................................................................................................\n",
            "Word :( in      )    Type : (   IN    )    means : conjunction, subordinating or preposition\n",
            "...................................................................................................\n",
            "Word :( 19th    )    Type : (   CD    )    means : cardinal number\n",
            "...................................................................................................\n",
            "Word :( centuri )    Type : (   JJ    )    means : adjective (English), other noun-modifier (Chinese)\n",
            "...................................................................................................\n",
            "Word :( german  )    Type : (   JJ    )    means : adjective (English), other noun-modifier (Chinese)\n",
            "...................................................................................................\n",
            "Word :( state   )    Type : (   NN    )    means : noun, singular or mass\n",
            "...................................................................................................\n",
            "Word :( began   )    Type : (   VBD   )    means : verb, past tense\n",
            "...................................................................................................\n",
            "Word :( unifi   )    Type : (   JJ    )    means : adjective (English), other noun-modifier (Chinese)\n",
            "...................................................................................................\n",
            "Word :( culmin  )    Type : (   NN    )    means : noun, singular or mass\n",
            "...................................................................................................\n",
            "Word :( format  )    Type : (   JJ    )    means : adjective (English), other noun-modifier (Chinese)\n",
            "...................................................................................................\n",
            "Word :( german  )    Type : (   JJ    )    means : adjective (English), other noun-modifier (Chinese)\n",
            "...................................................................................................\n",
            "Word :( empir   )    Type : (   NN    )    means : noun, singular or mass\n",
            "...................................................................................................\n",
            "Word :( 1871    )    Type : (   CD    )    means : cardinal number\n",
            "...................................................................................................\n",
            "Word :( leadership )    Type : (   NN    )    means : noun, singular or mass\n",
            "...................................................................................................\n",
            "Word :( prussia )    Type : (   NN    )    means : noun, singular or mass\n",
            "...................................................................................................\n",
            "Word :( germani )    Type : (   NN    )    means : noun, singular or mass\n",
            "...................................................................................................\n",
            "Word :( rapidli )    Type : (   NN    )    means : noun, singular or mass\n",
            "...................................................................................................\n",
            "Word :( industri )    Type : (   NN    )    means : noun, singular or mass\n",
            "...................................................................................................\n",
            "Word :( becam   )    Type : (   IN    )    means : conjunction, subordinating or preposition\n",
            "...................................................................................................\n",
            "Word :( major   )    Type : (   JJ    )    means : adjective (English), other noun-modifier (Chinese)\n",
            "...................................................................................................\n",
            "Word :( world   )    Type : (   NN    )    means : noun, singular or mass\n",
            "...................................................................................................\n",
            "Word :( power   )    Type : (   NN    )    means : noun, singular or mass\n",
            "...................................................................................................\n",
            "Word :( follow  )    Type : (   VBP   )    means : verb, non-3rd person singular present\n",
            "...................................................................................................\n",
            "Word :( defeat  )    Type : (   NN    )    means : noun, singular or mass\n",
            "...................................................................................................\n",
            "Word :( world   )    Type : (   NN    )    means : noun, singular or mass\n",
            "...................................................................................................\n",
            "Word :( war     )    Type : (   NN    )    means : noun, singular or mass\n",
            "...................................................................................................\n",
            "Word :( i       )    Type : (   NN    )    means : noun, singular or mass\n",
            "...................................................................................................\n",
            "Word :( germani )    Type : (   VBP   )    means : verb, non-3rd person singular present\n",
            "...................................................................................................\n",
            "Word :( left    )    Type : (   VBN   )    means : verb, past participle\n",
            "...................................................................................................\n",
            "Word :( econom  )    Type : (   JJ    )    means : adjective (English), other noun-modifier (Chinese)\n",
            "...................................................................................................\n",
            "Word :( polit   )    Type : (   NN    )    means : noun, singular or mass\n",
            "...................................................................................................\n",
            "Word :( destabil )    Type : (   NN    )    means : noun, singular or mass\n",
            "...................................................................................................\n",
            "Word :( lead    )    Type : (   VBP   )    means : verb, non-3rd person singular present\n",
            "...................................................................................................\n",
            "Word :( rise    )    Type : (   NN    )    means : noun, singular or mass\n",
            "...................................................................................................\n",
            "Word :( nazi    )    Type : (   JJ    )    means : adjective (English), other noun-modifier (Chinese)\n",
            "...................................................................................................\n",
            "Word :( regim   )    Type : (   NN    )    means : noun, singular or mass\n",
            "...................................................................................................\n",
            "Word :( adolf   )    Type : (   NN    )    means : noun, singular or mass\n",
            "...................................................................................................\n",
            "Word :( hitler  )    Type : (   NN    )    means : noun, singular or mass\n",
            "...................................................................................................\n",
            "Word :( 's      )    Type : (   POS   )    means : possessive ending\n",
            "...................................................................................................\n",
            "Word :( leadership )    Type : (   NN    )    means : noun, singular or mass\n",
            "...................................................................................................\n",
            "Word :( world   )    Type : (   NN    )    means : noun, singular or mass\n",
            "...................................................................................................\n",
            "Word :( war     )    Type : (   NN    )    means : noun, singular or mass\n",
            "...................................................................................................\n",
            "Word :( ii      )    Type : (   VBP   )    means : verb, non-3rd person singular present\n",
            "...................................................................................................\n",
            "Word :( result  )    Type : (   NN    )    means : noun, singular or mass\n",
            "...................................................................................................\n",
            "Word :( widespread )    Type : (   JJ    )    means : adjective (English), other noun-modifier (Chinese)\n",
            "...................................................................................................\n",
            "Word :( destruct )    Type : (   NN    )    means : noun, singular or mass\n",
            "...................................................................................................\n",
            "Word :( holocaust )    Type : (   NN    )    means : noun, singular or mass\n",
            "...................................................................................................\n",
            "Word :( eventu  )    Type : (   NN    )    means : noun, singular or mass\n",
            "...................................................................................................\n",
            "Word :( divis   )    Type : (   NN    )    means : noun, singular or mass\n",
            "...................................................................................................\n",
            "Word :( germani )    Type : (   NN    )    means : noun, singular or mass\n",
            "...................................................................................................\n",
            "Word :( west    )    Type : (   JJS   )    means : adjective, superlative\n",
            "...................................................................................................\n",
            "Word :( east    )    Type : (   JJ    )    means : adjective (English), other noun-modifier (Chinese)\n",
            "...................................................................................................\n",
            "Word :( germani )    Type : (   JJ    )    means : adjective (English), other noun-modifier (Chinese)\n",
            "...................................................................................................\n",
            "Word :( cold    )    Type : (   JJ    )    means : adjective (English), other noun-modifier (Chinese)\n",
            "...................................................................................................\n",
            "Word :( war     )    Type : (   NN    )    means : noun, singular or mass\n",
            "...................................................................................................\n",
            "Word :( in      )    Type : (   IN    )    means : conjunction, subordinating or preposition\n",
            "...................................................................................................\n",
            "Word :( 1990    )    Type : (   CD    )    means : cardinal number\n",
            "...................................................................................................\n",
            "Word :( follow  )    Type : (   JJ    )    means : adjective (English), other noun-modifier (Chinese)\n",
            "...................................................................................................\n",
            "Word :( fall    )    Type : (   NN    )    means : noun, singular or mass\n",
            "...................................................................................................\n",
            "Word :( berlin  )    Type : (   NN    )    means : noun, singular or mass\n",
            "...................................................................................................\n",
            "Word :( wall    )    Type : (   NN    )    means : noun, singular or mass\n",
            "...................................................................................................\n",
            "Word :( collaps )    Type : (   VBZ   )    means : verb, 3rd person singular present\n",
            "...................................................................................................\n",
            "Word :( soviet  )    Type : (   JJ    )    means : adjective (English), other noun-modifier (Chinese)\n",
            "...................................................................................................\n",
            "Word :( union   )    Type : (   NN    )    means : noun, singular or mass\n",
            "...................................................................................................\n",
            "Word :( germani )    Type : (   NN    )    means : noun, singular or mass\n",
            "...................................................................................................\n",
            "Word :( reunifi )    Type : (   VBP   )    means : verb, non-3rd person singular present\n",
            "...................................................................................................\n",
            "Word :( singl   )    Type : (   NN    )    means : noun, singular or mass\n",
            "...................................................................................................\n",
            "Word :( countri )    Type : (   NN    )    means : noun, singular or mass\n",
            "...................................................................................................\n",
            "Word :( today   )    Type : (   NN    )    means : noun, singular or mass\n",
            "...................................................................................................\n",
            "Word :( germani )    Type : (   VBP   )    means : verb, non-3rd person singular present\n",
            "...................................................................................................\n",
            "Word :( known   )    Type : (   VBN   )    means : verb, past participle\n",
            "...................................................................................................\n",
            "Word :( influenti )    Type : (   JJ    )    means : adjective (English), other noun-modifier (Chinese)\n",
            "...................................................................................................\n",
            "Word :( role    )    Type : (   NN    )    means : noun, singular or mass\n",
            "...................................................................................................\n",
            "Word :( european )    Type : (   JJ    )    means : adjective (English), other noun-modifier (Chinese)\n",
            "...................................................................................................\n",
            "Word :( union   )    Type : (   NN    )    means : noun, singular or mass\n",
            "...................................................................................................\n",
            "Word :( leadership )    Type : (   NN    )    means : noun, singular or mass\n",
            "...................................................................................................\n",
            "Word :( technolog )    Type : (   NN    )    means : noun, singular or mass\n",
            "...................................................................................................\n",
            "Word :( innov   )    Type : (   NN    )    means : noun, singular or mass\n",
            "...................................................................................................\n",
            "Word :( environment )    Type : (   NN    )    means : noun, singular or mass\n",
            "...................................................................................................\n",
            "Word :( polici  )    Type : (   NN    )    means : noun, singular or mass\n",
            "...................................................................................................\n",
            "Word :( econom  )    Type : (   NN    )    means : noun, singular or mass\n",
            "...................................................................................................\n",
            "Word :( stabil  )    Type : (   VBD   )    means : verb, past tense\n",
            "...................................................................................................\n",
            "Word :( the     )    Type : (   DT    )    means : determiner\n",
            "...................................................................................................\n",
            "Word :( countri )    Type : (   NN    )    means : noun, singular or mass\n",
            "...................................................................................................\n",
            "Word :( key     )    Type : (   NN    )    means : noun, singular or mass\n",
            "...................................................................................................\n",
            "Word :( player  )    Type : (   NN    )    means : noun, singular or mass\n",
            "...................................................................................................\n",
            "Word :( global  )    Type : (   JJ    )    means : adjective (English), other noun-modifier (Chinese)\n",
            "...................................................................................................\n",
            "Word :( affair  )    Type : (   NN    )    means : noun, singular or mass\n",
            "...................................................................................................\n",
            "Word :( promot  )    Type : (   NN    )    means : noun, singular or mass\n",
            "...................................................................................................\n",
            "Word :( democraci )    Type : (   NN    )    means : noun, singular or mass\n",
            "...................................................................................................\n",
            "Word :( human   )    Type : (   JJ    )    means : adjective (English), other noun-modifier (Chinese)\n",
            "...................................................................................................\n",
            "Word :( right   )    Type : (   NN    )    means : noun, singular or mass\n",
            "...................................................................................................\n",
            "Word :( multilater )    Type : (   NN    )    means : noun, singular or mass\n",
            "...................................................................................................\n",
            "Word :( cooper  )    Type : (   NN    )    means : noun, singular or mass\n",
            "...................................................................................................\n",
            "Word :( across  )    Type : (   IN    )    means : conjunction, subordinating or preposition\n",
            "...................................................................................................\n",
            "Word :( variou  )    Type : (   NN    )    means : noun, singular or mass\n",
            "...................................................................................................\n",
            "Word :( intern  )    Type : (   JJ    )    means : adjective (English), other noun-modifier (Chinese)\n",
            "...................................................................................................\n",
            "Word :( organ   )    Type : (   JJ    )    means : adjective (English), other noun-modifier (Chinese)\n",
            "...................................................................................................\n",
            "Word :( germani )    Type : (   NN    )    means : noun, singular or mass\n",
            "...................................................................................................\n",
            "Word :( 's      )    Type : (   POS   )    means : possessive ending\n",
            "...................................................................................................\n",
            "Word :( diver   )    Type : (   NN    )    means : noun, singular or mass\n",
            "...................................................................................................\n",
            "Word :( cultur  )    Type : (   NN    )    means : noun, singular or mass\n",
            "...................................................................................................\n",
            "Word :( heritag )    Type : (   NN    )    means : noun, singular or mass\n",
            "...................................................................................................\n",
            "Word :( contribut )    Type : (   NN    )    means : noun, singular or mass\n",
            "...................................................................................................\n",
            "Word :( philosophi )    Type : (   NN    )    means : noun, singular or mass\n",
            "...................................................................................................\n",
            "Word :( scienc  )    Type : (   JJ    )    means : adjective (English), other noun-modifier (Chinese)\n",
            "...................................................................................................\n",
            "Word :( art     )    Type : (   NN    )    means : noun, singular or mass\n",
            "...................................................................................................\n",
            "Word :( continu )    Type : (   NN    )    means : noun, singular or mass\n",
            "...................................................................................................\n",
            "Word :( shape   )    Type : (   NN    )    means : noun, singular or mass\n",
            "...................................................................................................\n",
            "Word :( ident   )    Type : (   JJ    )    means : adjective (English), other noun-modifier (Chinese)\n",
            "...................................................................................................\n",
            "Word :( world   )    Type : (   NN    )    means : noun, singular or mass\n",
            "...................................................................................................\n",
            "Word :( stage   )    Type : (   NN    )    means : noun, singular or mass\n",
            "...................................................................................................\n",
            "\n",
            "########################################################################################################\n",
            "\n"
          ]
        }
      ]
    },
    {
      "cell_type": "code",
      "source": [
        "# Extract the first 5 sentences from the sentences list\n",
        "SUMMARY = nlp(' '.join(words[:10]))\n",
        "#Render the named entities visualization\n",
        "displacy.render(SUMMARY, style='ent', jupyter=True, options={'distance': 90})"
      ],
      "metadata": {
        "colab": {
          "base_uri": "https://localhost:8080/",
          "height": 52
        },
        "id": "OEypWyFA6oh8",
        "outputId": "d61d0e3e-30e8-4fb5-e038-c52efb2570d3"
      },
      "execution_count": 24,
      "outputs": [
        {
          "output_type": "display_data",
          "data": {
            "text/plain": [
              "<IPython.core.display.HTML object>"
            ],
            "text/html": [
              "<span class=\"tex2jax_ignore\"><div class=\"entities\" style=\"line-height: 2.5; direction: ltr\">\n",
              "<mark class=\"entity\" style=\"background: #aa9cfc; padding: 0.45em 0.6em; margin: 0 0.25em; line-height: 1; border-radius: 0.35em;\">\n",
              "    germani offici feder\n",
              "    <span style=\"font-size: 0.8em; font-weight: bold; line-height: 1; border-radius: 0.35em; vertical-align: middle; margin-left: 0.5rem\">PERSON</span>\n",
              "</mark>\n",
              " republ \n",
              "<mark class=\"entity\" style=\"background: #7aecec; padding: 0.45em 0.6em; margin: 0 0.25em; line-height: 1; border-radius: 0.35em;\">\n",
              "    germani german bundesrepublik\n",
              "    <span style=\"font-size: 0.8em; font-weight: bold; line-height: 1; border-radius: 0.35em; vertical-align: middle; margin-left: 0.5rem\">ORG</span>\n",
              "</mark>\n",
              " deutschland countri central</div></span>"
            ]
          },
          "metadata": {}
        }
      ]
    },
    {
      "cell_type": "code",
      "source": [
        "# Extract the first 5 sentences from the sentences list\n",
        "SUMMARY = nlp(' '.join(words[:10]))\n",
        "#Render the named entities visualization\n",
        "displacy.render(SUMMARY, style='dep', jupyter=True, options={'distance': 90})"
      ],
      "metadata": {
        "colab": {
          "base_uri": "https://localhost:8080/",
          "height": 248
        },
        "id": "NGD4J75H6_XD",
        "outputId": "2821d20f-c038-463f-980a-f5919e39d7db"
      },
      "execution_count": 25,
      "outputs": [
        {
          "output_type": "display_data",
          "data": {
            "text/plain": [
              "<IPython.core.display.HTML object>"
            ],
            "text/html": [
              "<span class=\"tex2jax_ignore\"><svg xmlns=\"http://www.w3.org/2000/svg\" xmlns:xlink=\"http://www.w3.org/1999/xlink\" xml:lang=\"en\" id=\"e9e5177ebb644436b9c18adea6913fa6-0\" class=\"displacy\" width=\"950\" height=\"227.0\" direction=\"ltr\" style=\"max-width: none; height: 227.0px; color: #000000; background: #ffffff; font-family: Arial; direction: ltr\">\n",
              "<text class=\"displacy-token\" fill=\"currentColor\" text-anchor=\"middle\" y=\"137.0\">\n",
              "    <tspan class=\"displacy-word\" fill=\"currentColor\" x=\"50\">germani</tspan>\n",
              "    <tspan class=\"displacy-tag\" dy=\"2em\" fill=\"currentColor\" x=\"50\">PROPN</tspan>\n",
              "</text>\n",
              "\n",
              "<text class=\"displacy-token\" fill=\"currentColor\" text-anchor=\"middle\" y=\"137.0\">\n",
              "    <tspan class=\"displacy-word\" fill=\"currentColor\" x=\"140\">offici</tspan>\n",
              "    <tspan class=\"displacy-tag\" dy=\"2em\" fill=\"currentColor\" x=\"140\">PROPN</tspan>\n",
              "</text>\n",
              "\n",
              "<text class=\"displacy-token\" fill=\"currentColor\" text-anchor=\"middle\" y=\"137.0\">\n",
              "    <tspan class=\"displacy-word\" fill=\"currentColor\" x=\"230\">feder</tspan>\n",
              "    <tspan class=\"displacy-tag\" dy=\"2em\" fill=\"currentColor\" x=\"230\">PROPN</tspan>\n",
              "</text>\n",
              "\n",
              "<text class=\"displacy-token\" fill=\"currentColor\" text-anchor=\"middle\" y=\"137.0\">\n",
              "    <tspan class=\"displacy-word\" fill=\"currentColor\" x=\"320\">republ</tspan>\n",
              "    <tspan class=\"displacy-tag\" dy=\"2em\" fill=\"currentColor\" x=\"320\">PROPN</tspan>\n",
              "</text>\n",
              "\n",
              "<text class=\"displacy-token\" fill=\"currentColor\" text-anchor=\"middle\" y=\"137.0\">\n",
              "    <tspan class=\"displacy-word\" fill=\"currentColor\" x=\"410\">germani</tspan>\n",
              "    <tspan class=\"displacy-tag\" dy=\"2em\" fill=\"currentColor\" x=\"410\">PROPN</tspan>\n",
              "</text>\n",
              "\n",
              "<text class=\"displacy-token\" fill=\"currentColor\" text-anchor=\"middle\" y=\"137.0\">\n",
              "    <tspan class=\"displacy-word\" fill=\"currentColor\" x=\"500\">german</tspan>\n",
              "    <tspan class=\"displacy-tag\" dy=\"2em\" fill=\"currentColor\" x=\"500\">PROPN</tspan>\n",
              "</text>\n",
              "\n",
              "<text class=\"displacy-token\" fill=\"currentColor\" text-anchor=\"middle\" y=\"137.0\">\n",
              "    <tspan class=\"displacy-word\" fill=\"currentColor\" x=\"590\">bundesrepublik</tspan>\n",
              "    <tspan class=\"displacy-tag\" dy=\"2em\" fill=\"currentColor\" x=\"590\">PROPN</tspan>\n",
              "</text>\n",
              "\n",
              "<text class=\"displacy-token\" fill=\"currentColor\" text-anchor=\"middle\" y=\"137.0\">\n",
              "    <tspan class=\"displacy-word\" fill=\"currentColor\" x=\"680\">deutschland</tspan>\n",
              "    <tspan class=\"displacy-tag\" dy=\"2em\" fill=\"currentColor\" x=\"680\">PROPN</tspan>\n",
              "</text>\n",
              "\n",
              "<text class=\"displacy-token\" fill=\"currentColor\" text-anchor=\"middle\" y=\"137.0\">\n",
              "    <tspan class=\"displacy-word\" fill=\"currentColor\" x=\"770\">countri</tspan>\n",
              "    <tspan class=\"displacy-tag\" dy=\"2em\" fill=\"currentColor\" x=\"770\">ADJ</tspan>\n",
              "</text>\n",
              "\n",
              "<text class=\"displacy-token\" fill=\"currentColor\" text-anchor=\"middle\" y=\"137.0\">\n",
              "    <tspan class=\"displacy-word\" fill=\"currentColor\" x=\"860\">central</tspan>\n",
              "    <tspan class=\"displacy-tag\" dy=\"2em\" fill=\"currentColor\" x=\"860\">ADJ</tspan>\n",
              "</text>\n",
              "\n",
              "<g class=\"displacy-arrow\">\n",
              "    <path class=\"displacy-arc\" id=\"arrow-e9e5177ebb644436b9c18adea6913fa6-0-0\" stroke-width=\"2px\" d=\"M70,92.0 C70,2.0 230.0,2.0 230.0,92.0\" fill=\"none\" stroke=\"currentColor\"/>\n",
              "    <text dy=\"1.25em\" style=\"font-size: 0.8em; letter-spacing: 1px\">\n",
              "        <textPath xlink:href=\"#arrow-e9e5177ebb644436b9c18adea6913fa6-0-0\" class=\"displacy-label\" startOffset=\"50%\" side=\"left\" fill=\"currentColor\" text-anchor=\"middle\">compound</textPath>\n",
              "    </text>\n",
              "    <path class=\"displacy-arrowhead\" d=\"M70,94.0 L62,82.0 78,82.0\" fill=\"currentColor\"/>\n",
              "</g>\n",
              "\n",
              "<g class=\"displacy-arrow\">\n",
              "    <path class=\"displacy-arc\" id=\"arrow-e9e5177ebb644436b9c18adea6913fa6-0-1\" stroke-width=\"2px\" d=\"M160,92.0 C160,47.0 225.0,47.0 225.0,92.0\" fill=\"none\" stroke=\"currentColor\"/>\n",
              "    <text dy=\"1.25em\" style=\"font-size: 0.8em; letter-spacing: 1px\">\n",
              "        <textPath xlink:href=\"#arrow-e9e5177ebb644436b9c18adea6913fa6-0-1\" class=\"displacy-label\" startOffset=\"50%\" side=\"left\" fill=\"currentColor\" text-anchor=\"middle\">compound</textPath>\n",
              "    </text>\n",
              "    <path class=\"displacy-arrowhead\" d=\"M160,94.0 L152,82.0 168,82.0\" fill=\"currentColor\"/>\n",
              "</g>\n",
              "\n",
              "<g class=\"displacy-arrow\">\n",
              "    <path class=\"displacy-arc\" id=\"arrow-e9e5177ebb644436b9c18adea6913fa6-0-2\" stroke-width=\"2px\" d=\"M250,92.0 C250,47.0 315.0,47.0 315.0,92.0\" fill=\"none\" stroke=\"currentColor\"/>\n",
              "    <text dy=\"1.25em\" style=\"font-size: 0.8em; letter-spacing: 1px\">\n",
              "        <textPath xlink:href=\"#arrow-e9e5177ebb644436b9c18adea6913fa6-0-2\" class=\"displacy-label\" startOffset=\"50%\" side=\"left\" fill=\"currentColor\" text-anchor=\"middle\">compound</textPath>\n",
              "    </text>\n",
              "    <path class=\"displacy-arrowhead\" d=\"M250,94.0 L242,82.0 258,82.0\" fill=\"currentColor\"/>\n",
              "</g>\n",
              "\n",
              "<g class=\"displacy-arrow\">\n",
              "    <path class=\"displacy-arc\" id=\"arrow-e9e5177ebb644436b9c18adea6913fa6-0-3\" stroke-width=\"2px\" d=\"M340,92.0 C340,2.0 500.0,2.0 500.0,92.0\" fill=\"none\" stroke=\"currentColor\"/>\n",
              "    <text dy=\"1.25em\" style=\"font-size: 0.8em; letter-spacing: 1px\">\n",
              "        <textPath xlink:href=\"#arrow-e9e5177ebb644436b9c18adea6913fa6-0-3\" class=\"displacy-label\" startOffset=\"50%\" side=\"left\" fill=\"currentColor\" text-anchor=\"middle\">compound</textPath>\n",
              "    </text>\n",
              "    <path class=\"displacy-arrowhead\" d=\"M340,94.0 L332,82.0 348,82.0\" fill=\"currentColor\"/>\n",
              "</g>\n",
              "\n",
              "<g class=\"displacy-arrow\">\n",
              "    <path class=\"displacy-arc\" id=\"arrow-e9e5177ebb644436b9c18adea6913fa6-0-4\" stroke-width=\"2px\" d=\"M430,92.0 C430,47.0 495.0,47.0 495.0,92.0\" fill=\"none\" stroke=\"currentColor\"/>\n",
              "    <text dy=\"1.25em\" style=\"font-size: 0.8em; letter-spacing: 1px\">\n",
              "        <textPath xlink:href=\"#arrow-e9e5177ebb644436b9c18adea6913fa6-0-4\" class=\"displacy-label\" startOffset=\"50%\" side=\"left\" fill=\"currentColor\" text-anchor=\"middle\">compound</textPath>\n",
              "    </text>\n",
              "    <path class=\"displacy-arrowhead\" d=\"M430,94.0 L422,82.0 438,82.0\" fill=\"currentColor\"/>\n",
              "</g>\n",
              "\n",
              "<g class=\"displacy-arrow\">\n",
              "    <path class=\"displacy-arc\" id=\"arrow-e9e5177ebb644436b9c18adea6913fa6-0-5\" stroke-width=\"2px\" d=\"M520,92.0 C520,2.0 680.0,2.0 680.0,92.0\" fill=\"none\" stroke=\"currentColor\"/>\n",
              "    <text dy=\"1.25em\" style=\"font-size: 0.8em; letter-spacing: 1px\">\n",
              "        <textPath xlink:href=\"#arrow-e9e5177ebb644436b9c18adea6913fa6-0-5\" class=\"displacy-label\" startOffset=\"50%\" side=\"left\" fill=\"currentColor\" text-anchor=\"middle\">compound</textPath>\n",
              "    </text>\n",
              "    <path class=\"displacy-arrowhead\" d=\"M520,94.0 L512,82.0 528,82.0\" fill=\"currentColor\"/>\n",
              "</g>\n",
              "\n",
              "<g class=\"displacy-arrow\">\n",
              "    <path class=\"displacy-arc\" id=\"arrow-e9e5177ebb644436b9c18adea6913fa6-0-6\" stroke-width=\"2px\" d=\"M610,92.0 C610,47.0 675.0,47.0 675.0,92.0\" fill=\"none\" stroke=\"currentColor\"/>\n",
              "    <text dy=\"1.25em\" style=\"font-size: 0.8em; letter-spacing: 1px\">\n",
              "        <textPath xlink:href=\"#arrow-e9e5177ebb644436b9c18adea6913fa6-0-6\" class=\"displacy-label\" startOffset=\"50%\" side=\"left\" fill=\"currentColor\" text-anchor=\"middle\">compound</textPath>\n",
              "    </text>\n",
              "    <path class=\"displacy-arrowhead\" d=\"M610,94.0 L602,82.0 618,82.0\" fill=\"currentColor\"/>\n",
              "</g>\n",
              "\n",
              "<g class=\"displacy-arrow\">\n",
              "    <path class=\"displacy-arc\" id=\"arrow-e9e5177ebb644436b9c18adea6913fa6-0-7\" stroke-width=\"2px\" d=\"M700,92.0 C700,2.0 860.0,2.0 860.0,92.0\" fill=\"none\" stroke=\"currentColor\"/>\n",
              "    <text dy=\"1.25em\" style=\"font-size: 0.8em; letter-spacing: 1px\">\n",
              "        <textPath xlink:href=\"#arrow-e9e5177ebb644436b9c18adea6913fa6-0-7\" class=\"displacy-label\" startOffset=\"50%\" side=\"left\" fill=\"currentColor\" text-anchor=\"middle\">nsubj</textPath>\n",
              "    </text>\n",
              "    <path class=\"displacy-arrowhead\" d=\"M700,94.0 L692,82.0 708,82.0\" fill=\"currentColor\"/>\n",
              "</g>\n",
              "\n",
              "<g class=\"displacy-arrow\">\n",
              "    <path class=\"displacy-arc\" id=\"arrow-e9e5177ebb644436b9c18adea6913fa6-0-8\" stroke-width=\"2px\" d=\"M790,92.0 C790,47.0 855.0,47.0 855.0,92.0\" fill=\"none\" stroke=\"currentColor\"/>\n",
              "    <text dy=\"1.25em\" style=\"font-size: 0.8em; letter-spacing: 1px\">\n",
              "        <textPath xlink:href=\"#arrow-e9e5177ebb644436b9c18adea6913fa6-0-8\" class=\"displacy-label\" startOffset=\"50%\" side=\"left\" fill=\"currentColor\" text-anchor=\"middle\">amod</textPath>\n",
              "    </text>\n",
              "    <path class=\"displacy-arrowhead\" d=\"M790,94.0 L782,82.0 798,82.0\" fill=\"currentColor\"/>\n",
              "</g>\n",
              "</svg></span>"
            ]
          },
          "metadata": {}
        }
      ]
    },
    {
      "cell_type": "code",
      "source": [
        "num_words = len(vis)\n",
        "\n",
        "num_unique_words = len(set(vis2))\n",
        "labels = ['Unique Words', 'Repeated Words']\n",
        "sizes = [num_unique_words, num_words - num_unique_words]\n",
        "\n",
        "colors = ['#FF6F61', '#6B5B95']\n",
        "\n",
        "plt.figure(figsize=(8, 8))\n",
        "plt.pie(sizes, labels=labels, colors=colors, autopct='%1.1f%%', startangle=140)\n",
        "plt.axis('equal')\n",
        "plt.title('Distribution of Words')\n",
        "plt.show()\n",
        "\n",
        "print(f'The number of words in text is: {num_words} and Vocabulary size is: {num_unique_words}')\n"
      ],
      "metadata": {
        "colab": {
          "base_uri": "https://localhost:8080/",
          "height": 692
        },
        "id": "BzjxRRkt7CKR",
        "outputId": "fb7ac200-7a20-483d-d9db-be217b563d7b"
      },
      "execution_count": 28,
      "outputs": [
        {
          "output_type": "display_data",
          "data": {
            "text/plain": [
              "<Figure size 800x800 with 1 Axes>"
            ],
            "image/png": "[encoded data removed]"
          },
          "metadata": {}
        },
        {
          "output_type": "stream",
          "name": "stdout",
          "text": [
            "The number of words in text is: 194 and Vocabulary size is: 157\n"
          ]
        }
      ]
    },
    {
      "cell_type": "code",
      "source": [],
      "metadata": {
        "id": "DBLcaChI7Jvp"
      },
      "execution_count": null,
      "outputs": []
    }
  ]
}