{
  "nbformat": 4,
  "nbformat_minor": 0,
  "metadata": {
    "colab": {
      "provenance": []
    },
    "kernelspec": {
      "name": "python3",
      "display_name": "Python 3"
    },
    "language_info": {
      "name": "python"
    }
  },
  "cells": [
    {
      "cell_type": "code",
      "source": [
        "\n",
        "# IMPORTANT: RUN THIS CELL IN ORDER TO IMPORT YOUR KAGGLE DATA SOURCES\n",
        "# TO THE CORRECT LOCATION (/kaggle/input) IN YOUR NOTEBOOK,\n",
        "# THEN FEEL FREE TO DELETE THIS CELL.\n",
        "# NOTE: THIS NOTEBOOK ENVIRONMENT DIFFERS FROM KAGGLE'S PYTHON\n",
        "# ENVIRONMENT SO THERE MAY BE MISSING LIBRARIES USED BY YOUR\n",
        "# NOTEBOOK.\n",
        "\n",
        "import os\n",
        "import sys\n",
        "from tempfile import NamedTemporaryFile\n",
        "from urllib.request import urlopen\n",
        "from urllib.parse import unquote, urlparse\n",
        "from urllib.error import HTTPError\n",
        "from zipfile import ZipFile\n",
        "import tarfile\n",
        "import shutil\n",
        "\n",
        "CHUNK_SIZE = 40960\n",
        "DATA_SOURCE_MAPPING = 'digit-recognizer:https%3A%2F%2Fstorage.googleapis.com%2Fkaggle-competitions-data%2Fkaggle-v2%2F3004%2F861823%2Fbundle%2Farchive.zip%3FX-Goog-Algorithm%3DGOOG4-RSA-SHA256%26X-Goog-Credential%3Dgcp-kaggle-com%2540kaggle-161607.iam.gserviceaccount.com%252F20241012%252Fauto%252Fstorage%252Fgoog4_request%26X-Goog-Date%3D20241012T232630Z%26X-Goog-Expires%3D259200%26X-Goog-SignedHeaders%3Dhost%26X-Goog-Signature%3D49f097b710dc8ebf2a70355110986ce7d277fd2c12d49cdf7a56eef4f7b5602a5330c6ea417829e583897958d7c0f9eeabeea489fe389d883baca9f28b86be44864e39cd13df5bc73a0c3949a7e1cffd691c3fe0f0dae1fb6b5452147d71f3f1989ebb0d80e27ccb9960223bb31eda2ed0961b05af2bd12fefaf95f7db329606c126ce29d6367af8069945ed454bf0f1574fb34d08c5d2efb8d6872d9db8565526c706192be9bd55bf3dadca8b67ae70f5c70d8653cbb91a8afea4f79bb77b5c5ceb83046c04860ed599608b35a40c2ceba5247936adb49c82c17ac367aed0fc7287be0e4178aee8725f8b94e050468ffc832faafc6a34ccbac1ba85b1ff9790,machine-learning-architecture-diagrams:https%3A%2F%2Fstorage.googleapis.com%2Fkaggle-data-sets%2F3438321%2F6163475%2Fbundle%2Farchive.zip%3FX-Goog-Algorithm%3DGOOG4-RSA-SHA256%26X-Goog-Credential%3Dgcp-kaggle-com%2540kaggle-161607.iam.gserviceaccount.com%252F20241012%252Fauto%252Fstorage%252Fgoog4_request%26X-Goog-Date%3D20241012T232630Z%26X-Goog-Expires%3D259200%26X-Goog-SignedHeaders%3Dhost%26X-Goog-Signature%3D7c7679ff001656fa0c834bf8ec981d142b4c6ac5289e3f2d52d40a4f48268c023ea2c5083edf85408ff8da3f9827f16fa18224b011fb5be82ffe7707990c86da73770dc7e949fb70f4742ff9488c1f1482f972441a205d63c983ed5b629ac085aba686510802b77d8e6dd5c7bd5254f607ddfc19dc8fe50314600b35019f40d5c17732ec46b75e157d46528948c2e4384ec995840b990422f4d35886a3ad22393a20505e2560ef68a780f08694a8cc2a88631e9e7e07ec1c8e5d2ad91de5ed5fcf526853bcc5f6042913ff843f0b3c4903aacff9a05da7a605d5d35fe34de851c5bcd60403523bf632ab6487fdffc0b1c1369947331633dbe4b7378d1b74262c'\n",
        "\n",
        "KAGGLE_INPUT_PATH='/kaggle/input'\n",
        "KAGGLE_WORKING_PATH='/kaggle/working'\n",
        "KAGGLE_SYMLINK='kaggle'\n",
        "\n",
        "!umount /kaggle/input/ 2> /dev/null\n",
        "shutil.rmtree('/kaggle/input', ignore_errors=True)\n",
        "os.makedirs(KAGGLE_INPUT_PATH, 0o777, exist_ok=True)\n",
        "os.makedirs(KAGGLE_WORKING_PATH, 0o777, exist_ok=True)\n",
        "\n",
        "try:\n",
        "  os.symlink(KAGGLE_INPUT_PATH, os.path.join(\"..\", 'input'), target_is_directory=True)\n",
        "except FileExistsError:\n",
        "  pass\n",
        "try:\n",
        "  os.symlink(KAGGLE_WORKING_PATH, os.path.join(\"..\", 'working'), target_is_directory=True)\n",
        "except FileExistsError:\n",
        "  pass\n",
        "\n",
        "for data_source_mapping in DATA_SOURCE_MAPPING.split(','):\n",
        "    directory, download_url_encoded = data_source_mapping.split(':')\n",
        "    download_url = unquote(download_url_encoded)\n",
        "    filename = urlparse(download_url).path\n",
        "    destination_path = os.path.join(KAGGLE_INPUT_PATH, directory)\n",
        "    try:\n",
        "        with urlopen(download_url) as fileres, NamedTemporaryFile() as tfile:\n",
        "            total_length = fileres.headers['content-length']\n",
        "            print(f'Downloading {directory}, {total_length} bytes compressed')\n",
        "            dl = 0\n",
        "            data = fileres.read(CHUNK_SIZE)\n",
        "            while len(data) > 0:\n",
        "                dl += len(data)\n",
        "                tfile.write(data)\n",
        "                done = int(50 * dl / int(total_length))\n",
        "                sys.stdout.write(f\"\\r[{'=' * done}{' ' * (50-done)}] {dl} bytes downloaded\")\n",
        "                sys.stdout.flush()\n",
        "                data = fileres.read(CHUNK_SIZE)\n",
        "            if filename.endswith('.zip'):\n",
        "              with ZipFile(tfile) as zfile:\n",
        "                zfile.extractall(destination_path)\n",
        "            else:\n",
        "              with tarfile.open(tfile.name) as tarfile:\n",
        "                tarfile.extractall(destination_path)\n",
        "            print(f'\\nDownloaded and uncompressed: {directory}')\n",
        "    except HTTPError as e:\n",
        "        print(f'Failed to load (likely expired) {download_url} to path {destination_path}')\n",
        "        continue\n",
        "    except OSError as e:\n",
        "        print(f'Failed to load {download_url} to path {destination_path}')\n",
        "        continue\n",
        "\n",
        "print('Data source import complete.')\n"
      ],
      "metadata": {
        "colab": {
          "base_uri": "https://localhost:8080/"
        },
        "id": "qoXVeHsRJ5VX",
        "outputId": "e8dda91a-4f10-44e8-8af5-9b64a7e81f69"
      },
      "execution_count": 26,
      "outputs": [
        {
          "output_type": "stream",
          "name": "stdout",
          "text": [
            "Downloading digit-recognizer, 16054568 bytes compressed\n",
            "[==================================================] 16054568 bytes downloaded\n",
            "Downloaded and uncompressed: digit-recognizer\n",
            "Downloading machine-learning-architecture-diagrams, 153594 bytes compressed\n",
            "[==================================================] 153594 bytes downloaded\n",
            "Downloaded and uncompressed: machine-learning-architecture-diagrams\n",
            "Data source import complete.\n"
          ]
        }
      ]
    },
    {
      "cell_type": "code",
      "source": [
        "import torch\n",
        "import torch.nn as nn\n",
        "import torch.nn.functional as F\n",
        "from  torch.utils.data import DataLoader\n",
        "from torchvision import datasets,transforms\n",
        "import numpy as np\n",
        "import matplotlib.pyplot as plt\n"
      ],
      "metadata": {
        "id": "DS6s5SIiJ5dD"
      },
      "execution_count": 30,
      "outputs": []
    },
    {
      "cell_type": "code",
      "source": [
        "class VAE(nn.Module):\n",
        "    def __init__(self):\n",
        "        super(VAE, self).__init__()\n",
        "        self.fc1 = nn.Linear(784, 400)\n",
        "        self.fc21 = nn.Linear(400, 20) # mean\n",
        "        self.fc22 = nn.Linear(400, 20) # variance\n",
        "        self.fc3 = nn.Linear(20, 400)\n",
        "        self.fc4 = nn.Linear(400, 784)\n",
        "\n",
        "    def encode(self, x):\n",
        "        h1 = F.relu(self.fc1(x))\n",
        "        return self.fc21(h1), self.fc22(h1) # returns mean and variance\n",
        "\n",
        "    def reparameterize(self, mu, logvar):\n",
        "        std = torch.exp(0.5*logvar)\n",
        "        eps = torch.randn_like(std)\n",
        "        return eps.mul(std).add(mu) # returns sampled latent variable z\n",
        "\n",
        "    def decode(self, z):\n",
        "        h3 = F.relu(self.fc3(z))\n",
        "        return torch.sigmoid(self.fc4(h3)) # returns reconstructed image\n",
        "\n",
        "    def forward(self, x):\n",
        "        mu, logvar = self.encode(x.view(-1, 784))\n",
        "        z = self.reparameterize(mu, logvar)\n",
        "        return self.decode(z), mu, logvar"
      ],
      "metadata": {
        "id": "LSfGWELEJ5hY"
      },
      "execution_count": 31,
      "outputs": []
    },
    {
      "cell_type": "code",
      "source": [
        "def loss_function(recon_x, x, mu, logvar):\n",
        "    BCE = F.binary_cross_entropy(recon_x, x.view(-1, 784), reduction='sum')\n",
        "    KLD = -0.5 * torch.sum(1 + logvar - mu.pow(2) - logvar.exp())\n",
        "    return BCE + KLD"
      ],
      "metadata": {
        "id": "mnw-iXIIJ5n-"
      },
      "execution_count": 32,
      "outputs": []
    },
    {
      "cell_type": "code",
      "source": [
        "def train(model, train_loader, optimizer, epoch):\n",
        "    model.train()\n",
        "    train_loss = 0\n",
        "    for batch_idx, (data, _) in enumerate(train_loader):\n",
        "        optimizer.zero_grad()\n",
        "        recon_batch, mu, logvar = model(data)\n",
        "        loss = loss_function(recon_batch, data, mu, logvar)\n",
        "        loss.backward()\n",
        "        train_loss += loss.item()\n",
        "        optimizer.step()\n",
        "        if batch_idx % 100 == 0:\n",
        "            print('Train Epoch: {} [{}/{} ({:.0f}%)]\\tLoss: {:.6f}'.format(\n",
        "                epoch, batch_idx * len(data), len(train_loader.dataset),\n",
        "                100. * batch_idx / len(train_loader),\n",
        "                loss.item() / len(data)))"
      ],
      "metadata": {
        "id": "r59cf7QkJ5s7"
      },
      "execution_count": 33,
      "outputs": []
    },
    {
      "cell_type": "code",
      "source": [
        "transform = transforms.Compose([transforms.ToTensor()])\n",
        "train_set = datasets.MNIST(root='./data', train=True, download=True, transform=transform)\n",
        "train_loader = DataLoader(train_set, batch_size=128, shuffle=True)"
      ],
      "metadata": {
        "colab": {
          "base_uri": "https://localhost:8080/"
        },
        "id": "8LOpoHr0J5y9",
        "outputId": "0ea6bce9-1854-4267-9eb8-9ed73c3b5c72"
      },
      "execution_count": 34,
      "outputs": [
        {
          "output_type": "stream",
          "name": "stdout",
          "text": [
            "Downloading http://yann.lecun.com/exdb/mnist/train-images-idx3-ubyte.gz\n",
            "Failed to download (trying next):\n",
            "HTTP Error 403: Forbidden\n",
            "\n",
            "Downloading https://ossci-datasets.s3.amazonaws.com/mnist/train-images-idx3-ubyte.gz\n",
            "Downloading https://ossci-datasets.s3.amazonaws.com/mnist/train-images-idx3-ubyte.gz to ./data/MNIST/raw/train-images-idx3-ubyte.gz\n"
          ]
        },
        {
          "output_type": "stream",
          "name": "stderr",
          "text": [
            "100%|██████████| 9912422/9912422 [00:00<00:00, 35411943.73it/s]\n"
          ]
        },
        {
          "output_type": "stream",
          "name": "stdout",
          "text": [
            "Extracting ./data/MNIST/raw/train-images-idx3-ubyte.gz to ./data/MNIST/raw\n",
            "\n",
            "Downloading http://yann.lecun.com/exdb/mnist/train-labels-idx1-ubyte.gz\n",
            "Failed to download (trying next):\n",
            "HTTP Error 403: Forbidden\n",
            "\n",
            "Downloading https://ossci-datasets.s3.amazonaws.com/mnist/train-labels-idx1-ubyte.gz\n",
            "Downloading https://ossci-datasets.s3.amazonaws.com/mnist/train-labels-idx1-ubyte.gz to ./data/MNIST/raw/train-labels-idx1-ubyte.gz\n"
          ]
        },
        {
          "output_type": "stream",
          "name": "stderr",
          "text": [
            "100%|██████████| 28881/28881 [00:00<00:00, 1113410.24it/s]\n"
          ]
        },
        {
          "output_type": "stream",
          "name": "stdout",
          "text": [
            "Extracting ./data/MNIST/raw/train-labels-idx1-ubyte.gz to ./data/MNIST/raw\n",
            "\n",
            "Downloading http://yann.lecun.com/exdb/mnist/t10k-images-idx3-ubyte.gz\n",
            "Failed to download (trying next):\n",
            "HTTP Error 403: Forbidden\n",
            "\n",
            "Downloading https://ossci-datasets.s3.amazonaws.com/mnist/t10k-images-idx3-ubyte.gz\n",
            "Downloading https://ossci-datasets.s3.amazonaws.com/mnist/t10k-images-idx3-ubyte.gz to ./data/MNIST/raw/t10k-images-idx3-ubyte.gz\n"
          ]
        },
        {
          "output_type": "stream",
          "name": "stderr",
          "text": [
            "100%|██████████| 1648877/1648877 [00:00<00:00, 10902602.41it/s]\n"
          ]
        },
        {
          "output_type": "stream",
          "name": "stdout",
          "text": [
            "Extracting ./data/MNIST/raw/t10k-images-idx3-ubyte.gz to ./data/MNIST/raw\n",
            "\n",
            "Downloading http://yann.lecun.com/exdb/mnist/t10k-labels-idx1-ubyte.gz\n",
            "Failed to download (trying next):\n",
            "HTTP Error 403: Forbidden\n",
            "\n",
            "Downloading https://ossci-datasets.s3.amazonaws.com/mnist/t10k-labels-idx1-ubyte.gz\n",
            "Downloading https://ossci-datasets.s3.amazonaws.com/mnist/t10k-labels-idx1-ubyte.gz to ./data/MNIST/raw/t10k-labels-idx1-ubyte.gz\n"
          ]
        },
        {
          "output_type": "stream",
          "name": "stderr",
          "text": [
            "100%|██████████| 4542/4542 [00:00<00:00, 2218273.03it/s]\n"
          ]
        },
        {
          "output_type": "stream",
          "name": "stdout",
          "text": [
            "Extracting ./data/MNIST/raw/t10k-labels-idx1-ubyte.gz to ./data/MNIST/raw\n",
            "\n"
          ]
        }
      ]
    },
    {
      "cell_type": "code",
      "source": [
        "import torch.optim as optim\n",
        "model = VAE()\n",
        "optimizer = optim.Adam(model.parameters(), lr=1e-3)"
      ],
      "metadata": {
        "id": "mttf0Oi9J51d"
      },
      "execution_count": 38,
      "outputs": []
    },
    {
      "cell_type": "code",
      "source": [
        "for epoch in range(1, 10):\n",
        "    train(model, train_loader, optimizer, epoch)"
      ],
      "metadata": {
        "colab": {
          "base_uri": "https://localhost:8080/"
        },
        "id": "7SVRC4p_J53t",
        "outputId": "0626f530-38be-43bf-cf8b-420e48c2052a"
      },
      "execution_count": 39,
      "outputs": [
        {
          "output_type": "stream",
          "name": "stdout",
          "text": [
            "Train Epoch: 1 [0/60000 (0%)]\tLoss: 549.715698\n",
            "Train Epoch: 1 [12800/60000 (21%)]\tLoss: 184.332901\n",
            "Train Epoch: 1 [25600/60000 (43%)]\tLoss: 153.798050\n",
            "Train Epoch: 1 [38400/60000 (64%)]\tLoss: 141.382492\n",
            "Train Epoch: 1 [51200/60000 (85%)]\tLoss: 132.982300\n",
            "Train Epoch: 2 [0/60000 (0%)]\tLoss: 123.340149\n",
            "Train Epoch: 2 [12800/60000 (21%)]\tLoss: 123.122635\n",
            "Train Epoch: 2 [25600/60000 (43%)]\tLoss: 122.725494\n",
            "Train Epoch: 2 [38400/60000 (64%)]\tLoss: 124.573517\n",
            "Train Epoch: 2 [51200/60000 (85%)]\tLoss: 118.008423\n",
            "Train Epoch: 3 [0/60000 (0%)]\tLoss: 118.008034\n",
            "Train Epoch: 3 [12800/60000 (21%)]\tLoss: 114.187881\n",
            "Train Epoch: 3 [25600/60000 (43%)]\tLoss: 113.233856\n",
            "Train Epoch: 3 [38400/60000 (64%)]\tLoss: 113.725060\n",
            "Train Epoch: 3 [51200/60000 (85%)]\tLoss: 112.520821\n",
            "Train Epoch: 4 [0/60000 (0%)]\tLoss: 108.992104\n",
            "Train Epoch: 4 [12800/60000 (21%)]\tLoss: 114.253174\n",
            "Train Epoch: 4 [25600/60000 (43%)]\tLoss: 115.845322\n",
            "Train Epoch: 4 [38400/60000 (64%)]\tLoss: 110.994942\n",
            "Train Epoch: 4 [51200/60000 (85%)]\tLoss: 112.010757\n",
            "Train Epoch: 5 [0/60000 (0%)]\tLoss: 111.101471\n",
            "Train Epoch: 5 [12800/60000 (21%)]\tLoss: 112.693939\n",
            "Train Epoch: 5 [25600/60000 (43%)]\tLoss: 110.085831\n",
            "Train Epoch: 5 [38400/60000 (64%)]\tLoss: 107.512512\n",
            "Train Epoch: 5 [51200/60000 (85%)]\tLoss: 107.649101\n",
            "Train Epoch: 6 [0/60000 (0%)]\tLoss: 106.974930\n",
            "Train Epoch: 6 [12800/60000 (21%)]\tLoss: 111.458908\n",
            "Train Epoch: 6 [25600/60000 (43%)]\tLoss: 111.636185\n",
            "Train Epoch: 6 [38400/60000 (64%)]\tLoss: 112.255592\n",
            "Train Epoch: 6 [51200/60000 (85%)]\tLoss: 110.306404\n",
            "Train Epoch: 7 [0/60000 (0%)]\tLoss: 107.446167\n",
            "Train Epoch: 7 [12800/60000 (21%)]\tLoss: 107.551651\n",
            "Train Epoch: 7 [25600/60000 (43%)]\tLoss: 106.560585\n",
            "Train Epoch: 7 [38400/60000 (64%)]\tLoss: 106.955254\n",
            "Train Epoch: 7 [51200/60000 (85%)]\tLoss: 108.208824\n",
            "Train Epoch: 8 [0/60000 (0%)]\tLoss: 105.368439\n",
            "Train Epoch: 8 [12800/60000 (21%)]\tLoss: 108.317032\n",
            "Train Epoch: 8 [25600/60000 (43%)]\tLoss: 104.927338\n",
            "Train Epoch: 8 [38400/60000 (64%)]\tLoss: 110.815018\n",
            "Train Epoch: 8 [51200/60000 (85%)]\tLoss: 108.740112\n",
            "Train Epoch: 9 [0/60000 (0%)]\tLoss: 102.894722\n",
            "Train Epoch: 9 [12800/60000 (21%)]\tLoss: 108.605865\n",
            "Train Epoch: 9 [25600/60000 (43%)]\tLoss: 106.502869\n",
            "Train Epoch: 9 [38400/60000 (64%)]\tLoss: 105.938744\n",
            "Train Epoch: 9 [51200/60000 (85%)]\tLoss: 108.484947\n"
          ]
        }
      ]
    },
    {
      "cell_type": "code",
      "source": [
        "transform = transforms.Compose([transforms.ToTensor()])\n",
        "test_set = datasets.MNIST(root='./data', train=False, download=True, transform=transform)\n",
        "test_loader = DataLoader(test_set, batch_size=128, shuffle=True)"
      ],
      "metadata": {
        "id": "LhMMyxhXJ558"
      },
      "execution_count": 40,
      "outputs": []
    },
    {
      "cell_type": "code",
      "source": [
        "# assume that the trained VAE model is named 'vae_model'\n",
        "# and the new dataset is loaded into a DataLoader named 'new_data_loader'\n",
        "\n",
        "model.eval()\n",
        "device = torch.device(\"cpu\")\n",
        "reconstruction_loss = nn.MSELoss(reduction='none')\n",
        "\n",
        "total_loss = []\n",
        "for batch_idx, (data, _) in enumerate(test_loader):\n",
        "    data = data.to(device)\n",
        "    recon_batch, mu, logvar = model(data)\n",
        "\n",
        "    # compute reconstruction loss\n",
        "    recon_loss =  loss_function(recon_batch, data, mu, logvar)\n",
        "\n",
        "\n",
        "    loss = (recon_loss).item()\n",
        "    total_loss.append(loss)\n",
        "\n",
        "mean_loss = np.mean(total_loss)\n",
        "std_loss = np.std(total_loss)\n",
        "\n",
        "print(\"Mean loss: {:.3f}\".format(mean_loss))\n",
        "print(\"Standard deviation of loss: {:.3f}\".format(std_loss))"
      ],
      "metadata": {
        "colab": {
          "base_uri": "https://localhost:8080/"
        },
        "id": "Y_V4ibQbJ58a",
        "outputId": "e6115c56-dca2-417d-caea-925847e954e3"
      },
      "execution_count": 41,
      "outputs": [
        {
          "output_type": "stream",
          "name": "stdout",
          "text": [
            "Mean loss: 13410.031\n",
            "Standard deviation of loss: 1372.978\n"
          ]
        }
      ]
    },
    {
      "cell_type": "code",
      "source": [
        "model.eval()\n",
        "image,_ = test_set.__getitem__(41)\n",
        "with torch.no_grad():\n",
        "    image = image.to(device)\n",
        "    recon_image, mu, logvar = model(image.unsqueeze(-1))\n",
        "\n",
        "    # compute reconstruction loss\n",
        "\n",
        "    recon_loss = loss_function(recon_batch, data, mu, logvar)\n",
        "\n",
        "\n",
        "print(\"Total loss: {:.3f}\".format(recon_loss))"
      ],
      "metadata": {
        "colab": {
          "base_uri": "https://localhost:8080/"
        },
        "id": "-MzGYC5QJ5-v",
        "outputId": "084c5647-5174-44e3-b8d7-16d9155d5457"
      },
      "execution_count": 44,
      "outputs": [
        {
          "output_type": "stream",
          "name": "stdout",
          "text": [
            "Total loss: 1221.454\n"
          ]
        }
      ]
    },
    {
      "cell_type": "code",
      "source": [
        "# convert the tensors to numpy arrays and reshape them into images\n",
        "image = np.reshape(image.numpy(), (28, 28))\n",
        "recon_image = np.reshape(recon_image.numpy(), (28, 28))\n",
        "\n",
        "# display the original image and the reconstructed image side-by-side\n",
        "fig, axes = plt.subplots(nrows=1, ncols=2, figsize=(8, 4))\n",
        "axes[0].imshow(image, cmap='gray')\n",
        "axes[0].set_title(\"Original\")\n",
        "axes[1].imshow(recon_image, cmap='gray')\n",
        "axes[1].set_title(\"Reconstructed\")\n",
        "plt.show()"
      ],
      "metadata": {
        "colab": {
          "base_uri": "https://localhost:8080/",
          "height": 364
        },
        "id": "eX6zpWrCJ6CB",
        "outputId": "9eeaff15-be5c-4e1e-cf91-a5f4867cfa3e"
      },
      "execution_count": 45,
      "outputs": [
        {
          "output_type": "display_data",
          "data": {
            "text/plain": [
              "<Figure size 800x400 with 2 Axes>"
            ],
            "image/png": "[encoded data removed]"
          },
          "metadata": {}
        }
      ]
    },
    {
      "cell_type": "code",
      "source": [],
      "metadata": {
        "id": "E-Ya1ODdJ6G_"
      },
      "execution_count": null,
      "outputs": []
    }
  ]
}