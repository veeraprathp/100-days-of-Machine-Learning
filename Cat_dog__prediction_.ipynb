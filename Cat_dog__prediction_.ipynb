{
  "cells": [
    {
      "cell_type": "markdown",
      "metadata": {
        "id": "view-in-github",
        "colab_type": "text"
      },
      "source": [
        "<a href=\"https://colab.research.google.com/github/veeraprathp/100-days-of-Machine-Learning/blob/main/Cat_dog__prediction_.ipynb\" target=\"_parent\"><img src=\"https://colab.research.google.com/assets/colab-badge.svg\" alt=\"Open In Colab\"/></a>"
      ]
    },
    {
      "cell_type": "markdown",
      "id": "93b92ac9-73d8-4e8c-a464-dff29e8cafeb",
      "metadata": {
        "id": "93b92ac9-73d8-4e8c-a464-dff29e8cafeb"
      },
      "source": [
        "# Data preprocessing"
      ]
    },
    {
      "cell_type": "code",
      "execution_count": null,
      "id": "793ae154-95b9-447b-aa45-126a09543fd5",
      "metadata": {
        "id": "793ae154-95b9-447b-aa45-126a09543fd5"
      },
      "outputs": [],
      "source": [
        "import tensorflow as tf\n",
        "from tensorflow.keras.preprocessing.image import ImageDataGenerator\n"
      ]
    },
    {
      "cell_type": "code",
      "execution_count": null,
      "id": "d5e34944-0ba7-4661-93bd-9ec4b67ef4bd",
      "metadata": {
        "id": "d5e34944-0ba7-4661-93bd-9ec4b67ef4bd",
        "outputId": "31bcc9cf-8b68-4dae-ae98-7104d0963698"
      },
      "outputs": [
        {
          "data": {
            "text/plain": [
              "'2.16.1'"
            ]
          },
          "execution_count": 73,
          "metadata": {},
          "output_type": "execute_result"
        }
      ],
      "source": [
        "tf.__version__"
      ]
    },
    {
      "cell_type": "code",
      "execution_count": null,
      "id": "9a712167-e37d-496f-b2d9-4f8b8fe22344",
      "metadata": {
        "id": "9a712167-e37d-496f-b2d9-4f8b8fe22344",
        "outputId": "541003d3-87e3-4b85-b8f4-a3de457558c7"
      },
      "outputs": [
        {
          "name": "stdout",
          "output_type": "stream",
          "text": [
            "Found 8000 images belonging to 2 classes.\n"
          ]
        }
      ],
      "source": [
        "train_datagen = ImageDataGenerator(\n",
        "    rescale = 1./255,\n",
        "    shear_range = 0.2,\n",
        "    zoom_range = 0.2,\n",
        "    horizontal_flip=True\n",
        ")\n",
        "training_set = train_datagen.flow_from_directory(\n",
        "    r'C:\\Users\\veera\\Documents\\Certification\\udemy\\Machine Learning A-Z (Codes and Datasets)\\Part 8 - Deep Learning\\Section 40 - Convolutional Neural Networks (CNN)\\Part 2 - Convolutional Neural Networks\\dataset\\training_set',\n",
        "    target_size = (64,64),\n",
        "    batch_size = 32,\n",
        "    class_mode ='binary'\n",
        ")\n",
        "\n"
      ]
    },
    {
      "cell_type": "markdown",
      "id": "180903cf-dd3d-4eaf-bbbe-d9333e35578a",
      "metadata": {
        "id": "180903cf-dd3d-4eaf-bbbe-d9333e35578a"
      },
      "source": [
        "# preprocessing the Test set\n"
      ]
    },
    {
      "cell_type": "code",
      "execution_count": null,
      "id": "19f50f20-72b8-416d-8fd2-02eff393fd35",
      "metadata": {
        "id": "19f50f20-72b8-416d-8fd2-02eff393fd35",
        "outputId": "a52b12aa-4b67-4812-ad4d-87268d409862"
      },
      "outputs": [
        {
          "name": "stdout",
          "output_type": "stream",
          "text": [
            "Found 2000 images belonging to 2 classes.\n"
          ]
        }
      ],
      "source": [
        "train_datagen =ImageDataGenerator(rescale = 1./255)\n",
        "test_set = train_datagen.flow_from_directory(\n",
        "    r'C:\\Users\\veera\\Documents\\Certification\\udemy\\Machine Learning A-Z (Codes and Datasets)\\Part 8 - Deep Learning\\Section 40 - Convolutional Neural Networks (CNN)\\Part 2 - Convolutional Neural Networks\\dataset\\test_set',\n",
        "    target_size = (64,64),\n",
        "    batch_size = 32,\n",
        "    class_mode ='binary'\n",
        ")\n"
      ]
    },
    {
      "cell_type": "markdown",
      "id": "2131ec6f-7249-4b8d-be0a-ce040be2c712",
      "metadata": {
        "id": "2131ec6f-7249-4b8d-be0a-ce040be2c712"
      },
      "source": [
        "# Building the CNN"
      ]
    },
    {
      "cell_type": "code",
      "execution_count": null,
      "id": "0ed5fc21-1b38-47cf-b501-3a4d685598a0",
      "metadata": {
        "id": "0ed5fc21-1b38-47cf-b501-3a4d685598a0"
      },
      "outputs": [],
      "source": [
        "cnn =  tf.keras.models.Sequential()\n"
      ]
    },
    {
      "cell_type": "markdown",
      "id": "8485c8af-2d30-446f-839f-76ff7ff07d44",
      "metadata": {
        "id": "8485c8af-2d30-446f-839f-76ff7ff07d44"
      },
      "source": [
        "**Convolution**"
      ]
    },
    {
      "cell_type": "code",
      "execution_count": null,
      "id": "b5e6f6e2-0f4f-4c3d-9608-0da93a77ef6c",
      "metadata": {
        "id": "b5e6f6e2-0f4f-4c3d-9608-0da93a77ef6c",
        "outputId": "261c2b7a-0fe8-4604-fc61-47af870298e4"
      },
      "outputs": [
        {
          "name": "stderr",
          "output_type": "stream",
          "text": [
            "C:\\Users\\veera\\AppData\\Local\\Programs\\Python\\Python39\\lib\\site-packages\\keras\\src\\layers\\convolutional\\base_conv.py:107: UserWarning: Do not pass an `input_shape`/`input_dim` argument to a layer. When using Sequential models, prefer using an `Input(shape)` object as the first layer in the model instead.\n",
            "  super().__init__(activity_regularizer=activity_regularizer, **kwargs)\n"
          ]
        }
      ],
      "source": [
        "cnn.add(tf.keras.layers.Conv2D(filters=32,kernel_size =3,activation ='relu',input_shape = [64,64,3]))"
      ]
    },
    {
      "cell_type": "markdown",
      "id": "641eda10-5aca-47a8-a67f-1c077915f449",
      "metadata": {
        "id": "641eda10-5aca-47a8-a67f-1c077915f449"
      },
      "source": [
        "**pooling**"
      ]
    },
    {
      "cell_type": "code",
      "execution_count": null,
      "id": "57c3507f-3284-4048-aaa3-d88f4c3d6ec3",
      "metadata": {
        "id": "57c3507f-3284-4048-aaa3-d88f4c3d6ec3"
      },
      "outputs": [],
      "source": [
        "cnn.add(tf.keras.layers.MaxPool2D(pool_size =2 , strides = 2))"
      ]
    },
    {
      "cell_type": "markdown",
      "id": "654da18e-34a2-40cb-9567-277c366490dd",
      "metadata": {
        "id": "654da18e-34a2-40cb-9567-277c366490dd"
      },
      "source": [
        "**Second convolutioin**"
      ]
    },
    {
      "cell_type": "code",
      "execution_count": null,
      "id": "8a612d63-e7d5-4d34-8c02-be75da163501",
      "metadata": {
        "id": "8a612d63-e7d5-4d34-8c02-be75da163501"
      },
      "outputs": [],
      "source": [
        "cnn.add(tf.keras.layers.Conv2D(filters=32,kernel_size =3,activation ='relu'))\n",
        "cnn.add(tf.keras.layers.MaxPool2D(pool_size =2 , strides = 2))"
      ]
    },
    {
      "cell_type": "markdown",
      "id": "baf4fe0c-fecb-42b4-babb-586af25aab53",
      "metadata": {
        "id": "baf4fe0c-fecb-42b4-babb-586af25aab53"
      },
      "source": [
        "**Flattening**"
      ]
    },
    {
      "cell_type": "code",
      "execution_count": null,
      "id": "18ff6faa-2dbc-42ee-aa27-c8181112e12c",
      "metadata": {
        "id": "18ff6faa-2dbc-42ee-aa27-c8181112e12c"
      },
      "outputs": [],
      "source": [
        "cnn.add(tf.keras.layers.Flatten())"
      ]
    },
    {
      "cell_type": "markdown",
      "id": "b77cad1a-6711-4689-8a7b-118382b3748f",
      "metadata": {
        "id": "b77cad1a-6711-4689-8a7b-118382b3748f"
      },
      "source": [
        "**Full connection**"
      ]
    },
    {
      "cell_type": "code",
      "execution_count": null,
      "id": "42128603-80a1-4ad6-a9f6-85fd802fab39",
      "metadata": {
        "id": "42128603-80a1-4ad6-a9f6-85fd802fab39"
      },
      "outputs": [],
      "source": [
        "cnn.add(tf.keras.layers.Dense(units =128,activation ='relu'))"
      ]
    },
    {
      "cell_type": "markdown",
      "id": "bb2a54ea-b6f7-4dc3-bfec-7369d50eb90e",
      "metadata": {
        "id": "bb2a54ea-b6f7-4dc3-bfec-7369d50eb90e"
      },
      "source": [
        "**output layer**"
      ]
    },
    {
      "cell_type": "code",
      "execution_count": null,
      "id": "6b00cb50-0ff0-4e40-8c83-00d9dbd35362",
      "metadata": {
        "id": "6b00cb50-0ff0-4e40-8c83-00d9dbd35362"
      },
      "outputs": [],
      "source": [
        "cnn.add(tf.keras.layers.Dense(units =1,activation ='softmax'))"
      ]
    },
    {
      "cell_type": "markdown",
      "id": "1c6c9a60-4d19-43e6-af99-4d2efa35b0c5",
      "metadata": {
        "id": "1c6c9a60-4d19-43e6-af99-4d2efa35b0c5"
      },
      "source": [
        "**Training the CNN**"
      ]
    },
    {
      "cell_type": "code",
      "execution_count": null,
      "id": "9e52f431-c2d0-4166-b7d9-63abb2e49199",
      "metadata": {
        "id": "9e52f431-c2d0-4166-b7d9-63abb2e49199"
      },
      "outputs": [],
      "source": [
        "cnn.compile(optimizer = 'adam',loss = 'binary_crossentropy',metrics =['accuracy'])"
      ]
    },
    {
      "cell_type": "code",
      "execution_count": null,
      "id": "4016021b-54a3-4421-af42-223a82a3c387",
      "metadata": {
        "id": "4016021b-54a3-4421-af42-223a82a3c387",
        "outputId": "e36ac05f-ce99-427e-fce0-4bc32ea936dc"
      },
      "outputs": [
        {
          "name": "stdout",
          "output_type": "stream",
          "text": [
            "Epoch 1/10\n",
            "\u001b[1m250/250\u001b[0m \u001b[32m━━━━━━━━━━━━━━━━━━━━\u001b[0m\u001b[37m\u001b[0m \u001b[1m76s\u001b[0m 283ms/step - accuracy: 0.4894 - loss: 0.6717 - val_accuracy: 0.5000 - val_loss: 0.6445\n",
            "Epoch 2/10\n",
            "\u001b[1m250/250\u001b[0m \u001b[32m━━━━━━━━━━━━━━━━━━━━\u001b[0m\u001b[37m\u001b[0m \u001b[1m68s\u001b[0m 264ms/step - accuracy: 0.5018 - loss: 0.5919 - val_accuracy: 0.5000 - val_loss: 0.5398\n",
            "Epoch 3/10\n",
            "\u001b[1m250/250\u001b[0m \u001b[32m━━━━━━━━━━━━━━━━━━━━\u001b[0m\u001b[37m\u001b[0m \u001b[1m71s\u001b[0m 277ms/step - accuracy: 0.5162 - loss: 0.5320 - val_accuracy: 0.5000 - val_loss: 0.5092\n",
            "Epoch 4/10\n",
            "\u001b[1m250/250\u001b[0m \u001b[32m━━━━━━━━━━━━━━━━━━━━\u001b[0m\u001b[37m\u001b[0m \u001b[1m68s\u001b[0m 268ms/step - accuracy: 0.4961 - loss: 0.5333 - val_accuracy: 0.5000 - val_loss: 0.5199\n",
            "Epoch 5/10\n",
            "\u001b[1m250/250\u001b[0m \u001b[32m━━━━━━━━━━━━━━━━━━━━\u001b[0m\u001b[37m\u001b[0m \u001b[1m67s\u001b[0m 262ms/step - accuracy: 0.4980 - loss: 0.4909 - val_accuracy: 0.5000 - val_loss: 0.4780\n",
            "Epoch 6/10\n",
            "\u001b[1m250/250\u001b[0m \u001b[32m━━━━━━━━━━━━━━━━━━━━\u001b[0m\u001b[37m\u001b[0m \u001b[1m68s\u001b[0m 264ms/step - accuracy: 0.4950 - loss: 0.4793 - val_accuracy: 0.5000 - val_loss: 0.4677\n",
            "Epoch 7/10\n",
            "\u001b[1m250/250\u001b[0m \u001b[32m━━━━━━━━━━━━━━━━━━━━\u001b[0m\u001b[37m\u001b[0m \u001b[1m67s\u001b[0m 260ms/step - accuracy: 0.4963 - loss: 0.4611 - val_accuracy: 0.5000 - val_loss: 0.4703\n",
            "Epoch 8/10\n",
            "\u001b[1m250/250\u001b[0m \u001b[32m━━━━━━━━━━━━━━━━━━━━\u001b[0m\u001b[37m\u001b[0m \u001b[1m65s\u001b[0m 256ms/step - accuracy: 0.4971 - loss: 0.4320 - val_accuracy: 0.5000 - val_loss: 0.4537\n",
            "Epoch 9/10\n",
            "\u001b[1m250/250\u001b[0m \u001b[32m━━━━━━━━━━━━━━━━━━━━\u001b[0m\u001b[37m\u001b[0m \u001b[1m66s\u001b[0m 259ms/step - accuracy: 0.5093 - loss: 0.4476 - val_accuracy: 0.5000 - val_loss: 0.4901\n",
            "Epoch 10/10\n",
            "\u001b[1m170/250\u001b[0m \u001b[32m━━━━━━━━━━━━━\u001b[0m\u001b[37m━━━━━━━\u001b[0m \u001b[1m18s\u001b[0m 235ms/step - accuracy: 0.4967 - loss: 0.4236"
          ]
        }
      ],
      "source": [
        "cnn.fit(x= training_set, validation_data =test_set, epochs= 10)"
      ]
    },
    {
      "cell_type": "markdown",
      "id": "69370435-2197-4234-b3da-9ca360d301ca",
      "metadata": {
        "id": "69370435-2197-4234-b3da-9ca360d301ca"
      },
      "source": [
        "**Make a single prediction**"
      ]
    }
  ],
  "metadata": {
    "kernelspec": {
      "display_name": "Python 3 (ipykernel)",
      "language": "python",
      "name": "python3"
    },
    "language_info": {
      "codemirror_mode": {
        "name": "ipython",
        "version": 3
      },
      "file_extension": ".py",
      "mimetype": "text/x-python",
      "name": "python",
      "nbconvert_exporter": "python",
      "pygments_lexer": "ipython3",
      "version": "3.9.7"
    },
    "colab": {
      "provenance": [],
      "include_colab_link": true
    }
  },
  "nbformat": 4,
  "nbformat_minor": 5
}