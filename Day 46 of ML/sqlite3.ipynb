{
  "nbformat": 4,
  "nbformat_minor": 0,
  "metadata": {
    "colab": {
      "provenance": []
    },
    "kernelspec": {
      "name": "python3",
      "display_name": "Python 3"
    },
    "language_info": {
      "name": "python"
    }
  },
  "cells": [
    {
      "cell_type": "code",
      "execution_count": 44,
      "metadata": {
        "id": "9Xi6LQwKNb6b"
      },
      "outputs": [],
      "source": [
        "import sqlite3"
      ]
    },
    {
      "cell_type": "markdown",
      "source": [
        "connect to the sqlite databse"
      ],
      "metadata": {
        "id": "zz-gtwQaNuQG"
      }
    },
    {
      "cell_type": "code",
      "source": [
        "connection=sqlite3.connect('sampledatabase.db')\n",
        "connection"
      ],
      "metadata": {
        "colab": {
          "base_uri": "https://localhost:8080/"
        },
        "id": "q-itJ9QiNrDW",
        "outputId": "f5f599d7-fab9-4535-9910-dfc330545f7d"
      },
      "execution_count": 45,
      "outputs": [
        {
          "output_type": "execute_result",
          "data": {
            "text/plain": [
              "<sqlite3.Connection at 0x7c75d761ca40>"
            ]
          },
          "metadata": {},
          "execution_count": 45
        }
      ]
    },
    {
      "cell_type": "code",
      "source": [
        "from sqlite3.dbapi2 import Cursor\n",
        "Cursor = connection.cursor()"
      ],
      "metadata": {
        "id": "8O3-pLadN80G"
      },
      "execution_count": 46,
      "outputs": []
    },
    {
      "cell_type": "markdown",
      "source": [
        "Create table"
      ],
      "metadata": {
        "id": "Jo4xjMxTOH0a"
      }
    },
    {
      "cell_type": "code",
      "source": [
        "Cursor.execute(''' Create Table If Not Exists employees(\n",
        "  id Integer Primary key,\n",
        "  name Text Not NUll,\n",
        "  age Integer,\n",
        "  department text)\n",
        "\n",
        "\n",
        "''')\n",
        "\n",
        "connection.commit()"
      ],
      "metadata": {
        "id": "PN0uSDIYOGtC"
      },
      "execution_count": 47,
      "outputs": []
    },
    {
      "cell_type": "code",
      "source": [
        "Cursor.execute('''select * from employees ''')"
      ],
      "metadata": {
        "colab": {
          "base_uri": "https://localhost:8080/"
        },
        "id": "1dBKKwq4OltR",
        "outputId": "0bf1c333-3513-47eb-9f77-fd6a6e875189"
      },
      "execution_count": 48,
      "outputs": [
        {
          "output_type": "execute_result",
          "data": {
            "text/plain": [
              "<sqlite3.Cursor at 0x7c75b2e18e40>"
            ]
          },
          "metadata": {},
          "execution_count": 48
        }
      ]
    },
    {
      "cell_type": "markdown",
      "source": [
        "inserting the data  in the sqlite"
      ],
      "metadata": {
        "id": "FzvmXH_zPVH7"
      }
    },
    {
      "cell_type": "code",
      "source": [
        "Cursor.execute('''\n",
        "INSERT INTO employees(name,age,department)\n",
        " VALUES ('veera',22,'Machine learning engineer')\n",
        "\n",
        "''')\n",
        "Cursor.execute('''\n",
        "INSERT INTO employees(name,age,department)\n",
        "VALUES('kunal',32,'Mechanical  engineer')\n",
        "\n",
        "''')\n",
        "Cursor.execute('''\n",
        "INSERT INTO employees(name,age,department)\n",
        "VALUES ('kanna',42,' Finance')\n",
        "\n",
        "''')"
      ],
      "metadata": {
        "colab": {
          "base_uri": "https://localhost:8080/"
        },
        "id": "_7a_x0bhPAtZ",
        "outputId": "57761c74-52cb-4610-f8aa-125d0f83677b"
      },
      "execution_count": 49,
      "outputs": [
        {
          "output_type": "execute_result",
          "data": {
            "text/plain": [
              "<sqlite3.Cursor at 0x7c75b2e18e40>"
            ]
          },
          "metadata": {},
          "execution_count": 49
        }
      ]
    },
    {
      "cell_type": "code",
      "source": [
        "connection.commit()"
      ],
      "metadata": {
        "id": "d7-e_jUGPyjM"
      },
      "execution_count": 50,
      "outputs": []
    },
    {
      "cell_type": "markdown",
      "source": [
        "Quering the data from the table"
      ],
      "metadata": {
        "id": "z3H18KrNQLSp"
      }
    },
    {
      "cell_type": "code",
      "source": [
        "Cursor.execute('select * from employees')\n",
        "rows = Cursor.fetchall()\n",
        "for row in rows:\n",
        "    print(row)"
      ],
      "metadata": {
        "colab": {
          "base_uri": "https://localhost:8080/"
        },
        "id": "ZVOc-wJhQJqA",
        "outputId": "012234eb-eb5a-47fa-d90f-8fac90406195"
      },
      "execution_count": 51,
      "outputs": [
        {
          "output_type": "stream",
          "name": "stdout",
          "text": [
            "(1, 'veera', 22, 'Machine learning engineer')\n",
            "(2, 'kunal', 32, 'Mechanical  engineer')\n",
            "(3, 'kanna', 42, ' Finance')\n"
          ]
        }
      ]
    },
    {
      "cell_type": "code",
      "source": [
        "#UPDATE THE DATA IN THE TABLE\n",
        "\n",
        "Cursor.execute('''\n",
        "UPDATE employees\n",
        "set age = 34\n",
        "where name =\"PRATHAP\"\n",
        "''')\n",
        "\n",
        "connection.commit()"
      ],
      "metadata": {
        "id": "Clvce-kJRaBq"
      },
      "execution_count": 54,
      "outputs": []
    },
    {
      "cell_type": "markdown",
      "source": [
        "Delete the data from the table"
      ],
      "metadata": {
        "id": "1_l809UXThJK"
      }
    },
    {
      "cell_type": "code",
      "source": [
        "Cursor.execute('''\n",
        "Delete from employees\n",
        "      WHERE  department = 'Machine learning engineer'\n",
        "      ''')"
      ],
      "metadata": {
        "colab": {
          "base_uri": "https://localhost:8080/"
        },
        "id": "gTPDITUZTUAH",
        "outputId": "5b307470-efba-4d44-d69e-89daa576c2b2"
      },
      "execution_count": 56,
      "outputs": [
        {
          "output_type": "execute_result",
          "data": {
            "text/plain": [
              "<sqlite3.Cursor at 0x7c75b2e18e40>"
            ]
          },
          "metadata": {},
          "execution_count": 56
        }
      ]
    },
    {
      "cell_type": "code",
      "source": [
        "connection.close()"
      ],
      "metadata": {
        "id": "h-WpzYQVT8ME"
      },
      "execution_count": 62,
      "outputs": []
    },
    {
      "cell_type": "code",
      "source": [],
      "metadata": {
        "id": "M6cC8gGnU40I"
      },
      "execution_count": null,
      "outputs": []
    }
  ]
}