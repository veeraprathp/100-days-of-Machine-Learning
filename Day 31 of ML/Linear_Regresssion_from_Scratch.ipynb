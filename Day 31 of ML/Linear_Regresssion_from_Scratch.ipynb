{
  "nbformat": 4,
  "nbformat_minor": 0,
  "metadata": {
    "colab": {
      "provenance": []
    },
    "kernelspec": {
      "name": "python3",
      "display_name": "Python 3"
    },
    "language_info": {
      "name": "python"
    }
  },
  "cells": [
    {
      "cell_type": "code",
      "source": [
        "import numpy as np"
      ],
      "metadata": {
        "id": "Q1Cx-w1RIJFR"
      },
      "execution_count": 38,
      "outputs": []
    },
    {
      "cell_type": "markdown",
      "source": [
        "implmentation"
      ],
      "metadata": {
        "id": "pFJjrLazDx3w"
      }
    },
    {
      "cell_type": "code",
      "source": [
        "import numpy as np\n",
        "\n",
        "class LinearRegression:\n",
        "    def __init__(self, lr=0.001, n_iters=1000):\n",
        "        self.lr = lr\n",
        "        self.n_iters = n_iters\n",
        "        self.weights = None\n",
        "        self.bias = None\n",
        "\n",
        "    def fit(self, X, y):\n",
        "        n_samples, n_features = X.shape\n",
        "        self.weights = np.zeros(n_features)\n",
        "        self.bias = 0\n",
        "\n",
        "        for _ in range(self.n_iters):\n",
        "            y_pred = np.dot(X, self.weights) + self.bias\n",
        "            dw = (1/n_samples) * np.dot(X.T, (y_pred - y))\n",
        "            db = (1/n_samples) * np.sum(y_pred - y)\n",
        "\n",
        "            self.weights -= self.lr * dw\n",
        "            self.bias -= self.lr * db\n",
        "\n",
        "    def predict(self, X):\n",
        "        y_pred = np.dot(X, self.weights) + self.bias\n",
        "        return y_pred\n"
      ],
      "metadata": {
        "id": "sXcv8ulgNmKz"
      },
      "execution_count": 40,
      "outputs": []
    },
    {
      "cell_type": "code",
      "execution_count": 41,
      "metadata": {
        "id": "bVjJ9q3ZDk7j"
      },
      "outputs": [],
      "source": [
        "from sklearn.model_selection import train_test_split\n",
        "from sklearn import datasets\n",
        "import matplotlib.pyplot as plt\n"
      ]
    },
    {
      "cell_type": "code",
      "source": [
        "x,y =  datasets.make_regression(n_samples= 100,n_features=1, noise=20, random_state= 4)\n",
        "X_train,X_test,Y_train,Y_test = train_test_split(x,y,test_size=0.2,random_state=4)\n"
      ],
      "metadata": {
        "id": "M39mSsInIuKQ"
      },
      "execution_count": 42,
      "outputs": []
    },
    {
      "cell_type": "code",
      "source": [
        "reg =LinearRegression(lr =1)\n",
        "reg.fit(X_train,Y_train)\n",
        "predictions = reg.predict(X_test)"
      ],
      "metadata": {
        "id": "G0E7DrgUJQTd"
      },
      "execution_count": 43,
      "outputs": []
    },
    {
      "cell_type": "code",
      "source": [
        "def mse(y_test,predictions):\n",
        "     return (np.mean(Y_test- predictions)**2)\n"
      ],
      "metadata": {
        "id": "0ULi1KfkJUsD"
      },
      "execution_count": 44,
      "outputs": []
    },
    {
      "cell_type": "code",
      "source": [
        "mse = mse(Y_test,predictions)\n",
        "print(mse)"
      ],
      "metadata": {
        "colab": {
          "base_uri": "https://localhost:8080/"
        },
        "id": "YTWT69X-KYmQ",
        "outputId": "2e826b6c-c4c4-4297-eb96-3c109ddd25d1"
      },
      "execution_count": 45,
      "outputs": [
        {
          "output_type": "stream",
          "name": "stdout",
          "text": [
            "5.574110800164752\n"
          ]
        }
      ]
    },
    {
      "cell_type": "code",
      "source": [
        "y_pred_line = reg.predict(x)\n",
        "cmap =plt.get_cmap(\"viridis\")\n",
        "fig = plt.figure(figsize=(8,6))\n",
        "m1 = plt.scatter(X_train,Y_train,color=cmap(0.9),s =10)\n",
        "m2 = plt.scatter(X_test,Y_test,color=cmap(0.5), s=10)\n",
        "plt.plot(x,y_pred_line,color ='black',linewidth =2 ,label = \"Predictions\" )\n",
        "plt.show()"
      ],
      "metadata": {
        "colab": {
          "base_uri": "https://localhost:8080/",
          "height": 522
        },
        "id": "-tPAJPTGKlX9",
        "outputId": "dccb9056-b46a-4f85-c0c8-98f830025ddf"
      },
      "execution_count": 46,
      "outputs": [
        {
          "output_type": "display_data",
          "data": {
            "text/plain": [
              "<Figure size 800x600 with 1 Axes>"
            ],
            "image/png": "[encoded data removed]"
          },
          "metadata": {}
        }
      ]
    },
    {
      "cell_type": "code",
      "source": [],
      "metadata": {
        "id": "5EROa5nlK7n3"
      },
      "execution_count": 46,
      "outputs": []
    }
  ]
}