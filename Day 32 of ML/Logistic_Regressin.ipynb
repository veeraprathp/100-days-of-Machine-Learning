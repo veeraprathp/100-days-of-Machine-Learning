{
  "nbformat": 4,
  "nbformat_minor": 0,
  "metadata": {
    "colab": {
      "provenance": []
    },
    "kernelspec": {
      "name": "python3",
      "display_name": "Python 3"
    },
    "language_info": {
      "name": "python"
    }
  },
  "cells": [
    {
      "cell_type": "markdown",
      "source": [
        "Logistic Regression"
      ],
      "metadata": {
        "id": "0v1UBFDp_-z7"
      }
    },
    {
      "cell_type": "code",
      "source": [
        "import numpy as np"
      ],
      "metadata": {
        "id": "S7cyDfZiedM4"
      },
      "execution_count": 1,
      "outputs": []
    },
    {
      "cell_type": "code",
      "source": [
        "def sigmoid(x):\n",
        "  return 1/(1+np.exp(-x))"
      ],
      "metadata": {
        "id": "RgeaWaGHgBMC"
      },
      "execution_count": 17,
      "outputs": []
    },
    {
      "cell_type": "code",
      "execution_count": 26,
      "metadata": {
        "id": "_CTHMr9R_5vE"
      },
      "outputs": [],
      "source": [
        "\n",
        "\n",
        "class  LogisticRegression ():\n",
        "  def __init__(self,lr = 0.01,n_iters = 1000):\n",
        "    self.lr= lr\n",
        "    self.n_iters = n_iters\n",
        "    self.bias = None\n",
        "    self.weights =None\n",
        "\n",
        "  def fit(self,x,y):\n",
        "    n_sample,n_features = x.shape\n",
        "    self.weights = np.zeros(n_features)\n",
        "    self.bias = 0\n",
        "\n",
        "\n",
        "    for _ in range(self.n_iters):\n",
        "      linear_pred =np.dot(x,self.weights)+self.bias\n",
        "      predictions = sigmoid(linear_pred)\n",
        "\n",
        "      dw = (1/n_sample)*np.dot(x.T,(predictions -y))\n",
        "      db = (1/n_sample)*np.sum(predictions - y)\n",
        "\n",
        "      self.weights = self.weights - self.lr*dw\n",
        "      self.bias =self.bias - self.lr*db\n",
        "  def predict(self,x):\n",
        "\n",
        "      linear_pred =np.dot(x,self.weights)+self.bias\n",
        "      y_pred = sigmoid(linear_pred)\n",
        "      class_pred = [0 if y<=0.5 else 1 for y in y_pred]\n",
        "      return class_pred\n"
      ]
    },
    {
      "cell_type": "markdown",
      "source": [
        "Below we gonna check how our logisticRegression works"
      ],
      "metadata": {
        "id": "g-HIN8o4iVnC"
      }
    },
    {
      "cell_type": "code",
      "source": [
        "from sklearn.model_selection import train_test_split\n",
        "from sklearn import datasets\n",
        "import matplotlib.pyplot as plt\n"
      ],
      "metadata": {
        "id": "Q36nRe7iehLs"
      },
      "execution_count": 27,
      "outputs": []
    },
    {
      "cell_type": "code",
      "source": [
        "bc = datasets.load_breast_cancer()\n",
        "x,y= bc.data , bc.target\n",
        "X_train,X_test ,Y_train,Y_test = train_test_split(x,y,test_size=0.2,random_state=1234)\n",
        "\n",
        "clf = LogisticRegression(lr =00.01)\n",
        "clf.fit(X_train,Y_train)\n",
        "y_pred = clf.predict(X_test)\n"
      ],
      "metadata": {
        "colab": {
          "base_uri": "https://localhost:8080/"
        },
        "id": "syeLWRH_ixiJ",
        "outputId": "9a8910c2-c247-460a-c1b3-b8ede793c4b7"
      },
      "execution_count": 28,
      "outputs": [
        {
          "output_type": "stream",
          "name": "stderr",
          "text": [
            "<ipython-input-17-bb43d9876711>:2: RuntimeWarning: overflow encountered in exp\n",
            "  return 1/(1+np.exp(-x))\n"
          ]
        }
      ]
    },
    {
      "cell_type": "code",
      "source": [
        "def accuracy(y_pred, y_test):\n",
        "  return np.sum((y_pred==Y_test)/len(Y_test))"
      ],
      "metadata": {
        "id": "IvW78DzSjaHg"
      },
      "execution_count": 29,
      "outputs": []
    },
    {
      "cell_type": "code",
      "source": [
        "acc = accuracy(y_pred, Y_test)\n",
        "print(acc)"
      ],
      "metadata": {
        "colab": {
          "base_uri": "https://localhost:8080/"
        },
        "id": "fd_mI_LskJkh",
        "outputId": "5284865e-1b2c-48d4-ba24-97459d238e33"
      },
      "execution_count": 30,
      "outputs": [
        {
          "output_type": "stream",
          "name": "stdout",
          "text": [
            "0.9210526315789473\n"
          ]
        }
      ]
    },
    {
      "cell_type": "code",
      "source": [],
      "metadata": {
        "id": "-VL7g8uUkSFD"
      },
      "execution_count": 25,
      "outputs": []
    }
  ]
}