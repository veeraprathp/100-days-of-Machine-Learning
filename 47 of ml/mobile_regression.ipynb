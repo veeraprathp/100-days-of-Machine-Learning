{
  "metadata": {
    "kernelspec": {
      "language": "python",
      "display_name": "Python 3",
      "name": "python3"
    },
    "language_info": {
      "name": "python",
      "version": "3.10.13",
      "mimetype": "text/x-python",
      "codemirror_mode": {
        "name": "ipython",
        "version": 3
      },
      "pygments_lexer": "ipython3",
      "nbconvert_exporter": "python",
      "file_extension": ".py"
    },
    "kaggle": {
      "accelerator": "none",
      "dataSources": [
        {
          "sourceId": 9039191,
          "sourceType": "datasetVersion",
          "datasetId": 5449228
        }
      ],
      "dockerImageVersionId": 30746,
      "isInternetEnabled": true,
      "language": "python",
      "sourceType": "notebook",
      "isGpuEnabled": false
    },
    "colab": {
      "provenance": []
    }
  },
  "nbformat_minor": 0,
  "nbformat": 4,
  "cells": [
    {
      "source": [
        "\n",
        "# IMPORTANT: RUN THIS CELL IN ORDER TO IMPORT YOUR KAGGLE DATA SOURCES\n",
        "# TO THE CORRECT LOCATION (/kaggle/input) IN YOUR NOTEBOOK,\n",
        "# THEN FEEL FREE TO DELETE THIS CELL.\n",
        "# NOTE: THIS NOTEBOOK ENVIRONMENT DIFFERS FROM KAGGLE'S PYTHON\n",
        "# ENVIRONMENT SO THERE MAY BE MISSING LIBRARIES USED BY YOUR\n",
        "# NOTEBOOK.\n",
        "\n",
        "import os\n",
        "import sys\n",
        "from tempfile import NamedTemporaryFile\n",
        "from urllib.request import urlopen\n",
        "from urllib.parse import unquote, urlparse\n",
        "from urllib.error import HTTPError\n",
        "from zipfile import ZipFile\n",
        "import tarfile\n",
        "import shutil\n",
        "\n",
        "CHUNK_SIZE = 40960\n",
        "DATA_SOURCE_MAPPING = 'mobile-sales-dataset:https%3A%2F%2Fstorage.googleapis.com%2Fkaggle-data-sets%2F5449228%2F9039191%2Fbundle%2Farchive.zip%3FX-Goog-Algorithm%3DGOOG4-RSA-SHA256%26X-Goog-Credential%3Dgcp-kaggle-com%2540kaggle-161607.iam.gserviceaccount.com%252F20240727%252Fauto%252Fstorage%252Fgoog4_request%26X-Goog-Date%3D20240727T131737Z%26X-Goog-Expires%3D259200%26X-Goog-SignedHeaders%3Dhost%26X-Goog-Signature%3D06c699c0454f8fffa1594dc65d7365abc2868c831ff8daa7a92d1a8eb85a6a1db2b4f74adcecd5ac328b3528b4f310dcf7f0dff4ea815a04005c693fe4573d35950ce7262e314c75f49b0aa53592c9fab1b78ff8e081a589ef0b927591dcc939f29b5980f753f82b959f9911993fa8a37cdc1d045c9e6682476340564563e4346bf18ac2988c1010c261d93e5a7e7a0e9e47333085e820926adf05c528e61487b2f6d1651cbad61b0e5a7dae91806c7cc8543c35c1dde40b065c8d6b9c084ebb22e1311a8e411b149cbdaf0c4056eb6279b098a7261dcb87135973c7a20bbb401b29d426ac90e01c85aa1b3f48542c865e0fdf84b47e07a0598404f591fc3a39'\n",
        "\n",
        "KAGGLE_INPUT_PATH='/kaggle/input'\n",
        "KAGGLE_WORKING_PATH='/kaggle/working'\n",
        "KAGGLE_SYMLINK='kaggle'\n",
        "\n",
        "!umount /kaggle/input/ 2> /dev/null\n",
        "shutil.rmtree('/kaggle/input', ignore_errors=True)\n",
        "os.makedirs(KAGGLE_INPUT_PATH, 0o777, exist_ok=True)\n",
        "os.makedirs(KAGGLE_WORKING_PATH, 0o777, exist_ok=True)\n",
        "\n",
        "try:\n",
        "  os.symlink(KAGGLE_INPUT_PATH, os.path.join(\"..\", 'input'), target_is_directory=True)\n",
        "except FileExistsError:\n",
        "  pass\n",
        "try:\n",
        "  os.symlink(KAGGLE_WORKING_PATH, os.path.join(\"..\", 'working'), target_is_directory=True)\n",
        "except FileExistsError:\n",
        "  pass\n",
        "\n",
        "for data_source_mapping in DATA_SOURCE_MAPPING.split(','):\n",
        "    directory, download_url_encoded = data_source_mapping.split(':')\n",
        "    download_url = unquote(download_url_encoded)\n",
        "    filename = urlparse(download_url).path\n",
        "    destination_path = os.path.join(KAGGLE_INPUT_PATH, directory)\n",
        "    try:\n",
        "        with urlopen(download_url) as fileres, NamedTemporaryFile() as tfile:\n",
        "            total_length = fileres.headers['content-length']\n",
        "            print(f'Downloading {directory}, {total_length} bytes compressed')\n",
        "            dl = 0\n",
        "            data = fileres.read(CHUNK_SIZE)\n",
        "            while len(data) > 0:\n",
        "                dl += len(data)\n",
        "                tfile.write(data)\n",
        "                done = int(50 * dl / int(total_length))\n",
        "                sys.stdout.write(f\"\\r[{'=' * done}{' ' * (50-done)}] {dl} bytes downloaded\")\n",
        "                sys.stdout.flush()\n",
        "                data = fileres.read(CHUNK_SIZE)\n",
        "            if filename.endswith('.zip'):\n",
        "              with ZipFile(tfile) as zfile:\n",
        "                zfile.extractall(destination_path)\n",
        "            else:\n",
        "              with tarfile.open(tfile.name) as tarfile:\n",
        "                tarfile.extractall(destination_path)\n",
        "            print(f'\\nDownloaded and uncompressed: {directory}')\n",
        "    except HTTPError as e:\n",
        "        print(f'Failed to load (likely expired) {download_url} to path {destination_path}')\n",
        "        continue\n",
        "    except OSError as e:\n",
        "        print(f'Failed to load {download_url} to path {destination_path}')\n",
        "        continue\n",
        "\n",
        "print('Data source import complete.')\n"
      ],
      "metadata": {
        "id": "3E79D3tFVv1K",
        "outputId": "9e751280-5b9d-4e7a-c6a3-a33e4217300c",
        "colab": {
          "base_uri": "https://localhost:8080/"
        }
      },
      "cell_type": "code",
      "outputs": [
        {
          "output_type": "stream",
          "name": "stdout",
          "text": [
            "Downloading mobile-sales-dataset, 59080 bytes compressed\n",
            "[==================================================] 59080 bytes downloaded\n",
            "Downloaded and uncompressed: mobile-sales-dataset\n",
            "Data source import complete.\n"
          ]
        }
      ],
      "execution_count": null
    },
    {
      "cell_type": "code",
      "source": [
        "# This Python 3 environment comes with many helpful analytics libraries installed\n",
        "# It is defined by the kaggle/python Docker image: https://github.com/kaggle/docker-python\n",
        "# For example, here's several helpful packages to load\n",
        "\n",
        "import numpy as np # linear algebra\n",
        "import pandas as pd # data processing, CSV file I/O (e.g. pd.read_csv)\n",
        "\n",
        "# Input data files are available in the read-only \"../input/\" directory\n",
        "# For example, running this (by clicking run or pressing Shift+Enter) will list all files under the input directory\n",
        "\n",
        "import os\n",
        "for dirname, _, filenames in os.walk('/kaggle/input'):\n",
        "    for filename in filenames:\n",
        "        print(os.path.join(dirname, filename))\n",
        "\n",
        "# You can write up to 20GB to the current directory (/kaggle/working/) that gets preserved as output when you create a version using \"Save & Run All\"\n",
        "# You can also write temporary files to /kaggle/temp/, but they won't be saved outside of the current session"
      ],
      "metadata": {
        "_uuid": "8f2839f25d086af736a60e9eeb907d3b93b6e0e5",
        "_cell_guid": "b1076dfc-b9ad-4769-8c92-a6c4dae69d19",
        "execution": {
          "iopub.status.busy": "2024-07-27T07:01:46.307736Z",
          "iopub.execute_input": "2024-07-27T07:01:46.308611Z",
          "iopub.status.idle": "2024-07-27T07:01:46.321278Z",
          "shell.execute_reply.started": "2024-07-27T07:01:46.308572Z",
          "shell.execute_reply": "2024-07-27T07:01:46.320045Z"
        },
        "trusted": true,
        "id": "RQIpf4brVv1N",
        "outputId": "a3bebb5b-32d2-4983-ebc1-98734948c948",
        "colab": {
          "base_uri": "https://localhost:8080/"
        }
      },
      "execution_count": null,
      "outputs": [
        {
          "output_type": "stream",
          "name": "stdout",
          "text": [
            "/kaggle/input/mobile-sales-dataset/mobile_sales.csv\n"
          ]
        }
      ]
    },
    {
      "cell_type": "code",
      "source": [
        "df = pd.read_csv('/kaggle/input/mobile-sales-dataset/mobile_sales.csv')"
      ],
      "metadata": {
        "execution": {
          "iopub.status.busy": "2024-07-27T07:05:02.483645Z",
          "iopub.execute_input": "2024-07-27T07:05:02.484094Z",
          "iopub.status.idle": "2024-07-27T07:05:02.498435Z",
          "shell.execute_reply.started": "2024-07-27T07:05:02.484061Z",
          "shell.execute_reply": "2024-07-27T07:05:02.497251Z"
        },
        "trusted": true,
        "id": "R6sXhMUaVv1N"
      },
      "execution_count": null,
      "outputs": []
    },
    {
      "cell_type": "code",
      "source": [
        "df.head()"
      ],
      "metadata": {
        "execution": {
          "iopub.status.busy": "2024-07-27T07:05:04.594773Z",
          "iopub.execute_input": "2024-07-27T07:05:04.595191Z",
          "iopub.status.idle": "2024-07-27T07:05:04.611464Z",
          "shell.execute_reply.started": "2024-07-27T07:05:04.595156Z",
          "shell.execute_reply": "2024-07-27T07:05:04.610441Z"
        },
        "trusted": true,
        "id": "3ZuIT-_vVv1O",
        "outputId": "0114e8c4-ec6d-40a0-e4ef-cc2554572976",
        "colab": {
          "base_uri": "https://localhost:8080/",
          "height": 206
        }
      },
      "execution_count": null,
      "outputs": [
        {
          "output_type": "execute_result",
          "data": {
            "text/plain": [
              "                          TransactionID        Date MobileModel  \\\n",
              "0  79397f68-61ed-4ea8-bcb2-f918d4e6c05b  2024-01-06   direction   \n",
              "1  4f87d114-f522-4ead-93e3-f336402df6aa  2024-04-05       right   \n",
              "2  6750b7d6-dcc5-48c5-a76a-b6fc9d540fe1  2024-02-13      summer   \n",
              "3  7da7de95-f772-4cc2-bce0-b0873f98233e  2024-04-17        keep   \n",
              "4  469044af-0d60-4d87-af66-c6603e844057  2024-06-02      option   \n",
              "\n",
              "              Brand    Price  UnitsSold  TotalRevenue  CustomerAge  \\\n",
              "0         Green Inc  1196.95         85      28002.80           32   \n",
              "1   Thomas-Thompson  1010.34         64       2378.82           55   \n",
              "2  Sanchez-Williams   400.80         95      31322.56           57   \n",
              "3    Greer and Sons   338.60         79      31159.75           46   \n",
              "4    Brown and Sons   839.79         41      11523.36           38   \n",
              "\n",
              "  CustomerGender           Location PaymentMethod  \n",
              "0         Female          Port Erik        Online  \n",
              "1         Female         East Linda   Credit Card  \n",
              "2           Male  East Angelicastad        Online  \n",
              "3          Other         East Kevin          Cash  \n",
              "4           Male   New Lindaborough        Online  "
            ],
            "text/html": [
              "\n",
              "  <div id=\"df-0ea4cff8-9197-413f-b547-2bacf0bc4edb\" class=\"colab-df-container\">\n",
              "    <div>\n",
              "<style scoped>\n",
              "    .dataframe tbody tr th:only-of-type {\n",
              "        vertical-align: middle;\n",
              "    }\n",
              "\n",
              "    .dataframe tbody tr th {\n",
              "        vertical-align: top;\n",
              "    }\n",
              "\n",
              "    .dataframe thead th {\n",
              "        text-align: right;\n",
              "    }\n",
              "</style>\n",
              "<table border=\"1\" class=\"dataframe\">\n",
              "  <thead>\n",
              "    <tr style=\"text-align: right;\">\n",
              "      <th></th>\n",
              "      <th>TransactionID</th>\n",
              "      <th>Date</th>\n",
              "      <th>MobileModel</th>\n",
              "      <th>Brand</th>\n",
              "      <th>Price</th>\n",
              "      <th>UnitsSold</th>\n",
              "      <th>TotalRevenue</th>\n",
              "      <th>CustomerAge</th>\n",
              "      <th>CustomerGender</th>\n",
              "      <th>Location</th>\n",
              "      <th>PaymentMethod</th>\n",
              "    </tr>\n",
              "  </thead>\n",
              "  <tbody>\n",
              "    <tr>\n",
              "      <th>0</th>\n",
              "      <td>79397f68-61ed-4ea8-bcb2-f918d4e6c05b</td>\n",
              "      <td>2024-01-06</td>\n",
              "      <td>direction</td>\n",
              "      <td>Green Inc</td>\n",
              "      <td>1196.95</td>\n",
              "      <td>85</td>\n",
              "      <td>28002.80</td>\n",
              "      <td>32</td>\n",
              "      <td>Female</td>\n",
              "      <td>Port Erik</td>\n",
              "      <td>Online</td>\n",
              "    </tr>\n",
              "    <tr>\n",
              "      <th>1</th>\n",
              "      <td>4f87d114-f522-4ead-93e3-f336402df6aa</td>\n",
              "      <td>2024-04-05</td>\n",
              "      <td>right</td>\n",
              "      <td>Thomas-Thompson</td>\n",
              "      <td>1010.34</td>\n",
              "      <td>64</td>\n",
              "      <td>2378.82</td>\n",
              "      <td>55</td>\n",
              "      <td>Female</td>\n",
              "      <td>East Linda</td>\n",
              "      <td>Credit Card</td>\n",
              "    </tr>\n",
              "    <tr>\n",
              "      <th>2</th>\n",
              "      <td>6750b7d6-dcc5-48c5-a76a-b6fc9d540fe1</td>\n",
              "      <td>2024-02-13</td>\n",
              "      <td>summer</td>\n",
              "      <td>Sanchez-Williams</td>\n",
              "      <td>400.80</td>\n",
              "      <td>95</td>\n",
              "      <td>31322.56</td>\n",
              "      <td>57</td>\n",
              "      <td>Male</td>\n",
              "      <td>East Angelicastad</td>\n",
              "      <td>Online</td>\n",
              "    </tr>\n",
              "    <tr>\n",
              "      <th>3</th>\n",
              "      <td>7da7de95-f772-4cc2-bce0-b0873f98233e</td>\n",
              "      <td>2024-04-17</td>\n",
              "      <td>keep</td>\n",
              "      <td>Greer and Sons</td>\n",
              "      <td>338.60</td>\n",
              "      <td>79</td>\n",
              "      <td>31159.75</td>\n",
              "      <td>46</td>\n",
              "      <td>Other</td>\n",
              "      <td>East Kevin</td>\n",
              "      <td>Cash</td>\n",
              "    </tr>\n",
              "    <tr>\n",
              "      <th>4</th>\n",
              "      <td>469044af-0d60-4d87-af66-c6603e844057</td>\n",
              "      <td>2024-06-02</td>\n",
              "      <td>option</td>\n",
              "      <td>Brown and Sons</td>\n",
              "      <td>839.79</td>\n",
              "      <td>41</td>\n",
              "      <td>11523.36</td>\n",
              "      <td>38</td>\n",
              "      <td>Male</td>\n",
              "      <td>New Lindaborough</td>\n",
              "      <td>Online</td>\n",
              "    </tr>\n",
              "  </tbody>\n",
              "</table>\n",
              "</div>\n",
              "    <div class=\"colab-df-buttons\">\n",
              "\n",
              "  <div class=\"colab-df-container\">\n",
              "    <button class=\"colab-df-convert\" onclick=\"convertToInteractive('df-0ea4cff8-9197-413f-b547-2bacf0bc4edb')\"\n",
              "            title=\"Convert this dataframe to an interactive table.\"\n",
              "            style=\"display:none;\">\n",
              "\n",
              "  <svg xmlns=\"http://www.w3.org/2000/svg\" height=\"24px\" viewBox=\"0 -960 960 960\">\n",
              "    <path d=\"M120-120v-720h720v720H120Zm60-500h600v-160H180v160Zm220 220h160v-160H400v160Zm0 220h160v-160H400v160ZM180-400h160v-160H180v160Zm440 0h160v-160H620v160ZM180-180h160v-160H180v160Zm440 0h160v-160H620v160Z\"/>\n",
              "  </svg>\n",
              "    </button>\n",
              "\n",
              "  <style>\n",
              "    .colab-df-container {\n",
              "      display:flex;\n",
              "      gap: 12px;\n",
              "    }\n",
              "\n",
              "    .colab-df-convert {\n",
              "      background-color: #E8F0FE;\n",
              "      border: none;\n",
              "      border-radius: 50%;\n",
              "      cursor: pointer;\n",
              "      display: none;\n",
              "      fill: #1967D2;\n",
              "      height: 32px;\n",
              "      padding: 0 0 0 0;\n",
              "      width: 32px;\n",
              "    }\n",
              "\n",
              "    .colab-df-convert:hover {\n",
              "      background-color: #E2EBFA;\n",
              "      box-shadow: 0px 1px 2px rgba(60, 64, 67, 0.3), 0px 1px 3px 1px rgba(60, 64, 67, 0.15);\n",
              "      fill: #174EA6;\n",
              "    }\n",
              "\n",
              "    .colab-df-buttons div {\n",
              "      margin-bottom: 4px;\n",
              "    }\n",
              "\n",
              "    [theme=dark] .colab-df-convert {\n",
              "      background-color: #3B4455;\n",
              "      fill: #D2E3FC;\n",
              "    }\n",
              "\n",
              "    [theme=dark] .colab-df-convert:hover {\n",
              "      background-color: #434B5C;\n",
              "      box-shadow: 0px 1px 3px 1px rgba(0, 0, 0, 0.15);\n",
              "      filter: drop-shadow(0px 1px 2px rgba(0, 0, 0, 0.3));\n",
              "      fill: #FFFFFF;\n",
              "    }\n",
              "  </style>\n",
              "\n",
              "    <script>\n",
              "      const buttonEl =\n",
              "        document.querySelector('#df-0ea4cff8-9197-413f-b547-2bacf0bc4edb button.colab-df-convert');\n",
              "      buttonEl.style.display =\n",
              "        google.colab.kernel.accessAllowed ? 'block' : 'none';\n",
              "\n",
              "      async function convertToInteractive(key) {\n",
              "        const element = document.querySelector('#df-0ea4cff8-9197-413f-b547-2bacf0bc4edb');\n",
              "        const dataTable =\n",
              "          await google.colab.kernel.invokeFunction('convertToInteractive',\n",
              "                                                    [key], {});\n",
              "        if (!dataTable) return;\n",
              "\n",
              "        const docLinkHtml = 'Like what you see? Visit the ' +\n",
              "          '<a target=\"_blank\" href=https://colab.research.google.com/notebooks/data_table.ipynb>data table notebook</a>'\n",
              "          + ' to learn more about interactive tables.';\n",
              "        element.innerHTML = '';\n",
              "        dataTable['output_type'] = 'display_data';\n",
              "        await google.colab.output.renderOutput(dataTable, element);\n",
              "        const docLink = document.createElement('div');\n",
              "        docLink.innerHTML = docLinkHtml;\n",
              "        element.appendChild(docLink);\n",
              "      }\n",
              "    </script>\n",
              "  </div>\n",
              "\n",
              "\n",
              "<div id=\"df-c5b7bf19-961e-440f-a2db-e0937d9e0dcc\">\n",
              "  <button class=\"colab-df-quickchart\" onclick=\"quickchart('df-c5b7bf19-961e-440f-a2db-e0937d9e0dcc')\"\n",
              "            title=\"Suggest charts\"\n",
              "            style=\"display:none;\">\n",
              "\n",
              "<svg xmlns=\"http://www.w3.org/2000/svg\" height=\"24px\"viewBox=\"0 0 24 24\"\n",
              "     width=\"24px\">\n",
              "    <g>\n",
              "        <path d=\"M19 3H5c-1.1 0-2 .9-2 2v14c0 1.1.9 2 2 2h14c1.1 0 2-.9 2-2V5c0-1.1-.9-2-2-2zM9 17H7v-7h2v7zm4 0h-2V7h2v10zm4 0h-2v-4h2v4z\"/>\n",
              "    </g>\n",
              "</svg>\n",
              "  </button>\n",
              "\n",
              "<style>\n",
              "  .colab-df-quickchart {\n",
              "      --bg-color: #E8F0FE;\n",
              "      --fill-color: #1967D2;\n",
              "      --hover-bg-color: #E2EBFA;\n",
              "      --hover-fill-color: #174EA6;\n",
              "      --disabled-fill-color: #AAA;\n",
              "      --disabled-bg-color: #DDD;\n",
              "  }\n",
              "\n",
              "  [theme=dark] .colab-df-quickchart {\n",
              "      --bg-color: #3B4455;\n",
              "      --fill-color: #D2E3FC;\n",
              "      --hover-bg-color: #434B5C;\n",
              "      --hover-fill-color: #FFFFFF;\n",
              "      --disabled-bg-color: #3B4455;\n",
              "      --disabled-fill-color: #666;\n",
              "  }\n",
              "\n",
              "  .colab-df-quickchart {\n",
              "    background-color: var(--bg-color);\n",
              "    border: none;\n",
              "    border-radius: 50%;\n",
              "    cursor: pointer;\n",
              "    display: none;\n",
              "    fill: var(--fill-color);\n",
              "    height: 32px;\n",
              "    padding: 0;\n",
              "    width: 32px;\n",
              "  }\n",
              "\n",
              "  .colab-df-quickchart:hover {\n",
              "    background-color: var(--hover-bg-color);\n",
              "    box-shadow: 0 1px 2px rgba(60, 64, 67, 0.3), 0 1px 3px 1px rgba(60, 64, 67, 0.15);\n",
              "    fill: var(--button-hover-fill-color);\n",
              "  }\n",
              "\n",
              "  .colab-df-quickchart-complete:disabled,\n",
              "  .colab-df-quickchart-complete:disabled:hover {\n",
              "    background-color: var(--disabled-bg-color);\n",
              "    fill: var(--disabled-fill-color);\n",
              "    box-shadow: none;\n",
              "  }\n",
              "\n",
              "  .colab-df-spinner {\n",
              "    border: 2px solid var(--fill-color);\n",
              "    border-color: transparent;\n",
              "    border-bottom-color: var(--fill-color);\n",
              "    animation:\n",
              "      spin 1s steps(1) infinite;\n",
              "  }\n",
              "\n",
              "  @keyframes spin {\n",
              "    0% {\n",
              "      border-color: transparent;\n",
              "      border-bottom-color: var(--fill-color);\n",
              "      border-left-color: var(--fill-color);\n",
              "    }\n",
              "    20% {\n",
              "      border-color: transparent;\n",
              "      border-left-color: var(--fill-color);\n",
              "      border-top-color: var(--fill-color);\n",
              "    }\n",
              "    30% {\n",
              "      border-color: transparent;\n",
              "      border-left-color: var(--fill-color);\n",
              "      border-top-color: var(--fill-color);\n",
              "      border-right-color: var(--fill-color);\n",
              "    }\n",
              "    40% {\n",
              "      border-color: transparent;\n",
              "      border-right-color: var(--fill-color);\n",
              "      border-top-color: var(--fill-color);\n",
              "    }\n",
              "    60% {\n",
              "      border-color: transparent;\n",
              "      border-right-color: var(--fill-color);\n",
              "    }\n",
              "    80% {\n",
              "      border-color: transparent;\n",
              "      border-right-color: var(--fill-color);\n",
              "      border-bottom-color: var(--fill-color);\n",
              "    }\n",
              "    90% {\n",
              "      border-color: transparent;\n",
              "      border-bottom-color: var(--fill-color);\n",
              "    }\n",
              "  }\n",
              "</style>\n",
              "\n",
              "  <script>\n",
              "    async function quickchart(key) {\n",
              "      const quickchartButtonEl =\n",
              "        document.querySelector('#' + key + ' button');\n",
              "      quickchartButtonEl.disabled = true;  // To prevent multiple clicks.\n",
              "      quickchartButtonEl.classList.add('colab-df-spinner');\n",
              "      try {\n",
              "        const charts = await google.colab.kernel.invokeFunction(\n",
              "            'suggestCharts', [key], {});\n",
              "      } catch (error) {\n",
              "        console.error('Error during call to suggestCharts:', error);\n",
              "      }\n",
              "      quickchartButtonEl.classList.remove('colab-df-spinner');\n",
              "      quickchartButtonEl.classList.add('colab-df-quickchart-complete');\n",
              "    }\n",
              "    (() => {\n",
              "      let quickchartButtonEl =\n",
              "        document.querySelector('#df-c5b7bf19-961e-440f-a2db-e0937d9e0dcc button');\n",
              "      quickchartButtonEl.style.display =\n",
              "        google.colab.kernel.accessAllowed ? 'block' : 'none';\n",
              "    })();\n",
              "  </script>\n",
              "</div>\n",
              "\n",
              "    </div>\n",
              "  </div>\n"
            ],
            "application/vnd.google.colaboratory.intrinsic+json": {
              "type": "dataframe",
              "variable_name": "df",
              "summary": "{\n  \"name\": \"df\",\n  \"rows\": 1000,\n  \"fields\": [\n    {\n      \"column\": \"TransactionID\",\n      \"properties\": {\n        \"dtype\": \"string\",\n        \"num_unique_values\": 1000,\n        \"samples\": [\n          \"5715966f-620a-44f4-b08d-9c444264c4c1\",\n          \"4053c488-2914-4b4b-add0-8b8ae200f475\",\n          \"d3d4d7ac-864d-4fe7-89d2-daa38324fbce\"\n        ],\n        \"semantic_type\": \"\",\n        \"description\": \"\"\n      }\n    },\n    {\n      \"column\": \"Date\",\n      \"properties\": {\n        \"dtype\": \"object\",\n        \"num_unique_values\": 205,\n        \"samples\": [\n          \"2024-05-01\",\n          \"2024-04-19\",\n          \"2024-04-28\"\n        ],\n        \"semantic_type\": \"\",\n        \"description\": \"\"\n      }\n    },\n    {\n      \"column\": \"MobileModel\",\n      \"properties\": {\n        \"dtype\": \"string\",\n        \"num_unique_values\": 637,\n        \"samples\": [\n          \"staff\",\n          \"heart\",\n          \"step\"\n        ],\n        \"semantic_type\": \"\",\n        \"description\": \"\"\n      }\n    },\n    {\n      \"column\": \"Brand\",\n      \"properties\": {\n        \"dtype\": \"string\",\n        \"num_unique_values\": 980,\n        \"samples\": [\n          \"Wallace Ltd\",\n          \"Salazar, Myers and Mcmahon\",\n          \"Brown, Parsons and Johnson\"\n        ],\n        \"semantic_type\": \"\",\n        \"description\": \"\"\n      }\n    },\n    {\n      \"column\": \"Price\",\n      \"properties\": {\n        \"dtype\": \"number\",\n        \"std\": 402.48987839209974,\n        \"min\": 103.32,\n        \"max\": 1499.25,\n        \"num_unique_values\": 999,\n        \"samples\": [\n          901.21,\n          1073.31,\n          213.05\n        ],\n        \"semantic_type\": \"\",\n        \"description\": \"\"\n      }\n    },\n    {\n      \"column\": \"UnitsSold\",\n      \"properties\": {\n        \"dtype\": \"number\",\n        \"std\": 28,\n        \"min\": 1,\n        \"max\": 99,\n        \"num_unique_values\": 99,\n        \"samples\": [\n          32,\n          78,\n          88\n        ],\n        \"semantic_type\": \"\",\n        \"description\": \"\"\n      }\n    },\n    {\n      \"column\": \"TotalRevenue\",\n      \"properties\": {\n        \"dtype\": \"number\",\n        \"std\": 32715.290358116996,\n        \"min\": 116.85,\n        \"max\": 141411.84,\n        \"num_unique_values\": 999,\n        \"samples\": [\n          12305.92,\n          15090.48,\n          6046.22\n        ],\n        \"semantic_type\": \"\",\n        \"description\": \"\"\n      }\n    },\n    {\n      \"column\": \"CustomerAge\",\n      \"properties\": {\n        \"dtype\": \"number\",\n        \"std\": 13,\n        \"min\": 18,\n        \"max\": 64,\n        \"num_unique_values\": 47,\n        \"samples\": [\n          49,\n          58,\n          21\n        ],\n        \"semantic_type\": \"\",\n        \"description\": \"\"\n      }\n    },\n    {\n      \"column\": \"CustomerGender\",\n      \"properties\": {\n        \"dtype\": \"category\",\n        \"num_unique_values\": 3,\n        \"samples\": [\n          \"Female\",\n          \"Male\",\n          \"Other\"\n        ],\n        \"semantic_type\": \"\",\n        \"description\": \"\"\n      }\n    },\n    {\n      \"column\": \"Location\",\n      \"properties\": {\n        \"dtype\": \"string\",\n        \"num_unique_values\": 963,\n        \"samples\": [\n          \"East Anaville\",\n          \"New Desireeborough\",\n          \"Smithton\"\n        ],\n        \"semantic_type\": \"\",\n        \"description\": \"\"\n      }\n    },\n    {\n      \"column\": \"PaymentMethod\",\n      \"properties\": {\n        \"dtype\": \"category\",\n        \"num_unique_values\": 4,\n        \"samples\": [\n          \"Credit Card\",\n          \"Debit Card\",\n          \"Online\"\n        ],\n        \"semantic_type\": \"\",\n        \"description\": \"\"\n      }\n    }\n  ]\n}"
            }
          },
          "metadata": {},
          "execution_count": 4
        }
      ]
    },
    {
      "cell_type": "code",
      "source": [
        "df.drop(columns = ['TransactionID','Date','Location'],inplace =  True)"
      ],
      "metadata": {
        "execution": {
          "iopub.status.busy": "2024-07-27T07:05:07.418028Z",
          "iopub.execute_input": "2024-07-27T07:05:07.418426Z",
          "iopub.status.idle": "2024-07-27T07:05:07.42542Z",
          "shell.execute_reply.started": "2024-07-27T07:05:07.418394Z",
          "shell.execute_reply": "2024-07-27T07:05:07.424194Z"
        },
        "trusted": true,
        "id": "XsgBJfkwVv1O"
      },
      "execution_count": null,
      "outputs": []
    },
    {
      "cell_type": "code",
      "source": [
        "df.head()"
      ],
      "metadata": {
        "execution": {
          "iopub.status.busy": "2024-07-27T07:05:09.430188Z",
          "iopub.execute_input": "2024-07-27T07:05:09.430554Z",
          "iopub.status.idle": "2024-07-27T07:05:09.447365Z",
          "shell.execute_reply.started": "2024-07-27T07:05:09.430527Z",
          "shell.execute_reply": "2024-07-27T07:05:09.446255Z"
        },
        "trusted": true,
        "id": "LOkOQeatVv1O",
        "outputId": "a339e867-f699-4c06-c2f5-ba9855dff314",
        "colab": {
          "base_uri": "https://localhost:8080/",
          "height": 206
        }
      },
      "execution_count": null,
      "outputs": [
        {
          "output_type": "execute_result",
          "data": {
            "text/plain": [
              "  MobileModel             Brand    Price  UnitsSold  TotalRevenue  \\\n",
              "0   direction         Green Inc  1196.95         85      28002.80   \n",
              "1       right   Thomas-Thompson  1010.34         64       2378.82   \n",
              "2      summer  Sanchez-Williams   400.80         95      31322.56   \n",
              "3        keep    Greer and Sons   338.60         79      31159.75   \n",
              "4      option    Brown and Sons   839.79         41      11523.36   \n",
              "\n",
              "   CustomerAge CustomerGender PaymentMethod  \n",
              "0           32         Female        Online  \n",
              "1           55         Female   Credit Card  \n",
              "2           57           Male        Online  \n",
              "3           46          Other          Cash  \n",
              "4           38           Male        Online  "
            ],
            "text/html": [
              "\n",
              "  <div id=\"df-84482fa1-5387-4528-8609-dc13ca50ec59\" class=\"colab-df-container\">\n",
              "    <div>\n",
              "<style scoped>\n",
              "    .dataframe tbody tr th:only-of-type {\n",
              "        vertical-align: middle;\n",
              "    }\n",
              "\n",
              "    .dataframe tbody tr th {\n",
              "        vertical-align: top;\n",
              "    }\n",
              "\n",
              "    .dataframe thead th {\n",
              "        text-align: right;\n",
              "    }\n",
              "</style>\n",
              "<table border=\"1\" class=\"dataframe\">\n",
              "  <thead>\n",
              "    <tr style=\"text-align: right;\">\n",
              "      <th></th>\n",
              "      <th>MobileModel</th>\n",
              "      <th>Brand</th>\n",
              "      <th>Price</th>\n",
              "      <th>UnitsSold</th>\n",
              "      <th>TotalRevenue</th>\n",
              "      <th>CustomerAge</th>\n",
              "      <th>CustomerGender</th>\n",
              "      <th>PaymentMethod</th>\n",
              "    </tr>\n",
              "  </thead>\n",
              "  <tbody>\n",
              "    <tr>\n",
              "      <th>0</th>\n",
              "      <td>direction</td>\n",
              "      <td>Green Inc</td>\n",
              "      <td>1196.95</td>\n",
              "      <td>85</td>\n",
              "      <td>28002.80</td>\n",
              "      <td>32</td>\n",
              "      <td>Female</td>\n",
              "      <td>Online</td>\n",
              "    </tr>\n",
              "    <tr>\n",
              "      <th>1</th>\n",
              "      <td>right</td>\n",
              "      <td>Thomas-Thompson</td>\n",
              "      <td>1010.34</td>\n",
              "      <td>64</td>\n",
              "      <td>2378.82</td>\n",
              "      <td>55</td>\n",
              "      <td>Female</td>\n",
              "      <td>Credit Card</td>\n",
              "    </tr>\n",
              "    <tr>\n",
              "      <th>2</th>\n",
              "      <td>summer</td>\n",
              "      <td>Sanchez-Williams</td>\n",
              "      <td>400.80</td>\n",
              "      <td>95</td>\n",
              "      <td>31322.56</td>\n",
              "      <td>57</td>\n",
              "      <td>Male</td>\n",
              "      <td>Online</td>\n",
              "    </tr>\n",
              "    <tr>\n",
              "      <th>3</th>\n",
              "      <td>keep</td>\n",
              "      <td>Greer and Sons</td>\n",
              "      <td>338.60</td>\n",
              "      <td>79</td>\n",
              "      <td>31159.75</td>\n",
              "      <td>46</td>\n",
              "      <td>Other</td>\n",
              "      <td>Cash</td>\n",
              "    </tr>\n",
              "    <tr>\n",
              "      <th>4</th>\n",
              "      <td>option</td>\n",
              "      <td>Brown and Sons</td>\n",
              "      <td>839.79</td>\n",
              "      <td>41</td>\n",
              "      <td>11523.36</td>\n",
              "      <td>38</td>\n",
              "      <td>Male</td>\n",
              "      <td>Online</td>\n",
              "    </tr>\n",
              "  </tbody>\n",
              "</table>\n",
              "</div>\n",
              "    <div class=\"colab-df-buttons\">\n",
              "\n",
              "  <div class=\"colab-df-container\">\n",
              "    <button class=\"colab-df-convert\" onclick=\"convertToInteractive('df-84482fa1-5387-4528-8609-dc13ca50ec59')\"\n",
              "            title=\"Convert this dataframe to an interactive table.\"\n",
              "            style=\"display:none;\">\n",
              "\n",
              "  <svg xmlns=\"http://www.w3.org/2000/svg\" height=\"24px\" viewBox=\"0 -960 960 960\">\n",
              "    <path d=\"M120-120v-720h720v720H120Zm60-500h600v-160H180v160Zm220 220h160v-160H400v160Zm0 220h160v-160H400v160ZM180-400h160v-160H180v160Zm440 0h160v-160H620v160ZM180-180h160v-160H180v160Zm440 0h160v-160H620v160Z\"/>\n",
              "  </svg>\n",
              "    </button>\n",
              "\n",
              "  <style>\n",
              "    .colab-df-container {\n",
              "      display:flex;\n",
              "      gap: 12px;\n",
              "    }\n",
              "\n",
              "    .colab-df-convert {\n",
              "      background-color: #E8F0FE;\n",
              "      border: none;\n",
              "      border-radius: 50%;\n",
              "      cursor: pointer;\n",
              "      display: none;\n",
              "      fill: #1967D2;\n",
              "      height: 32px;\n",
              "      padding: 0 0 0 0;\n",
              "      width: 32px;\n",
              "    }\n",
              "\n",
              "    .colab-df-convert:hover {\n",
              "      background-color: #E2EBFA;\n",
              "      box-shadow: 0px 1px 2px rgba(60, 64, 67, 0.3), 0px 1px 3px 1px rgba(60, 64, 67, 0.15);\n",
              "      fill: #174EA6;\n",
              "    }\n",
              "\n",
              "    .colab-df-buttons div {\n",
              "      margin-bottom: 4px;\n",
              "    }\n",
              "\n",
              "    [theme=dark] .colab-df-convert {\n",
              "      background-color: #3B4455;\n",
              "      fill: #D2E3FC;\n",
              "    }\n",
              "\n",
              "    [theme=dark] .colab-df-convert:hover {\n",
              "      background-color: #434B5C;\n",
              "      box-shadow: 0px 1px 3px 1px rgba(0, 0, 0, 0.15);\n",
              "      filter: drop-shadow(0px 1px 2px rgba(0, 0, 0, 0.3));\n",
              "      fill: #FFFFFF;\n",
              "    }\n",
              "  </style>\n",
              "\n",
              "    <script>\n",
              "      const buttonEl =\n",
              "        document.querySelector('#df-84482fa1-5387-4528-8609-dc13ca50ec59 button.colab-df-convert');\n",
              "      buttonEl.style.display =\n",
              "        google.colab.kernel.accessAllowed ? 'block' : 'none';\n",
              "\n",
              "      async function convertToInteractive(key) {\n",
              "        const element = document.querySelector('#df-84482fa1-5387-4528-8609-dc13ca50ec59');\n",
              "        const dataTable =\n",
              "          await google.colab.kernel.invokeFunction('convertToInteractive',\n",
              "                                                    [key], {});\n",
              "        if (!dataTable) return;\n",
              "\n",
              "        const docLinkHtml = 'Like what you see? Visit the ' +\n",
              "          '<a target=\"_blank\" href=https://colab.research.google.com/notebooks/data_table.ipynb>data table notebook</a>'\n",
              "          + ' to learn more about interactive tables.';\n",
              "        element.innerHTML = '';\n",
              "        dataTable['output_type'] = 'display_data';\n",
              "        await google.colab.output.renderOutput(dataTable, element);\n",
              "        const docLink = document.createElement('div');\n",
              "        docLink.innerHTML = docLinkHtml;\n",
              "        element.appendChild(docLink);\n",
              "      }\n",
              "    </script>\n",
              "  </div>\n",
              "\n",
              "\n",
              "<div id=\"df-2e950814-71e9-4905-bf5f-5c363a5e53ce\">\n",
              "  <button class=\"colab-df-quickchart\" onclick=\"quickchart('df-2e950814-71e9-4905-bf5f-5c363a5e53ce')\"\n",
              "            title=\"Suggest charts\"\n",
              "            style=\"display:none;\">\n",
              "\n",
              "<svg xmlns=\"http://www.w3.org/2000/svg\" height=\"24px\"viewBox=\"0 0 24 24\"\n",
              "     width=\"24px\">\n",
              "    <g>\n",
              "        <path d=\"M19 3H5c-1.1 0-2 .9-2 2v14c0 1.1.9 2 2 2h14c1.1 0 2-.9 2-2V5c0-1.1-.9-2-2-2zM9 17H7v-7h2v7zm4 0h-2V7h2v10zm4 0h-2v-4h2v4z\"/>\n",
              "    </g>\n",
              "</svg>\n",
              "  </button>\n",
              "\n",
              "<style>\n",
              "  .colab-df-quickchart {\n",
              "      --bg-color: #E8F0FE;\n",
              "      --fill-color: #1967D2;\n",
              "      --hover-bg-color: #E2EBFA;\n",
              "      --hover-fill-color: #174EA6;\n",
              "      --disabled-fill-color: #AAA;\n",
              "      --disabled-bg-color: #DDD;\n",
              "  }\n",
              "\n",
              "  [theme=dark] .colab-df-quickchart {\n",
              "      --bg-color: #3B4455;\n",
              "      --fill-color: #D2E3FC;\n",
              "      --hover-bg-color: #434B5C;\n",
              "      --hover-fill-color: #FFFFFF;\n",
              "      --disabled-bg-color: #3B4455;\n",
              "      --disabled-fill-color: #666;\n",
              "  }\n",
              "\n",
              "  .colab-df-quickchart {\n",
              "    background-color: var(--bg-color);\n",
              "    border: none;\n",
              "    border-radius: 50%;\n",
              "    cursor: pointer;\n",
              "    display: none;\n",
              "    fill: var(--fill-color);\n",
              "    height: 32px;\n",
              "    padding: 0;\n",
              "    width: 32px;\n",
              "  }\n",
              "\n",
              "  .colab-df-quickchart:hover {\n",
              "    background-color: var(--hover-bg-color);\n",
              "    box-shadow: 0 1px 2px rgba(60, 64, 67, 0.3), 0 1px 3px 1px rgba(60, 64, 67, 0.15);\n",
              "    fill: var(--button-hover-fill-color);\n",
              "  }\n",
              "\n",
              "  .colab-df-quickchart-complete:disabled,\n",
              "  .colab-df-quickchart-complete:disabled:hover {\n",
              "    background-color: var(--disabled-bg-color);\n",
              "    fill: var(--disabled-fill-color);\n",
              "    box-shadow: none;\n",
              "  }\n",
              "\n",
              "  .colab-df-spinner {\n",
              "    border: 2px solid var(--fill-color);\n",
              "    border-color: transparent;\n",
              "    border-bottom-color: var(--fill-color);\n",
              "    animation:\n",
              "      spin 1s steps(1) infinite;\n",
              "  }\n",
              "\n",
              "  @keyframes spin {\n",
              "    0% {\n",
              "      border-color: transparent;\n",
              "      border-bottom-color: var(--fill-color);\n",
              "      border-left-color: var(--fill-color);\n",
              "    }\n",
              "    20% {\n",
              "      border-color: transparent;\n",
              "      border-left-color: var(--fill-color);\n",
              "      border-top-color: var(--fill-color);\n",
              "    }\n",
              "    30% {\n",
              "      border-color: transparent;\n",
              "      border-left-color: var(--fill-color);\n",
              "      border-top-color: var(--fill-color);\n",
              "      border-right-color: var(--fill-color);\n",
              "    }\n",
              "    40% {\n",
              "      border-color: transparent;\n",
              "      border-right-color: var(--fill-color);\n",
              "      border-top-color: var(--fill-color);\n",
              "    }\n",
              "    60% {\n",
              "      border-color: transparent;\n",
              "      border-right-color: var(--fill-color);\n",
              "    }\n",
              "    80% {\n",
              "      border-color: transparent;\n",
              "      border-right-color: var(--fill-color);\n",
              "      border-bottom-color: var(--fill-color);\n",
              "    }\n",
              "    90% {\n",
              "      border-color: transparent;\n",
              "      border-bottom-color: var(--fill-color);\n",
              "    }\n",
              "  }\n",
              "</style>\n",
              "\n",
              "  <script>\n",
              "    async function quickchart(key) {\n",
              "      const quickchartButtonEl =\n",
              "        document.querySelector('#' + key + ' button');\n",
              "      quickchartButtonEl.disabled = true;  // To prevent multiple clicks.\n",
              "      quickchartButtonEl.classList.add('colab-df-spinner');\n",
              "      try {\n",
              "        const charts = await google.colab.kernel.invokeFunction(\n",
              "            'suggestCharts', [key], {});\n",
              "      } catch (error) {\n",
              "        console.error('Error during call to suggestCharts:', error);\n",
              "      }\n",
              "      quickchartButtonEl.classList.remove('colab-df-spinner');\n",
              "      quickchartButtonEl.classList.add('colab-df-quickchart-complete');\n",
              "    }\n",
              "    (() => {\n",
              "      let quickchartButtonEl =\n",
              "        document.querySelector('#df-2e950814-71e9-4905-bf5f-5c363a5e53ce button');\n",
              "      quickchartButtonEl.style.display =\n",
              "        google.colab.kernel.accessAllowed ? 'block' : 'none';\n",
              "    })();\n",
              "  </script>\n",
              "</div>\n",
              "\n",
              "    </div>\n",
              "  </div>\n"
            ],
            "application/vnd.google.colaboratory.intrinsic+json": {
              "type": "dataframe",
              "variable_name": "df",
              "summary": "{\n  \"name\": \"df\",\n  \"rows\": 1000,\n  \"fields\": [\n    {\n      \"column\": \"MobileModel\",\n      \"properties\": {\n        \"dtype\": \"string\",\n        \"num_unique_values\": 637,\n        \"samples\": [\n          \"staff\",\n          \"heart\",\n          \"step\"\n        ],\n        \"semantic_type\": \"\",\n        \"description\": \"\"\n      }\n    },\n    {\n      \"column\": \"Brand\",\n      \"properties\": {\n        \"dtype\": \"string\",\n        \"num_unique_values\": 980,\n        \"samples\": [\n          \"Wallace Ltd\",\n          \"Salazar, Myers and Mcmahon\",\n          \"Brown, Parsons and Johnson\"\n        ],\n        \"semantic_type\": \"\",\n        \"description\": \"\"\n      }\n    },\n    {\n      \"column\": \"Price\",\n      \"properties\": {\n        \"dtype\": \"number\",\n        \"std\": 402.48987839209974,\n        \"min\": 103.32,\n        \"max\": 1499.25,\n        \"num_unique_values\": 999,\n        \"samples\": [\n          901.21,\n          1073.31,\n          213.05\n        ],\n        \"semantic_type\": \"\",\n        \"description\": \"\"\n      }\n    },\n    {\n      \"column\": \"UnitsSold\",\n      \"properties\": {\n        \"dtype\": \"number\",\n        \"std\": 28,\n        \"min\": 1,\n        \"max\": 99,\n        \"num_unique_values\": 99,\n        \"samples\": [\n          32,\n          78,\n          88\n        ],\n        \"semantic_type\": \"\",\n        \"description\": \"\"\n      }\n    },\n    {\n      \"column\": \"TotalRevenue\",\n      \"properties\": {\n        \"dtype\": \"number\",\n        \"std\": 32715.290358116996,\n        \"min\": 116.85,\n        \"max\": 141411.84,\n        \"num_unique_values\": 999,\n        \"samples\": [\n          12305.92,\n          15090.48,\n          6046.22\n        ],\n        \"semantic_type\": \"\",\n        \"description\": \"\"\n      }\n    },\n    {\n      \"column\": \"CustomerAge\",\n      \"properties\": {\n        \"dtype\": \"number\",\n        \"std\": 13,\n        \"min\": 18,\n        \"max\": 64,\n        \"num_unique_values\": 47,\n        \"samples\": [\n          49,\n          58,\n          21\n        ],\n        \"semantic_type\": \"\",\n        \"description\": \"\"\n      }\n    },\n    {\n      \"column\": \"CustomerGender\",\n      \"properties\": {\n        \"dtype\": \"category\",\n        \"num_unique_values\": 3,\n        \"samples\": [\n          \"Female\",\n          \"Male\",\n          \"Other\"\n        ],\n        \"semantic_type\": \"\",\n        \"description\": \"\"\n      }\n    },\n    {\n      \"column\": \"PaymentMethod\",\n      \"properties\": {\n        \"dtype\": \"category\",\n        \"num_unique_values\": 4,\n        \"samples\": [\n          \"Credit Card\",\n          \"Debit Card\",\n          \"Online\"\n        ],\n        \"semantic_type\": \"\",\n        \"description\": \"\"\n      }\n    }\n  ]\n}"
            }
          },
          "metadata": {},
          "execution_count": 6
        }
      ]
    },
    {
      "cell_type": "code",
      "source": [
        "df.isnull().sum()"
      ],
      "metadata": {
        "execution": {
          "iopub.status.busy": "2024-07-27T07:05:11.742625Z",
          "iopub.execute_input": "2024-07-27T07:05:11.743075Z",
          "iopub.status.idle": "2024-07-27T07:05:11.752443Z",
          "shell.execute_reply.started": "2024-07-27T07:05:11.743039Z",
          "shell.execute_reply": "2024-07-27T07:05:11.750989Z"
        },
        "trusted": true,
        "id": "k1PaOZHnVv1P",
        "outputId": "d1e7b536-14e5-414b-c68b-6dcbfcb5132f",
        "colab": {
          "base_uri": "https://localhost:8080/"
        }
      },
      "execution_count": null,
      "outputs": [
        {
          "output_type": "execute_result",
          "data": {
            "text/plain": [
              "MobileModel       0\n",
              "Brand             0\n",
              "Price             0\n",
              "UnitsSold         0\n",
              "TotalRevenue      0\n",
              "CustomerAge       0\n",
              "CustomerGender    0\n",
              "PaymentMethod     0\n",
              "dtype: int64"
            ]
          },
          "metadata": {},
          "execution_count": 7
        }
      ]
    },
    {
      "cell_type": "code",
      "source": [
        "df.duplicated().sum()"
      ],
      "metadata": {
        "execution": {
          "iopub.status.busy": "2024-07-27T07:05:14.254974Z",
          "iopub.execute_input": "2024-07-27T07:05:14.25536Z",
          "iopub.status.idle": "2024-07-27T07:05:14.265389Z",
          "shell.execute_reply.started": "2024-07-27T07:05:14.255334Z",
          "shell.execute_reply": "2024-07-27T07:05:14.264144Z"
        },
        "trusted": true,
        "id": "9xk7nJT6Vv1P",
        "outputId": "cd2aed6e-a4e6-446a-cb5d-6b97ae8134ec",
        "colab": {
          "base_uri": "https://localhost:8080/"
        }
      },
      "execution_count": null,
      "outputs": [
        {
          "output_type": "execute_result",
          "data": {
            "text/plain": [
              "0"
            ]
          },
          "metadata": {},
          "execution_count": 8
        }
      ]
    },
    {
      "cell_type": "code",
      "source": [
        "df.info()"
      ],
      "metadata": {
        "execution": {
          "iopub.status.busy": "2024-07-27T07:05:16.762364Z",
          "iopub.execute_input": "2024-07-27T07:05:16.762755Z",
          "iopub.status.idle": "2024-07-27T07:05:16.776248Z",
          "shell.execute_reply.started": "2024-07-27T07:05:16.762725Z",
          "shell.execute_reply": "2024-07-27T07:05:16.774875Z"
        },
        "trusted": true,
        "id": "vtxhkcSBVv1P",
        "outputId": "c455e968-e7a8-4d42-834a-b9aa933b3070",
        "colab": {
          "base_uri": "https://localhost:8080/"
        }
      },
      "execution_count": null,
      "outputs": [
        {
          "output_type": "stream",
          "name": "stdout",
          "text": [
            "<class 'pandas.core.frame.DataFrame'>\n",
            "RangeIndex: 1000 entries, 0 to 999\n",
            "Data columns (total 8 columns):\n",
            " #   Column          Non-Null Count  Dtype  \n",
            "---  ------          --------------  -----  \n",
            " 0   MobileModel     1000 non-null   object \n",
            " 1   Brand           1000 non-null   object \n",
            " 2   Price           1000 non-null   float64\n",
            " 3   UnitsSold       1000 non-null   int64  \n",
            " 4   TotalRevenue    1000 non-null   float64\n",
            " 5   CustomerAge     1000 non-null   int64  \n",
            " 6   CustomerGender  1000 non-null   object \n",
            " 7   PaymentMethod   1000 non-null   object \n",
            "dtypes: float64(2), int64(2), object(4)\n",
            "memory usage: 62.6+ KB\n"
          ]
        }
      ]
    },
    {
      "cell_type": "code",
      "source": [
        "import matplotlib.pyplot as plt\n",
        "import seaborn as sns"
      ],
      "metadata": {
        "execution": {
          "iopub.status.busy": "2024-07-27T07:05:18.898253Z",
          "iopub.execute_input": "2024-07-27T07:05:18.898626Z",
          "iopub.status.idle": "2024-07-27T07:05:18.903948Z",
          "shell.execute_reply.started": "2024-07-27T07:05:18.898598Z",
          "shell.execute_reply": "2024-07-27T07:05:18.902673Z"
        },
        "trusted": true,
        "id": "Y1Lj794DVv1Q"
      },
      "execution_count": null,
      "outputs": []
    },
    {
      "cell_type": "code",
      "source": [
        "df['MobileModel'].value_counts()"
      ],
      "metadata": {
        "execution": {
          "iopub.status.busy": "2024-07-27T07:05:21.778617Z",
          "iopub.execute_input": "2024-07-27T07:05:21.779651Z",
          "iopub.status.idle": "2024-07-27T07:05:21.791054Z",
          "shell.execute_reply.started": "2024-07-27T07:05:21.779612Z",
          "shell.execute_reply": "2024-07-27T07:05:21.789769Z"
        },
        "trusted": true,
        "id": "64PMQRqdVv1Q",
        "outputId": "5869f0ef-c0e0-4285-87d8-a9be98c2a557",
        "colab": {
          "base_uri": "https://localhost:8080/"
        }
      },
      "execution_count": null,
      "outputs": [
        {
          "output_type": "execute_result",
          "data": {
            "text/plain": [
              "MobileModel\n",
              "many       5\n",
              "service    5\n",
              "eat        4\n",
              "believe    4\n",
              "mouth      4\n",
              "          ..\n",
              "see        1\n",
              "listen     1\n",
              "policy     1\n",
              "change     1\n",
              "memory     1\n",
              "Name: count, Length: 637, dtype: int64"
            ]
          },
          "metadata": {},
          "execution_count": 11
        }
      ]
    },
    {
      "cell_type": "code",
      "source": [
        "df['Brand'].value_counts()"
      ],
      "metadata": {
        "execution": {
          "iopub.status.busy": "2024-07-27T07:05:23.962517Z",
          "iopub.execute_input": "2024-07-27T07:05:23.962914Z",
          "iopub.status.idle": "2024-07-27T07:05:23.973547Z",
          "shell.execute_reply.started": "2024-07-27T07:05:23.962881Z",
          "shell.execute_reply": "2024-07-27T07:05:23.972358Z"
        },
        "trusted": true,
        "id": "5qMZJQ8sVv1Q",
        "outputId": "8d0061f7-057f-4a8f-8667-31ad6da0cfed",
        "colab": {
          "base_uri": "https://localhost:8080/"
        }
      },
      "execution_count": null,
      "outputs": [
        {
          "output_type": "execute_result",
          "data": {
            "text/plain": [
              "Brand\n",
              "Martinez Ltd                   3\n",
              "Sanchez PLC                    3\n",
              "Ramos and Sons                 2\n",
              "Williams Group                 2\n",
              "Miller and Sons                2\n",
              "                              ..\n",
              "Jackson, Collier and Barber    1\n",
              "Perez and Sons                 1\n",
              "Ayers and Sons                 1\n",
              "Holland PLC                    1\n",
              "Kim, Maxwell and Moore         1\n",
              "Name: count, Length: 980, dtype: int64"
            ]
          },
          "metadata": {},
          "execution_count": 12
        }
      ]
    },
    {
      "cell_type": "code",
      "source": [
        "sns.boxplot(df['Price'])"
      ],
      "metadata": {
        "execution": {
          "iopub.status.busy": "2024-07-27T07:05:26.229087Z",
          "iopub.execute_input": "2024-07-27T07:05:26.229475Z",
          "iopub.status.idle": "2024-07-27T07:05:26.386123Z",
          "shell.execute_reply.started": "2024-07-27T07:05:26.229442Z",
          "shell.execute_reply": "2024-07-27T07:05:26.38489Z"
        },
        "trusted": true,
        "id": "Qu6OEu_IVv1Q",
        "outputId": "706103e1-b43f-4c47-ef1e-b73d1d7484b5",
        "colab": {
          "base_uri": "https://localhost:8080/",
          "height": 428
        }
      },
      "execution_count": null,
      "outputs": [
        {
          "output_type": "execute_result",
          "data": {
            "text/plain": [
              "<Axes: ylabel='Price'>"
            ]
          },
          "metadata": {},
          "execution_count": 13
        },
        {
          "output_type": "display_data",
          "data": {
            "text/plain": [
              "<Figure size 640x480 with 1 Axes>"
            ],
            "image/png": "[encoded data removed]"
          },
          "metadata": {}
        }
      ]
    },
    {
      "cell_type": "code",
      "source": [
        "sns.boxplot(df['CustomerAge'])"
      ],
      "metadata": {
        "execution": {
          "iopub.status.busy": "2024-07-27T07:05:28.669815Z",
          "iopub.execute_input": "2024-07-27T07:05:28.670214Z",
          "iopub.status.idle": "2024-07-27T07:05:28.861382Z",
          "shell.execute_reply.started": "2024-07-27T07:05:28.670183Z",
          "shell.execute_reply": "2024-07-27T07:05:28.859978Z"
        },
        "trusted": true,
        "id": "61o372xrVv1Q",
        "outputId": "9091d92e-fc67-4015-eb11-a34bd9197d18",
        "colab": {
          "base_uri": "https://localhost:8080/",
          "height": 428
        }
      },
      "execution_count": null,
      "outputs": [
        {
          "output_type": "execute_result",
          "data": {
            "text/plain": [
              "<Axes: ylabel='CustomerAge'>"
            ]
          },
          "metadata": {},
          "execution_count": 14
        },
        {
          "output_type": "display_data",
          "data": {
            "text/plain": [
              "<Figure size 640x480 with 1 Axes>"
            ],
            "image/png": "[encoded data removed]"
          },
          "metadata": {}
        }
      ]
    },
    {
      "cell_type": "code",
      "source": [
        "sns.boxplot(df['UnitsSold'])"
      ],
      "metadata": {
        "execution": {
          "iopub.status.busy": "2024-07-27T07:05:31.666368Z",
          "iopub.execute_input": "2024-07-27T07:05:31.666768Z",
          "iopub.status.idle": "2024-07-27T07:05:31.827844Z",
          "shell.execute_reply.started": "2024-07-27T07:05:31.666734Z",
          "shell.execute_reply": "2024-07-27T07:05:31.825813Z"
        },
        "trusted": true,
        "id": "rwgCfW1uVv1Q",
        "outputId": "502c0fd8-1e84-49be-c47d-7fb1e0d29e18",
        "colab": {
          "base_uri": "https://localhost:8080/",
          "height": 428
        }
      },
      "execution_count": null,
      "outputs": [
        {
          "output_type": "execute_result",
          "data": {
            "text/plain": [
              "<Axes: ylabel='UnitsSold'>"
            ]
          },
          "metadata": {},
          "execution_count": 15
        },
        {
          "output_type": "display_data",
          "data": {
            "text/plain": [
              "<Figure size 640x480 with 1 Axes>"
            ],
            "image/png": "[encoded data removed]"
          },
          "metadata": {}
        }
      ]
    },
    {
      "cell_type": "code",
      "source": [
        " sns.boxplot(df['TotalRevenue'])"
      ],
      "metadata": {
        "execution": {
          "iopub.status.busy": "2024-07-27T07:05:35.083015Z",
          "iopub.execute_input": "2024-07-27T07:05:35.083408Z",
          "iopub.status.idle": "2024-07-27T07:05:35.250264Z",
          "shell.execute_reply.started": "2024-07-27T07:05:35.083379Z",
          "shell.execute_reply": "2024-07-27T07:05:35.248894Z"
        },
        "trusted": true,
        "id": "KSg6tDRjVv1Q",
        "outputId": "9c3279a8-0b09-4820-a25f-31615495cb09",
        "colab": {
          "base_uri": "https://localhost:8080/",
          "height": 428
        }
      },
      "execution_count": null,
      "outputs": [
        {
          "output_type": "execute_result",
          "data": {
            "text/plain": [
              "<Axes: ylabel='TotalRevenue'>"
            ]
          },
          "metadata": {},
          "execution_count": 16
        },
        {
          "output_type": "display_data",
          "data": {
            "text/plain": [
              "<Figure size 640x480 with 1 Axes>"
            ],
            "image/png": "[encoded data removed]"
          },
          "metadata": {}
        }
      ]
    },
    {
      "cell_type": "code",
      "source": [
        "df['CustomerGender'].value_counts().plot(kind = 'bar')"
      ],
      "metadata": {
        "execution": {
          "iopub.status.busy": "2024-07-27T07:05:38.073901Z",
          "iopub.execute_input": "2024-07-27T07:05:38.074908Z",
          "iopub.status.idle": "2024-07-27T07:05:38.309396Z",
          "shell.execute_reply.started": "2024-07-27T07:05:38.07487Z",
          "shell.execute_reply": "2024-07-27T07:05:38.30813Z"
        },
        "trusted": true,
        "id": "xxTT5liEVv1Q",
        "outputId": "2a657bf3-2b1d-439a-f511-70bb58a20192",
        "colab": {
          "base_uri": "https://localhost:8080/",
          "height": 503
        }
      },
      "execution_count": null,
      "outputs": [
        {
          "output_type": "execute_result",
          "data": {
            "text/plain": [
              "<Axes: xlabel='CustomerGender'>"
            ]
          },
          "metadata": {},
          "execution_count": 17
        },
        {
          "output_type": "display_data",
          "data": {
            "text/plain": [
              "<Figure size 640x480 with 1 Axes>"
            ],
            "image/png": "[encoded data removed]"
          },
          "metadata": {}
        }
      ]
    },
    {
      "cell_type": "code",
      "source": [
        "sns.boxplot(df['Price'])"
      ],
      "metadata": {
        "execution": {
          "iopub.status.busy": "2024-07-27T07:05:41.336868Z",
          "iopub.execute_input": "2024-07-27T07:05:41.337246Z",
          "iopub.status.idle": "2024-07-27T07:05:41.538943Z",
          "shell.execute_reply.started": "2024-07-27T07:05:41.337215Z",
          "shell.execute_reply": "2024-07-27T07:05:41.53777Z"
        },
        "trusted": true,
        "id": "sBP4DEZNVv1R",
        "outputId": "4a610848-cce0-4c42-88b5-541c778c3af1",
        "colab": {
          "base_uri": "https://localhost:8080/",
          "height": 428
        }
      },
      "execution_count": null,
      "outputs": [
        {
          "output_type": "execute_result",
          "data": {
            "text/plain": [
              "<Axes: ylabel='Price'>"
            ]
          },
          "metadata": {},
          "execution_count": 18
        },
        {
          "output_type": "display_data",
          "data": {
            "text/plain": [
              "<Figure size 640x480 with 1 Axes>"
            ],
            "image/png": "[encoded data removed]"
          },
          "metadata": {}
        }
      ]
    },
    {
      "cell_type": "code",
      "source": [
        "df.head(2)"
      ],
      "metadata": {
        "execution": {
          "iopub.status.busy": "2024-07-27T07:05:44.066215Z",
          "iopub.execute_input": "2024-07-27T07:05:44.066614Z",
          "iopub.status.idle": "2024-07-27T07:05:44.081884Z",
          "shell.execute_reply.started": "2024-07-27T07:05:44.066581Z",
          "shell.execute_reply": "2024-07-27T07:05:44.08073Z"
        },
        "trusted": true,
        "id": "rbJEV3_lVv1R",
        "outputId": "1cec91c2-b120-49ed-d869-bc1546354329",
        "colab": {
          "base_uri": "https://localhost:8080/",
          "height": 112
        }
      },
      "execution_count": null,
      "outputs": [
        {
          "output_type": "execute_result",
          "data": {
            "text/plain": [
              "  MobileModel            Brand    Price  UnitsSold  TotalRevenue  CustomerAge  \\\n",
              "0   direction        Green Inc  1196.95         85      28002.80           32   \n",
              "1       right  Thomas-Thompson  1010.34         64       2378.82           55   \n",
              "\n",
              "  CustomerGender PaymentMethod  \n",
              "0         Female        Online  \n",
              "1         Female   Credit Card  "
            ],
            "text/html": [
              "\n",
              "  <div id=\"df-3eeab89f-c5b5-41b0-98de-9fefe6fc0722\" class=\"colab-df-container\">\n",
              "    <div>\n",
              "<style scoped>\n",
              "    .dataframe tbody tr th:only-of-type {\n",
              "        vertical-align: middle;\n",
              "    }\n",
              "\n",
              "    .dataframe tbody tr th {\n",
              "        vertical-align: top;\n",
              "    }\n",
              "\n",
              "    .dataframe thead th {\n",
              "        text-align: right;\n",
              "    }\n",
              "</style>\n",
              "<table border=\"1\" class=\"dataframe\">\n",
              "  <thead>\n",
              "    <tr style=\"text-align: right;\">\n",
              "      <th></th>\n",
              "      <th>MobileModel</th>\n",
              "      <th>Brand</th>\n",
              "      <th>Price</th>\n",
              "      <th>UnitsSold</th>\n",
              "      <th>TotalRevenue</th>\n",
              "      <th>CustomerAge</th>\n",
              "      <th>CustomerGender</th>\n",
              "      <th>PaymentMethod</th>\n",
              "    </tr>\n",
              "  </thead>\n",
              "  <tbody>\n",
              "    <tr>\n",
              "      <th>0</th>\n",
              "      <td>direction</td>\n",
              "      <td>Green Inc</td>\n",
              "      <td>1196.95</td>\n",
              "      <td>85</td>\n",
              "      <td>28002.80</td>\n",
              "      <td>32</td>\n",
              "      <td>Female</td>\n",
              "      <td>Online</td>\n",
              "    </tr>\n",
              "    <tr>\n",
              "      <th>1</th>\n",
              "      <td>right</td>\n",
              "      <td>Thomas-Thompson</td>\n",
              "      <td>1010.34</td>\n",
              "      <td>64</td>\n",
              "      <td>2378.82</td>\n",
              "      <td>55</td>\n",
              "      <td>Female</td>\n",
              "      <td>Credit Card</td>\n",
              "    </tr>\n",
              "  </tbody>\n",
              "</table>\n",
              "</div>\n",
              "    <div class=\"colab-df-buttons\">\n",
              "\n",
              "  <div class=\"colab-df-container\">\n",
              "    <button class=\"colab-df-convert\" onclick=\"convertToInteractive('df-3eeab89f-c5b5-41b0-98de-9fefe6fc0722')\"\n",
              "            title=\"Convert this dataframe to an interactive table.\"\n",
              "            style=\"display:none;\">\n",
              "\n",
              "  <svg xmlns=\"http://www.w3.org/2000/svg\" height=\"24px\" viewBox=\"0 -960 960 960\">\n",
              "    <path d=\"M120-120v-720h720v720H120Zm60-500h600v-160H180v160Zm220 220h160v-160H400v160Zm0 220h160v-160H400v160ZM180-400h160v-160H180v160Zm440 0h160v-160H620v160ZM180-180h160v-160H180v160Zm440 0h160v-160H620v160Z\"/>\n",
              "  </svg>\n",
              "    </button>\n",
              "\n",
              "  <style>\n",
              "    .colab-df-container {\n",
              "      display:flex;\n",
              "      gap: 12px;\n",
              "    }\n",
              "\n",
              "    .colab-df-convert {\n",
              "      background-color: #E8F0FE;\n",
              "      border: none;\n",
              "      border-radius: 50%;\n",
              "      cursor: pointer;\n",
              "      display: none;\n",
              "      fill: #1967D2;\n",
              "      height: 32px;\n",
              "      padding: 0 0 0 0;\n",
              "      width: 32px;\n",
              "    }\n",
              "\n",
              "    .colab-df-convert:hover {\n",
              "      background-color: #E2EBFA;\n",
              "      box-shadow: 0px 1px 2px rgba(60, 64, 67, 0.3), 0px 1px 3px 1px rgba(60, 64, 67, 0.15);\n",
              "      fill: #174EA6;\n",
              "    }\n",
              "\n",
              "    .colab-df-buttons div {\n",
              "      margin-bottom: 4px;\n",
              "    }\n",
              "\n",
              "    [theme=dark] .colab-df-convert {\n",
              "      background-color: #3B4455;\n",
              "      fill: #D2E3FC;\n",
              "    }\n",
              "\n",
              "    [theme=dark] .colab-df-convert:hover {\n",
              "      background-color: #434B5C;\n",
              "      box-shadow: 0px 1px 3px 1px rgba(0, 0, 0, 0.15);\n",
              "      filter: drop-shadow(0px 1px 2px rgba(0, 0, 0, 0.3));\n",
              "      fill: #FFFFFF;\n",
              "    }\n",
              "  </style>\n",
              "\n",
              "    <script>\n",
              "      const buttonEl =\n",
              "        document.querySelector('#df-3eeab89f-c5b5-41b0-98de-9fefe6fc0722 button.colab-df-convert');\n",
              "      buttonEl.style.display =\n",
              "        google.colab.kernel.accessAllowed ? 'block' : 'none';\n",
              "\n",
              "      async function convertToInteractive(key) {\n",
              "        const element = document.querySelector('#df-3eeab89f-c5b5-41b0-98de-9fefe6fc0722');\n",
              "        const dataTable =\n",
              "          await google.colab.kernel.invokeFunction('convertToInteractive',\n",
              "                                                    [key], {});\n",
              "        if (!dataTable) return;\n",
              "\n",
              "        const docLinkHtml = 'Like what you see? Visit the ' +\n",
              "          '<a target=\"_blank\" href=https://colab.research.google.com/notebooks/data_table.ipynb>data table notebook</a>'\n",
              "          + ' to learn more about interactive tables.';\n",
              "        element.innerHTML = '';\n",
              "        dataTable['output_type'] = 'display_data';\n",
              "        await google.colab.output.renderOutput(dataTable, element);\n",
              "        const docLink = document.createElement('div');\n",
              "        docLink.innerHTML = docLinkHtml;\n",
              "        element.appendChild(docLink);\n",
              "      }\n",
              "    </script>\n",
              "  </div>\n",
              "\n",
              "\n",
              "<div id=\"df-bc19e376-ba06-46fb-a13b-0828268b3219\">\n",
              "  <button class=\"colab-df-quickchart\" onclick=\"quickchart('df-bc19e376-ba06-46fb-a13b-0828268b3219')\"\n",
              "            title=\"Suggest charts\"\n",
              "            style=\"display:none;\">\n",
              "\n",
              "<svg xmlns=\"http://www.w3.org/2000/svg\" height=\"24px\"viewBox=\"0 0 24 24\"\n",
              "     width=\"24px\">\n",
              "    <g>\n",
              "        <path d=\"M19 3H5c-1.1 0-2 .9-2 2v14c0 1.1.9 2 2 2h14c1.1 0 2-.9 2-2V5c0-1.1-.9-2-2-2zM9 17H7v-7h2v7zm4 0h-2V7h2v10zm4 0h-2v-4h2v4z\"/>\n",
              "    </g>\n",
              "</svg>\n",
              "  </button>\n",
              "\n",
              "<style>\n",
              "  .colab-df-quickchart {\n",
              "      --bg-color: #E8F0FE;\n",
              "      --fill-color: #1967D2;\n",
              "      --hover-bg-color: #E2EBFA;\n",
              "      --hover-fill-color: #174EA6;\n",
              "      --disabled-fill-color: #AAA;\n",
              "      --disabled-bg-color: #DDD;\n",
              "  }\n",
              "\n",
              "  [theme=dark] .colab-df-quickchart {\n",
              "      --bg-color: #3B4455;\n",
              "      --fill-color: #D2E3FC;\n",
              "      --hover-bg-color: #434B5C;\n",
              "      --hover-fill-color: #FFFFFF;\n",
              "      --disabled-bg-color: #3B4455;\n",
              "      --disabled-fill-color: #666;\n",
              "  }\n",
              "\n",
              "  .colab-df-quickchart {\n",
              "    background-color: var(--bg-color);\n",
              "    border: none;\n",
              "    border-radius: 50%;\n",
              "    cursor: pointer;\n",
              "    display: none;\n",
              "    fill: var(--fill-color);\n",
              "    height: 32px;\n",
              "    padding: 0;\n",
              "    width: 32px;\n",
              "  }\n",
              "\n",
              "  .colab-df-quickchart:hover {\n",
              "    background-color: var(--hover-bg-color);\n",
              "    box-shadow: 0 1px 2px rgba(60, 64, 67, 0.3), 0 1px 3px 1px rgba(60, 64, 67, 0.15);\n",
              "    fill: var(--button-hover-fill-color);\n",
              "  }\n",
              "\n",
              "  .colab-df-quickchart-complete:disabled,\n",
              "  .colab-df-quickchart-complete:disabled:hover {\n",
              "    background-color: var(--disabled-bg-color);\n",
              "    fill: var(--disabled-fill-color);\n",
              "    box-shadow: none;\n",
              "  }\n",
              "\n",
              "  .colab-df-spinner {\n",
              "    border: 2px solid var(--fill-color);\n",
              "    border-color: transparent;\n",
              "    border-bottom-color: var(--fill-color);\n",
              "    animation:\n",
              "      spin 1s steps(1) infinite;\n",
              "  }\n",
              "\n",
              "  @keyframes spin {\n",
              "    0% {\n",
              "      border-color: transparent;\n",
              "      border-bottom-color: var(--fill-color);\n",
              "      border-left-color: var(--fill-color);\n",
              "    }\n",
              "    20% {\n",
              "      border-color: transparent;\n",
              "      border-left-color: var(--fill-color);\n",
              "      border-top-color: var(--fill-color);\n",
              "    }\n",
              "    30% {\n",
              "      border-color: transparent;\n",
              "      border-left-color: var(--fill-color);\n",
              "      border-top-color: var(--fill-color);\n",
              "      border-right-color: var(--fill-color);\n",
              "    }\n",
              "    40% {\n",
              "      border-color: transparent;\n",
              "      border-right-color: var(--fill-color);\n",
              "      border-top-color: var(--fill-color);\n",
              "    }\n",
              "    60% {\n",
              "      border-color: transparent;\n",
              "      border-right-color: var(--fill-color);\n",
              "    }\n",
              "    80% {\n",
              "      border-color: transparent;\n",
              "      border-right-color: var(--fill-color);\n",
              "      border-bottom-color: var(--fill-color);\n",
              "    }\n",
              "    90% {\n",
              "      border-color: transparent;\n",
              "      border-bottom-color: var(--fill-color);\n",
              "    }\n",
              "  }\n",
              "</style>\n",
              "\n",
              "  <script>\n",
              "    async function quickchart(key) {\n",
              "      const quickchartButtonEl =\n",
              "        document.querySelector('#' + key + ' button');\n",
              "      quickchartButtonEl.disabled = true;  // To prevent multiple clicks.\n",
              "      quickchartButtonEl.classList.add('colab-df-spinner');\n",
              "      try {\n",
              "        const charts = await google.colab.kernel.invokeFunction(\n",
              "            'suggestCharts', [key], {});\n",
              "      } catch (error) {\n",
              "        console.error('Error during call to suggestCharts:', error);\n",
              "      }\n",
              "      quickchartButtonEl.classList.remove('colab-df-spinner');\n",
              "      quickchartButtonEl.classList.add('colab-df-quickchart-complete');\n",
              "    }\n",
              "    (() => {\n",
              "      let quickchartButtonEl =\n",
              "        document.querySelector('#df-bc19e376-ba06-46fb-a13b-0828268b3219 button');\n",
              "      quickchartButtonEl.style.display =\n",
              "        google.colab.kernel.accessAllowed ? 'block' : 'none';\n",
              "    })();\n",
              "  </script>\n",
              "</div>\n",
              "\n",
              "    </div>\n",
              "  </div>\n"
            ],
            "application/vnd.google.colaboratory.intrinsic+json": {
              "type": "dataframe",
              "variable_name": "df",
              "summary": "{\n  \"name\": \"df\",\n  \"rows\": 1000,\n  \"fields\": [\n    {\n      \"column\": \"MobileModel\",\n      \"properties\": {\n        \"dtype\": \"string\",\n        \"num_unique_values\": 637,\n        \"samples\": [\n          \"staff\",\n          \"heart\",\n          \"step\"\n        ],\n        \"semantic_type\": \"\",\n        \"description\": \"\"\n      }\n    },\n    {\n      \"column\": \"Brand\",\n      \"properties\": {\n        \"dtype\": \"string\",\n        \"num_unique_values\": 980,\n        \"samples\": [\n          \"Wallace Ltd\",\n          \"Salazar, Myers and Mcmahon\",\n          \"Brown, Parsons and Johnson\"\n        ],\n        \"semantic_type\": \"\",\n        \"description\": \"\"\n      }\n    },\n    {\n      \"column\": \"Price\",\n      \"properties\": {\n        \"dtype\": \"number\",\n        \"std\": 402.48987839209974,\n        \"min\": 103.32,\n        \"max\": 1499.25,\n        \"num_unique_values\": 999,\n        \"samples\": [\n          901.21,\n          1073.31,\n          213.05\n        ],\n        \"semantic_type\": \"\",\n        \"description\": \"\"\n      }\n    },\n    {\n      \"column\": \"UnitsSold\",\n      \"properties\": {\n        \"dtype\": \"number\",\n        \"std\": 28,\n        \"min\": 1,\n        \"max\": 99,\n        \"num_unique_values\": 99,\n        \"samples\": [\n          32,\n          78,\n          88\n        ],\n        \"semantic_type\": \"\",\n        \"description\": \"\"\n      }\n    },\n    {\n      \"column\": \"TotalRevenue\",\n      \"properties\": {\n        \"dtype\": \"number\",\n        \"std\": 32715.290358116996,\n        \"min\": 116.85,\n        \"max\": 141411.84,\n        \"num_unique_values\": 999,\n        \"samples\": [\n          12305.92,\n          15090.48,\n          6046.22\n        ],\n        \"semantic_type\": \"\",\n        \"description\": \"\"\n      }\n    },\n    {\n      \"column\": \"CustomerAge\",\n      \"properties\": {\n        \"dtype\": \"number\",\n        \"std\": 13,\n        \"min\": 18,\n        \"max\": 64,\n        \"num_unique_values\": 47,\n        \"samples\": [\n          49,\n          58,\n          21\n        ],\n        \"semantic_type\": \"\",\n        \"description\": \"\"\n      }\n    },\n    {\n      \"column\": \"CustomerGender\",\n      \"properties\": {\n        \"dtype\": \"category\",\n        \"num_unique_values\": 3,\n        \"samples\": [\n          \"Female\",\n          \"Male\",\n          \"Other\"\n        ],\n        \"semantic_type\": \"\",\n        \"description\": \"\"\n      }\n    },\n    {\n      \"column\": \"PaymentMethod\",\n      \"properties\": {\n        \"dtype\": \"category\",\n        \"num_unique_values\": 4,\n        \"samples\": [\n          \"Credit Card\",\n          \"Debit Card\",\n          \"Online\"\n        ],\n        \"semantic_type\": \"\",\n        \"description\": \"\"\n      }\n    }\n  ]\n}"
            }
          },
          "metadata": {},
          "execution_count": 19
        }
      ]
    },
    {
      "cell_type": "code",
      "source": [
        "df['PaymentMethod'].value_counts()"
      ],
      "metadata": {
        "execution": {
          "iopub.status.busy": "2024-07-27T07:05:46.474039Z",
          "iopub.execute_input": "2024-07-27T07:05:46.47443Z",
          "iopub.status.idle": "2024-07-27T07:05:46.483164Z",
          "shell.execute_reply.started": "2024-07-27T07:05:46.474398Z",
          "shell.execute_reply": "2024-07-27T07:05:46.481903Z"
        },
        "trusted": true,
        "id": "BbfMQbAPVv1R",
        "outputId": "0e9e77c6-e631-43ed-9132-4116bd60a6be",
        "colab": {
          "base_uri": "https://localhost:8080/"
        }
      },
      "execution_count": null,
      "outputs": [
        {
          "output_type": "execute_result",
          "data": {
            "text/plain": [
              "PaymentMethod\n",
              "Credit Card    278\n",
              "Online         259\n",
              "Debit Card     246\n",
              "Cash           217\n",
              "Name: count, dtype: int64"
            ]
          },
          "metadata": {},
          "execution_count": 20
        }
      ]
    },
    {
      "cell_type": "code",
      "source": [
        "import pandas as pd\n",
        "from sklearn.model_selection import train_test_split\n",
        "from sklearn.pipeline import Pipeline\n",
        "from sklearn.compose import ColumnTransformer\n",
        "from sklearn.preprocessing import OneHotEncoder, StandardScaler, LabelEncoder\n",
        "from sklearn.linear_model import LogisticRegression\n",
        "from sklearn.metrics import classification_report\n",
        "\n",
        "# Encode the target variable\n",
        "label_encoder = LabelEncoder()\n",
        "df['PaymentMethod'] = label_encoder.fit_transform(df['PaymentMethod'])\n",
        "\n",
        "# Split the data into training and test sets\n",
        "X = df.drop(columns=['PaymentMethod'])\n",
        "y = df['PaymentMethod']\n",
        "X_train, X_test, y_train, y_test = train_test_split(X, y, test_size=0.3, random_state=42)\n",
        "\n",
        "categorical_features = ['Brand', 'CustomerGender']\n",
        "\n",
        "# Define the preprocessing steps\n",
        "preprocessor = ColumnTransformer(\n",
        "    transformers=[\n",
        "        ('cat', OneHotEncoder(handle_unknown='ignore'), categorical_features)\n",
        "    ])\n",
        "\n",
        "# Create the pipeline\n",
        "pipeline = Pipeline(steps=[\n",
        "    ('preprocessor', preprocessor),\n",
        "    ('classifier', LogisticRegression())\n",
        "])\n",
        "\n",
        "# Train the model\n",
        "pipeline.fit(X_train, y_train)\n",
        "\n",
        "# Make predictions\n",
        "y_pred = pipeline.predict(X_test)\n",
        "\n",
        "# Evaluate the model\n",
        "print(classification_report(y_test, y_pred))\n",
        "\n",
        "# Decode the predictions back to the original labels if needed\n",
        "y_test_decoded = label_encoder.inverse_transform(y_test)\n",
        "y_pred_decoded = label_encoder.inverse_transform(y_pred)\n",
        "\n",
        "# Print decoded classification report\n",
        "print(\"Decoded Classification Report:\")\n",
        "print(classification_report(y_test_decoded, y_pred_decoded))\n",
        "\n"
      ],
      "metadata": {
        "execution": {
          "iopub.status.busy": "2024-07-27T07:06:18.72675Z",
          "iopub.execute_input": "2024-07-27T07:06:18.727466Z",
          "iopub.status.idle": "2024-07-27T07:06:18.796944Z",
          "shell.execute_reply.started": "2024-07-27T07:06:18.727431Z",
          "shell.execute_reply": "2024-07-27T07:06:18.795846Z"
        },
        "trusted": true,
        "id": "spol-PSzVv1R",
        "outputId": "3358cdc4-7f59-45a3-f90e-c2e897cfacf3",
        "colab": {
          "base_uri": "https://localhost:8080/"
        }
      },
      "execution_count": null,
      "outputs": [
        {
          "output_type": "stream",
          "name": "stdout",
          "text": [
            "              precision    recall  f1-score   support\n",
            "\n",
            "           0       0.00      0.00      0.00        65\n",
            "           1       0.25      0.63      0.35        78\n",
            "           2       0.23      0.26      0.24        80\n",
            "           3       0.33      0.03      0.05        77\n",
            "\n",
            "    accuracy                           0.24       300\n",
            "   macro avg       0.20      0.23      0.16       300\n",
            "weighted avg       0.21      0.24      0.17       300\n",
            "\n",
            "Decoded Classification Report:\n",
            "              precision    recall  f1-score   support\n",
            "\n",
            "        Cash       0.00      0.00      0.00        65\n",
            " Credit Card       0.25      0.63      0.35        78\n",
            "  Debit Card       0.23      0.26      0.24        80\n",
            "      Online       0.33      0.03      0.05        77\n",
            "\n",
            "    accuracy                           0.24       300\n",
            "   macro avg       0.20      0.23      0.16       300\n",
            "weighted avg       0.21      0.24      0.17       300\n",
            "\n"
          ]
        }
      ]
    },
    {
      "cell_type": "code",
      "source": [],
      "metadata": {
        "id": "gUa_DJB0V8hg"
      },
      "execution_count": null,
      "outputs": []
    }
  ]
}