{
  "nbformat": 4,
  "nbformat_minor": 0,
  "metadata": {
    "colab": {
      "provenance": [],
      "authorship_tag": "ABX9TyND5eWYLa7dExF2u1CBFgN6",
      "include_colab_link": true
    },
    "kernelspec": {
      "name": "python3",
      "display_name": "Python 3"
    },
    "language_info": {
      "name": "python"
    }
  },
  "cells": [
    {
      "cell_type": "markdown",
      "metadata": {
        "id": "view-in-github",
        "colab_type": "text"
      },
      "source": [
        "<a href=\"https://colab.research.google.com/github/veeraprathp/100-days-of-Machine-Learning/blob/main/Thompsonsampling.ipynb\" target=\"_parent\"><img src=\"https://colab.research.google.com/assets/colab-badge.svg\" alt=\"Open In Colab\"/></a>"
      ]
    },
    {
      "cell_type": "markdown",
      "source": [
        "importing the libraries"
      ],
      "metadata": {
        "id": "0XgrCkXoMhVQ"
      }
    },
    {
      "cell_type": "code",
      "execution_count": 9,
      "metadata": {
        "id": "i4I42zVLFnsJ"
      },
      "outputs": [],
      "source": [
        "import numpy as np\n",
        "import pandas as pd\n",
        "import matplotlib.pyplot as plt\n"
      ]
    },
    {
      "cell_type": "code",
      "source": [
        "dataset = pd.read_csv('Ads_CTR_Optimisation.csv')"
      ],
      "metadata": {
        "id": "csHkFAI8RxUu"
      },
      "execution_count": 10,
      "outputs": []
    },
    {
      "cell_type": "markdown",
      "source": [
        "Importing the dataset"
      ],
      "metadata": {
        "id": "CnAGkXqgMez9"
      }
    },
    {
      "cell_type": "code",
      "source": [
        "import random\n",
        "N= 10000\n",
        "d=10\n",
        "\n",
        "ads_selected =[]\n",
        "numbers_of_rewards_1 = [0] * d\n",
        "numbers_of_rewards_0 = [0] * d\n",
        "total_reward = 0\n",
        "for n  in range(0,N):\n",
        "  ad =0\n",
        "  max_random = 0\n",
        "  for i in range(0,d):\n",
        "      random_beta = random.betavariate(numbers_of_rewards_1[i] + 1,numbers_of_rewards_0[i]+1)\n",
        "      if  random_beta > max_random:\n",
        "        max_random = random_beta\n",
        "        ad = i\n",
        "  ads_selected.append(ad)\n",
        "  reward = dataset.values[n,ad]\n",
        "  if reward ==1:\n",
        "        numbers_of_rewards_1[ad] = numbers_of_rewards_1[ad] +  1\n",
        "  else:\n",
        "          numbers_of_rewards_0[ad] = numbers_of_rewards_0[ad] + 1\n",
        "          total_reward = total_reward + reward\n",
        "\n"
      ],
      "metadata": {
        "id": "wDPKFVTiMeBQ"
      },
      "execution_count": 16,
      "outputs": []
    },
    {
      "cell_type": "markdown",
      "source": [
        "visualising the  results-Histogram"
      ],
      "metadata": {
        "id": "eOw8fhwbQ-Lr"
      }
    },
    {
      "cell_type": "code",
      "source": [
        "plt.hist(ads_selected)\n",
        "plt.title('Histogram of ads selections')\n",
        "plt.xlabel('Ads')\n",
        "plt.ylabel('Number of times each ad was selected')\n",
        "plt.show()"
      ],
      "metadata": {
        "colab": {
          "base_uri": "https://localhost:8080/",
          "height": 472
        },
        "id": "DsEa22MZS3tI",
        "outputId": "7c9f148a-dd4b-4a92-a3f4-ad130d1e25ac"
      },
      "execution_count": 17,
      "outputs": [
        {
          "output_type": "display_data",
          "data": {
            "text/plain": [
              "<Figure size 640x480 with 1 Axes>"
            ],
            "image/png": "[encoded data removed]"
          },
          "metadata": {}
        }
      ]
    },
    {
      "cell_type": "code",
      "source": [],
      "metadata": {
        "id": "thT0se-tTxkV"
      },
      "execution_count": 12,
      "outputs": []
    }
  ]
}