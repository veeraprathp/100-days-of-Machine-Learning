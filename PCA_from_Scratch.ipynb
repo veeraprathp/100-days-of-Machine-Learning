{
  "nbformat": 4,
  "nbformat_minor": 0,
  "metadata": {
    "colab": {
      "provenance": [],
      "authorship_tag": "ABX9TyMMV0K0Wf4qO08pcWqXbThF",
      "include_colab_link": true
    },
    "kernelspec": {
      "name": "python3",
      "display_name": "Python 3"
    },
    "language_info": {
      "name": "python"
    }
  },
  "cells": [
    {
      "cell_type": "markdown",
      "metadata": {
        "id": "view-in-github",
        "colab_type": "text"
      },
      "source": [
        "<a href=\"https://colab.research.google.com/github/veeraprathp/100-days-of-Machine-Learning/blob/main/PCA_from_Scratch.ipynb\" target=\"_parent\"><img src=\"https://colab.research.google.com/assets/colab-badge.svg\" alt=\"Open In Colab\"/></a>"
      ]
    },
    {
      "cell_type": "markdown",
      "source": [
        "PCA from Scratch"
      ],
      "metadata": {
        "id": "_MzpWkyYS5Zp"
      }
    },
    {
      "cell_type": "code",
      "execution_count": 1,
      "metadata": {
        "id": "TkFZdIC1S0Yq"
      },
      "outputs": [],
      "source": [
        "import numpy as np\n"
      ]
    },
    {
      "cell_type": "code",
      "source": [
        "import numpy as np\n",
        "\n",
        "class PCA:\n",
        "    def __init__(self, n_components):\n",
        "        self.n_components = n_components\n",
        "        self.components = None\n",
        "        self.mean = None\n",
        "\n",
        "    def fit(self, X):\n",
        "        # Compute the mean of the data\n",
        "        self.mean = np.mean(X, axis=0)\n",
        "        X = X - self.mean\n",
        "\n",
        "        # Compute the covariance matrix\n",
        "        cov = np.cov(X.T)\n",
        "\n",
        "        # Compute eigenvalues and eigenvectors\n",
        "        eigenvalues, eigenvectors = np.linalg.eig(cov)\n",
        "\n",
        "        # Sort eigenvalues and eigenvectors\n",
        "        idxs = np.argsort(eigenvalues)[::-1]\n",
        "        eigenvalues = eigenvalues[idxs]\n",
        "        eigenvectors = eigenvectors[:, idxs]\n",
        "\n",
        "        # Select the top n_components eigenvectors\n",
        "        self.components = eigenvectors[:, :self.n_components]\n",
        "\n",
        "    def transform(self, X):\n",
        "        # Subtract the mean\n",
        "        X = X - self.mean\n",
        "\n",
        "        # Project data\n",
        "        return np.dot(X, self.components)\n",
        "\n",
        "\n"
      ],
      "metadata": {
        "id": "Kh8xWFpVTAR9"
      },
      "execution_count": 6,
      "outputs": []
    },
    {
      "cell_type": "code",
      "source": [
        "from sklearn import datasets"
      ],
      "metadata": {
        "id": "_qu3L0KxU26r"
      },
      "execution_count": 7,
      "outputs": []
    },
    {
      "cell_type": "code",
      "source": [
        "data = datasets.load_iris()\n",
        "X= data.data\n",
        "y= data.target"
      ],
      "metadata": {
        "id": "KNqA-V3MVIgD"
      },
      "execution_count": 8,
      "outputs": []
    },
    {
      "cell_type": "code",
      "source": [
        "pca = PCA(2)\n",
        "pca.fit(X)\n",
        "X_projected = pca.transform(X)"
      ],
      "metadata": {
        "id": "B6KmaRM4VSg6"
      },
      "execution_count": 9,
      "outputs": []
    },
    {
      "cell_type": "code",
      "source": [],
      "metadata": {
        "id": "goPhKQz7Vb7l"
      },
      "execution_count": null,
      "outputs": []
    }
  ]
}