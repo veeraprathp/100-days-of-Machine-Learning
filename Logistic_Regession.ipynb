{
  "nbformat": 4,
  "nbformat_minor": 0,
  "metadata": {
    "colab": {
      "provenance": [],
      "authorship_tag": "ABX9TyNwi9nS+GlAnliwvlNYxYKB",
      "include_colab_link": true
    },
    "kernelspec": {
      "name": "python3",
      "display_name": "Python 3"
    },
    "language_info": {
      "name": "python"
    }
  },
  "cells": [
    {
      "cell_type": "markdown",
      "metadata": {
        "id": "view-in-github",
        "colab_type": "text"
      },
      "source": [
        "<a href=\"https://colab.research.google.com/github/veeraprathp/100-days-of-Machine-Learning/blob/main/Logistic_Regession.ipynb\" target=\"_parent\"><img src=\"https://colab.research.google.com/assets/colab-badge.svg\" alt=\"Open In Colab\"/></a>"
      ]
    },
    {
      "cell_type": "markdown",
      "source": [
        "**Logistic Regression**"
      ],
      "metadata": {
        "id": "LcZCYj6gK0iN"
      }
    },
    {
      "cell_type": "markdown",
      "source": [
        "Importing  the libraries\n"
      ],
      "metadata": {
        "id": "kawHk4wEKklI"
      }
    },
    {
      "cell_type": "code",
      "execution_count": 19,
      "metadata": {
        "id": "QWKcy55_Jyvk"
      },
      "outputs": [],
      "source": [
        "import pandas as pd\n",
        "import numpy as np\n",
        "import matplotlib.pyplot as plt\n"
      ]
    },
    {
      "cell_type": "markdown",
      "source": [
        "importing the dataset"
      ],
      "metadata": {
        "id": "2JjYK6ukK5ty"
      }
    },
    {
      "cell_type": "code",
      "source": [
        "dataset=pd.read_csv(\"/content/Social_Network_Ads.csv\")\n",
        "x = dataset.iloc[:,:-1].values\n",
        "y=dataset.iloc[:,-1].values"
      ],
      "metadata": {
        "id": "u0AKkAsdKw8o"
      },
      "execution_count": 20,
      "outputs": []
    },
    {
      "cell_type": "markdown",
      "source": [
        "splitting the dataset into trainig set and test set"
      ],
      "metadata": {
        "id": "Ov9ota0lLneG"
      }
    },
    {
      "cell_type": "code",
      "source": [
        "from sklearn.model_selection import train_test_split\n",
        "x_train, x_test,y_train,y_test= train_test_split(x,y, test_size=0.2,random_state= 0)"
      ],
      "metadata": {
        "id": "GD-bdoedKw6q"
      },
      "execution_count": 21,
      "outputs": []
    },
    {
      "cell_type": "code",
      "source": [
        "print(x_test)"
      ],
      "metadata": {
        "colab": {
          "base_uri": "https://localhost:8080/"
        },
        "id": "yYxJX3ChO9T8",
        "outputId": "7b434dd1-fd8c-4de9-e90e-2dbb96c63e49"
      },
      "execution_count": 23,
      "outputs": [
        {
          "output_type": "stream",
          "name": "stdout",
          "text": [
            "[[    30  87000]\n",
            " [    38  50000]\n",
            " [    35  75000]\n",
            " [    30  79000]\n",
            " [    35  50000]\n",
            " [    27  20000]\n",
            " [    31  15000]\n",
            " [    36 144000]\n",
            " [    18  68000]\n",
            " [    47  43000]\n",
            " [    30  49000]\n",
            " [    28  55000]\n",
            " [    37  55000]\n",
            " [    39  77000]\n",
            " [    20  86000]\n",
            " [    32 117000]\n",
            " [    37  77000]\n",
            " [    19  85000]\n",
            " [    55 130000]\n",
            " [    35  22000]\n",
            " [    35  47000]\n",
            " [    47 144000]\n",
            " [    41  51000]\n",
            " [    47 105000]\n",
            " [    23  28000]\n",
            " [    49 141000]\n",
            " [    28  87000]\n",
            " [    29  80000]\n",
            " [    37  62000]\n",
            " [    32  86000]\n",
            " [    21  88000]\n",
            " [    37  79000]\n",
            " [    57  60000]\n",
            " [    37  53000]\n",
            " [    24  58000]\n",
            " [    18  52000]\n",
            " [    22  81000]\n",
            " [    34  43000]\n",
            " [    31  34000]\n",
            " [    49  36000]\n",
            " [    27  88000]\n",
            " [    41  52000]\n",
            " [    27  84000]\n",
            " [    35  20000]\n",
            " [    43 112000]\n",
            " [    27  58000]\n",
            " [    37  80000]\n",
            " [    52  90000]\n",
            " [    26  30000]\n",
            " [    49  86000]\n",
            " [    57 122000]\n",
            " [    34  25000]\n",
            " [    35  57000]\n",
            " [    34 115000]\n",
            " [    59  88000]\n",
            " [    45  32000]\n",
            " [    29  83000]\n",
            " [    26  80000]\n",
            " [    49  28000]\n",
            " [    23  20000]\n",
            " [    32  18000]\n",
            " [    60  42000]\n",
            " [    19  76000]\n",
            " [    36  99000]\n",
            " [    19  26000]\n",
            " [    60  83000]\n",
            " [    24  89000]\n",
            " [    27  58000]\n",
            " [    40  47000]\n",
            " [    42  70000]\n",
            " [    32 150000]\n",
            " [    35  77000]\n",
            " [    22  63000]\n",
            " [    45  22000]\n",
            " [    27  89000]\n",
            " [    18  82000]\n",
            " [    42  79000]\n",
            " [    40  60000]\n",
            " [    53  34000]\n",
            " [    47 107000]]\n"
          ]
        }
      ]
    },
    {
      "cell_type": "code",
      "source": [
        "print(x_train)"
      ],
      "metadata": {
        "colab": {
          "base_uri": "https://localhost:8080/"
        },
        "id": "Me7BvcKLOLV-",
        "outputId": "51618765-bb23-442c-f718-76b9c80a649b"
      },
      "execution_count": 31,
      "outputs": [
        {
          "output_type": "stream",
          "name": "stdout",
          "text": [
            "[[ 1.92295008e+00  2.14601566e+00]\n",
            " [ 2.02016082e+00  3.78719297e-01]\n",
            " [-1.38221530e+00 -4.32498705e-01]\n",
            " [-1.18779381e+00 -1.01194013e+00]\n",
            " [ 1.92295008e+00 -9.25023920e-01]\n",
            " [ 3.67578135e-01  2.91803083e-01]\n",
            " [ 1.73156642e-01  1.46942725e-01]\n",
            " [ 2.02016082e+00  1.74040666e+00]\n",
            " [ 7.56421121e-01 -8.38107706e-01]\n",
            " [ 2.70367388e-01 -2.87638347e-01]\n",
            " [ 3.67578135e-01 -1.71750061e-01]\n",
            " [-1.18475597e-01  2.20395980e+00]\n",
            " [-1.47942605e+00 -6.35303205e-01]\n",
            " [-1.28500455e+00 -1.06988428e+00]\n",
            " [-1.38221530e+00  4.07691369e-01]\n",
            " [-1.09058306e+00  7.55356227e-01]\n",
            " [-1.47942605e+00 -2.00722133e-01]\n",
            " [ 9.50842613e-01 -1.06988428e+00]\n",
            " [ 9.50842613e-01  5.81523798e-01]\n",
            " [ 3.67578135e-01  9.87132798e-01]\n",
            " [ 5.61999628e-01 -8.96051849e-01]\n",
            " [-6.04529329e-01  1.45068594e+00]\n",
            " [-2.12648508e-02 -5.77359062e-01]\n",
            " [-6.04529329e-01  1.88526701e+00]\n",
            " [ 1.33968560e+00 -1.41754914e+00]\n",
            " [ 1.43689635e+00  9.87132798e-01]\n",
            " [ 7.59458956e-02 -8.09135634e-01]\n",
            " [-2.12648508e-02 -2.58666276e-01]\n",
            " [-2.15686344e-01 -5.77359062e-01]\n",
            " [-2.15686344e-01 -2.00722133e-01]\n",
            " [-3.12897090e-01 -1.30166085e+00]\n",
            " [-3.12897090e-01 -5.77359062e-01]\n",
            " [ 3.67578135e-01  8.89985821e-02]\n",
            " [ 8.53631867e-01 -6.06331134e-01]\n",
            " [ 2.02016082e+00 -1.18577256e+00]\n",
            " [ 1.04805336e+00 -1.42777990e-01]\n",
            " [ 6.59210374e-01  1.76937873e+00]\n",
            " [-7.01740076e-01  5.52551726e-01]\n",
            " [ 7.56421121e-01  3.49747226e-01]\n",
            " [ 8.53631867e-01 -5.48386991e-01]\n",
            " [-1.18779381e+00 -1.59138156e+00]\n",
            " [ 2.11737157e+00  9.29188655e-01]\n",
            " [-2.12648508e-02  1.21890937e+00]\n",
            " [ 1.73156642e-01  1.07404901e+00]\n",
            " [ 3.67578135e-01 -4.90442848e-01]\n",
            " [-3.12897090e-01 -3.16610419e-01]\n",
            " [ 9.50842613e-01 -8.38107706e-01]\n",
            " [ 9.50842613e-01  1.85629494e+00]\n",
            " [-2.12648508e-02  1.24788144e+00]\n",
            " [-8.96161568e-01  2.26190394e+00]\n",
            " [-1.18779381e+00 -1.59138156e+00]\n",
            " [ 2.11737157e+00 -8.09135634e-01]\n",
            " [-1.38221530e+00 -1.47549328e+00]\n",
            " [ 3.67578135e-01  2.29087602e+00]\n",
            " [ 7.56421121e-01  7.55356227e-01]\n",
            " [-9.93372315e-01 -3.16610419e-01]\n",
            " [ 7.59458956e-02  7.55356227e-01]\n",
            " [-9.93372315e-01  5.52551726e-01]\n",
            " [ 2.70367388e-01  6.00265106e-02]\n",
            " [ 6.59210374e-01 -1.27268878e+00]\n",
            " [-5.07318583e-01 -2.68897039e-02]\n",
            " [-1.77105829e+00  3.49747226e-01]\n",
            " [-7.01740076e-01  1.17970654e-01]\n",
            " [ 3.67578135e-01  2.91803083e-01]\n",
            " [-3.12897090e-01  6.00265106e-02]\n",
            " [-5.07318583e-01  2.29087602e+00]\n",
            " [ 1.73156642e-01  3.10544391e-02]\n",
            " [ 1.24247485e+00  2.20395980e+00]\n",
            " [ 7.56421121e-01  2.62831011e-01]\n",
            " [-3.12897090e-01  1.46942725e-01]\n",
            " [-2.12648508e-02 -5.48386991e-01]\n",
            " [-2.15686344e-01  1.46942725e-01]\n",
            " [-1.18475597e-01  2.33858940e-01]\n",
            " [-2.12648508e-02 -2.58666276e-01]\n",
            " [ 2.11737157e+00  1.10302108e+00]\n",
            " [-1.77105829e+00  3.49747226e-01]\n",
            " [ 1.82573933e+00  1.17970654e-01]\n",
            " [ 3.67578135e-01 -1.42777990e-01]\n",
            " [-1.18779381e+00  2.91803083e-01]\n",
            " [ 7.56421121e-01  1.36376973e+00]\n",
            " [-3.12897090e-01 -2.58666276e-01]\n",
            " [-1.67384754e+00 -5.58617754e-02]\n",
            " [-9.93372315e-01 -7.51191491e-01]\n",
            " [ 2.70367388e-01  4.94607583e-01]\n",
            " [-1.18475597e-01 -1.06988428e+00]\n",
            " [-1.09058306e+00  5.81523798e-01]\n",
            " [ 7.59458956e-02 -8.09135634e-01]\n",
            " [-9.93372315e-01  1.53760216e+00]\n",
            " [-7.01740076e-01  1.39274180e+00]\n",
            " [-1.28500455e+00  4.94607583e-01]\n",
            " [-3.12897090e-01  3.10544391e-02]\n",
            " [-1.18475597e-01  2.08236764e-03]\n",
            " [-3.12897090e-01 -8.96051849e-01]\n",
            " [ 8.53631867e-01 -1.35960499e+00]\n",
            " [-3.12897090e-01  2.23293187e+00]\n",
            " [ 9.50842613e-01  1.97218323e+00]\n",
            " [-1.18779381e+00  4.65635512e-01]\n",
            " [-1.28500455e+00  2.62831011e-01]\n",
            " [ 1.33968560e+00  1.97218323e+00]\n",
            " [ 1.24247485e+00 -1.35960499e+00]\n",
            " [-3.12897090e-01 -2.87638347e-01]\n",
            " [-5.07318583e-01  1.24788144e+00]\n",
            " [-7.98950822e-01  1.07404901e+00]\n",
            " [ 9.50842613e-01 -1.06988428e+00]\n",
            " [ 2.70367388e-01  2.91803083e-01]\n",
            " [ 9.50842613e-01  7.55356227e-01]\n",
            " [-7.01740076e-01 -1.50446535e+00]\n",
            " [-7.01740076e-01  3.10544391e-02]\n",
            " [ 4.64788881e-01  1.71143459e+00]\n",
            " [ 2.02016082e+00  1.75914797e-01]\n",
            " [-1.96547978e+00 -7.51191491e-01]\n",
            " [-2.15686344e-01  1.39274180e+00]\n",
            " [ 3.67578135e-01  5.81523798e-01]\n",
            " [ 8.53631867e-01 -1.15680049e+00]\n",
            " [-1.18779381e+00 -7.80163563e-01]\n",
            " [ 1.73156642e-01  2.33858940e-01]\n",
            " [ 7.56421121e-01 -3.16610419e-01]\n",
            " [ 2.02016082e+00 -8.09135634e-01]\n",
            " [ 7.56421121e-01  1.17970654e-01]\n",
            " [-3.12897090e-01  6.10495869e-01]\n",
            " [-9.93372315e-01 -3.16610419e-01]\n",
            " [ 1.73156642e-01 -3.74554562e-01]\n",
            " [ 2.02016082e+00  2.11704359e+00]\n",
            " [ 1.82573933e+00 -1.27268878e+00]\n",
            " [ 1.33968560e+00 -9.25023920e-01]\n",
            " [ 8.53631867e-01  1.24788144e+00]\n",
            " [ 1.43689635e+00  2.11704359e+00]\n",
            " [-3.12897090e-01 -1.24371671e+00]\n",
            " [ 1.92295008e+00  9.00216584e-01]\n",
            " [ 6.59210374e-01 -7.22219420e-01]\n",
            " [-1.47942605e+00  3.49747226e-01]\n",
            " [ 7.56421121e-01 -1.35960499e+00]\n",
            " [ 3.67578135e-01 -1.42777990e-01]\n",
            " [-9.93372315e-01  4.07691369e-01]\n",
            " [-2.12648508e-02 -3.16610419e-01]\n",
            " [-1.18779381e+00  4.07691369e-01]\n",
            " [-8.96161568e-01 -1.21474464e+00]\n",
            " [-1.18475597e-01  3.10544391e-02]\n",
            " [-1.57663679e+00 -4.32498705e-01]\n",
            " [ 9.50842613e-01 -1.01194013e+00]\n",
            " [ 1.04805336e+00 -1.21474464e+00]\n",
            " [-2.12648508e-02 -1.42777990e-01]\n",
            " [-1.09058306e+00 -1.53343742e+00]\n",
            " [ 7.56421121e-01 -1.21474464e+00]\n",
            " [ 9.50842613e-01  2.05909944e+00]\n",
            " [-1.18779381e+00 -1.53343742e+00]\n",
            " [-3.12897090e-01  7.84328298e-01]\n",
            " [ 7.59458956e-02 -3.16610419e-01]\n",
            " [-1.38221530e+00 -1.24371671e+00]\n",
            " [-6.04529329e-01 -1.50446535e+00]\n",
            " [ 7.56421121e-01  5.23579655e-01]\n",
            " [-3.12897090e-01 -3.45582490e-01]\n",
            " [ 1.72852858e+00 -2.87638347e-01]\n",
            " [ 8.53631867e-01 -1.04091221e+00]\n",
            " [ 1.73156642e-01  6.00265106e-02]\n",
            " [-6.04529329e-01  8.71244512e-01]\n",
            " [-1.86826903e+00 -1.41754914e+00]\n",
            " [-1.28500455e+00  5.81523798e-01]\n",
            " [-3.12897090e-01  5.23579655e-01]\n",
            " [-9.93372315e-01 -1.09885635e+00]\n",
            " [ 1.14526411e+00 -1.44652121e+00]\n",
            " [ 1.73156642e-01 -3.16610419e-01]\n",
            " [ 1.14526411e+00 -7.51191491e-01]\n",
            " [-3.12897090e-01  6.00265106e-02]\n",
            " [ 1.73156642e-01  2.08807152e+00]\n",
            " [ 7.56421121e-01 -1.09885635e+00]\n",
            " [ 7.59458956e-02  3.10544391e-02]\n",
            " [-1.77105829e+00  1.17970654e-01]\n",
            " [-8.96161568e-01  1.46942725e-01]\n",
            " [-7.01740076e-01  1.75914797e-01]\n",
            " [ 8.53631867e-01 -1.30166085e+00]\n",
            " [ 1.73156642e-01 -2.58666276e-01]\n",
            " [-4.10107836e-01  1.21890937e+00]\n",
            " [-2.12648508e-02  2.91803083e-01]\n",
            " [ 3.67578135e-01  1.46942725e-01]\n",
            " [ 8.53631867e-01 -6.64275277e-01]\n",
            " [ 7.59458956e-02  1.46942725e-01]\n",
            " [-1.86826903e+00 -1.30166085e+00]\n",
            " [-1.18475597e-01  2.91803083e-01]\n",
            " [-2.15686344e-01 -2.87638347e-01]\n",
            " [ 2.70367388e-01 -5.19414919e-01]\n",
            " [-2.15686344e-01  1.59554630e+00]\n",
            " [ 9.50842613e-01 -1.18577256e+00]\n",
            " [-2.15686344e-01  1.62451837e+00]\n",
            " [ 1.24247485e+00  1.85629494e+00]\n",
            " [-1.09058306e+00 -3.74554562e-01]\n",
            " [-2.12648508e-02  3.10544391e-02]\n",
            " [ 7.59458956e-02 -2.58666276e-01]\n",
            " [-1.57663679e+00 -1.24371671e+00]\n",
            " [-5.07318583e-01 -2.87638347e-01]\n",
            " [ 9.50842613e-01  1.17970654e-01]\n",
            " [ 1.92295008e+00 -1.35960499e+00]\n",
            " [ 1.43689635e+00  6.00265106e-02]\n",
            " [-6.04529329e-01  1.36376973e+00]\n",
            " [ 1.53410709e+00  2.08236764e-03]\n",
            " [-7.98950822e-01  2.91803083e-01]\n",
            " [ 1.92295008e+00  7.26384155e-01]\n",
            " [-1.18779381e+00 -5.19414919e-01]\n",
            " [ 6.59210374e-01  2.62831011e-01]\n",
            " [-1.38221530e+00 -4.32498705e-01]\n",
            " [ 1.73156642e-01  1.46942725e-01]\n",
            " [-5.07318583e-01 -1.21474464e+00]\n",
            " [ 5.61999628e-01  2.00115530e+00]\n",
            " [-1.57663679e+00 -1.50446535e+00]\n",
            " [-5.07318583e-01 -5.48386991e-01]\n",
            " [ 4.64788881e-01  1.82732287e+00]\n",
            " [-1.38221530e+00 -1.09885635e+00]\n",
            " [ 7.56421121e-01 -1.38857706e+00]\n",
            " [-3.12897090e-01 -4.32498705e-01]\n",
            " [ 1.53410709e+00  9.87132798e-01]\n",
            " [ 9.50842613e-01  1.42171387e+00]\n",
            " [-3.12897090e-01 -4.90442848e-01]\n",
            " [-1.18475597e-01  2.14601566e+00]\n",
            " [-1.47942605e+00 -1.13805918e-01]\n",
            " [-1.18475597e-01  1.94321116e+00]\n",
            " [-7.01740076e-01 -3.45582490e-01]\n",
            " [-5.07318583e-01 -8.38107706e-01]\n",
            " [ 6.59210374e-01 -1.38857706e+00]\n",
            " [-7.98950822e-01 -1.59138156e+00]\n",
            " [-1.86826903e+00 -1.47549328e+00]\n",
            " [ 1.04805336e+00  1.17970654e-01]\n",
            " [ 7.59458956e-02  1.50863009e+00]\n",
            " [-3.12897090e-01  8.89985821e-02]\n",
            " [ 7.59458956e-02  3.10544391e-02]\n",
            " [-1.38221530e+00 -1.35960499e+00]\n",
            " [ 2.70367388e-01  6.00265106e-02]\n",
            " [-8.96161568e-01  3.78719297e-01]\n",
            " [ 1.53410709e+00 -1.27268878e+00]\n",
            " [-3.12897090e-01 -7.51191491e-01]\n",
            " [-1.18475597e-01  1.46942725e-01]\n",
            " [-8.96161568e-01 -6.64275277e-01]\n",
            " [-7.01740076e-01 -5.58617754e-02]\n",
            " [ 3.67578135e-01 -4.61470776e-01]\n",
            " [-7.98950822e-01  1.88526701e+00]\n",
            " [ 1.33968560e+00  1.27685351e+00]\n",
            " [ 1.14526411e+00 -9.82968063e-01]\n",
            " [ 1.72852858e+00  1.82732287e+00]\n",
            " [-8.96161568e-01 -2.58666276e-01]\n",
            " [-7.98950822e-01  5.52551726e-01]\n",
            " [-1.18779381e+00 -1.56240949e+00]\n",
            " [-5.07318583e-01 -1.12782842e+00]\n",
            " [ 2.70367388e-01  6.00265106e-02]\n",
            " [-2.15686344e-01 -1.06988428e+00]\n",
            " [ 1.63131784e+00  1.59554630e+00]\n",
            " [ 9.50842613e-01  1.76937873e+00]\n",
            " [ 2.70367388e-01  3.10544391e-02]\n",
            " [-7.98950822e-01 -2.29694204e-01]\n",
            " [-1.18475597e-01  6.00265106e-02]\n",
            " [ 2.70367388e-01 -2.00722133e-01]\n",
            " [ 1.92295008e+00 -6.64275277e-01]\n",
            " [-7.98950822e-01  1.33479766e+00]\n",
            " [-1.77105829e+00 -6.06331134e-01]\n",
            " [-1.18475597e-01  1.17970654e-01]\n",
            " [ 2.70367388e-01 -3.16610419e-01]\n",
            " [ 1.04805336e+00  5.52551726e-01]\n",
            " [-9.93372315e-01  2.62831011e-01]\n",
            " [ 1.43689635e+00  3.49747226e-01]\n",
            " [ 1.73156642e-01 -3.74554562e-01]\n",
            " [ 2.11737157e+00 -1.04091221e+00]\n",
            " [-3.12897090e-01  1.10302108e+00]\n",
            " [-1.67384754e+00  6.00265106e-02]\n",
            " [-2.12648508e-02  3.10544391e-02]\n",
            " [ 7.59458956e-02  1.04507694e+00]\n",
            " [-1.18475597e-01 -3.74554562e-01]\n",
            " [-1.18779381e+00  6.00265106e-02]\n",
            " [-3.12897090e-01 -1.35960499e+00]\n",
            " [ 1.53410709e+00  1.10302108e+00]\n",
            " [-7.98950822e-01 -1.53343742e+00]\n",
            " [ 7.59458956e-02  1.85629494e+00]\n",
            " [-8.96161568e-01 -7.80163563e-01]\n",
            " [-5.07318583e-01 -7.80163563e-01]\n",
            " [-3.12897090e-01 -9.25023920e-01]\n",
            " [ 2.70367388e-01 -7.22219420e-01]\n",
            " [ 2.70367388e-01  6.00265106e-02]\n",
            " [ 7.59458956e-02  1.85629494e+00]\n",
            " [-1.09058306e+00  1.94321116e+00]\n",
            " [-1.67384754e+00 -1.56240949e+00]\n",
            " [-1.18779381e+00 -1.09885635e+00]\n",
            " [-7.01740076e-01 -1.13805918e-01]\n",
            " [ 7.59458956e-02  8.89985821e-02]\n",
            " [ 2.70367388e-01  2.62831011e-01]\n",
            " [ 8.53631867e-01 -5.77359062e-01]\n",
            " [ 2.70367388e-01 -1.15680049e+00]\n",
            " [-1.18475597e-01  6.68440012e-01]\n",
            " [ 2.11737157e+00 -6.93247348e-01]\n",
            " [-1.28500455e+00 -1.38857706e+00]\n",
            " [-9.93372315e-01 -9.53995992e-01]\n",
            " [-2.12648508e-02 -4.32498705e-01]\n",
            " [-2.15686344e-01 -4.61470776e-01]\n",
            " [-1.77105829e+00 -9.82968063e-01]\n",
            " [ 1.72852858e+00  9.87132798e-01]\n",
            " [ 1.73156642e-01 -3.74554562e-01]\n",
            " [ 3.67578135e-01  1.10302108e+00]\n",
            " [-1.77105829e+00 -1.35960499e+00]\n",
            " [ 1.73156642e-01 -1.42777990e-01]\n",
            " [ 8.53631867e-01 -1.44652121e+00]\n",
            " [-1.96547978e+00  4.65635512e-01]\n",
            " [-3.12897090e-01  2.62831011e-01]\n",
            " [ 1.82573933e+00 -1.06988428e+00]\n",
            " [-4.10107836e-01  6.00265106e-02]\n",
            " [ 1.04805336e+00 -8.96051849e-01]\n",
            " [-1.09058306e+00 -1.12782842e+00]\n",
            " [-1.86826903e+00  2.08236764e-03]\n",
            " [ 7.59458956e-02  2.62831011e-01]\n",
            " [-1.18779381e+00  3.20775154e-01]\n",
            " [-1.28500455e+00  2.91803083e-01]\n",
            " [-9.93372315e-01  4.36663440e-01]\n",
            " [ 1.63131784e+00 -8.96051849e-01]\n",
            " [ 1.14526411e+00  5.23579655e-01]\n",
            " [ 1.04805336e+00  5.23579655e-01]\n",
            " [ 1.33968560e+00  2.31984809e+00]\n",
            " [-3.12897090e-01 -1.42777990e-01]\n",
            " [ 3.67578135e-01 -4.61470776e-01]\n",
            " [-4.10107836e-01 -7.80163563e-01]\n",
            " [-1.18475597e-01 -5.19414919e-01]\n",
            " [ 9.50842613e-01 -1.15680049e+00]\n",
            " [-8.96161568e-01 -7.80163563e-01]\n",
            " [-2.15686344e-01 -5.19414919e-01]\n",
            " [-1.09058306e+00 -4.61470776e-01]\n",
            " [-1.18779381e+00  1.39274180e+00]]\n"
          ]
        }
      ]
    },
    {
      "cell_type": "markdown",
      "source": [
        "**`Feature scalling `**"
      ],
      "metadata": {
        "id": "d1SNS0GfMJN7"
      }
    },
    {
      "cell_type": "markdown",
      "source": [
        "Training  the Logistic regession\n",
        "\n",
        "\n",
        "\n"
      ],
      "metadata": {
        "id": "oBwtsLuSMP_D"
      }
    },
    {
      "cell_type": "code",
      "source": [
        "from sklearn.preprocessing import StandardScaler\n",
        "sc=StandardScaler()\n",
        "x_train=sc.fit_transform(x_train)\n",
        "x_test=sc.fit_transform(x_test)"
      ],
      "metadata": {
        "id": "q6p3PavBKw4y"
      },
      "execution_count": 25,
      "outputs": []
    },
    {
      "cell_type": "code",
      "source": [
        "print(y_test)"
      ],
      "metadata": {
        "colab": {
          "base_uri": "https://localhost:8080/"
        },
        "id": "HNtduCUdKwtV",
        "outputId": "30f5074a-5fa2-4127-85bf-79aec9a4f200"
      },
      "execution_count": 26,
      "outputs": [
        {
          "output_type": "stream",
          "name": "stdout",
          "text": [
            "[0 0 0 0 0 0 0 1 0 0 0 0 0 0 0 0 0 0 1 0 0 1 0 1 0 1 0 0 0 0 0 1 1 0 0 0 0\n",
            " 0 0 1 0 0 0 0 1 0 0 1 0 1 1 0 0 0 1 1 0 0 1 0 0 1 0 1 0 1 0 0 0 0 1 0 0 1\n",
            " 0 0 0 0 1 1]\n"
          ]
        }
      ]
    },
    {
      "cell_type": "markdown",
      "source": [
        "Training the logisticregression"
      ],
      "metadata": {
        "id": "B-OHSTfGPpp0"
      }
    },
    {
      "cell_type": "code",
      "source": [
        "from sklearn.linear_model import LogisticRegression\n",
        "classifier= LogisticRegression(random_state= 0)\n",
        "classifier.fit(x_train,y_train)"
      ],
      "metadata": {
        "colab": {
          "base_uri": "https://localhost:8080/",
          "height": 74
        },
        "id": "QVTDVd5CKwmC",
        "outputId": "df172cec-1a9b-40a3-ae5f-4d37aa9650f7"
      },
      "execution_count": 29,
      "outputs": [
        {
          "output_type": "execute_result",
          "data": {
            "text/plain": [
              "LogisticRegression(random_state=0)"
            ],
            "text/html": [
              "<style>#sk-container-id-1 {color: black;background-color: white;}#sk-container-id-1 pre{padding: 0;}#sk-container-id-1 div.sk-toggleable {background-color: white;}#sk-container-id-1 label.sk-toggleable__label {cursor: pointer;display: block;width: 100%;margin-bottom: 0;padding: 0.3em;box-sizing: border-box;text-align: center;}#sk-container-id-1 label.sk-toggleable__label-arrow:before {content: \"▸\";float: left;margin-right: 0.25em;color: #696969;}#sk-container-id-1 label.sk-toggleable__label-arrow:hover:before {color: black;}#sk-container-id-1 div.sk-estimator:hover label.sk-toggleable__label-arrow:before {color: black;}#sk-container-id-1 div.sk-toggleable__content {max-height: 0;max-width: 0;overflow: hidden;text-align: left;background-color: #f0f8ff;}#sk-container-id-1 div.sk-toggleable__content pre {margin: 0.2em;color: black;border-radius: 0.25em;background-color: #f0f8ff;}#sk-container-id-1 input.sk-toggleable__control:checked~div.sk-toggleable__content {max-height: 200px;max-width: 100%;overflow: auto;}#sk-container-id-1 input.sk-toggleable__control:checked~label.sk-toggleable__label-arrow:before {content: \"▾\";}#sk-container-id-1 div.sk-estimator input.sk-toggleable__control:checked~label.sk-toggleable__label {background-color: #d4ebff;}#sk-container-id-1 div.sk-label input.sk-toggleable__control:checked~label.sk-toggleable__label {background-color: #d4ebff;}#sk-container-id-1 input.sk-hidden--visually {border: 0;clip: rect(1px 1px 1px 1px);clip: rect(1px, 1px, 1px, 1px);height: 1px;margin: -1px;overflow: hidden;padding: 0;position: absolute;width: 1px;}#sk-container-id-1 div.sk-estimator {font-family: monospace;background-color: #f0f8ff;border: 1px dotted black;border-radius: 0.25em;box-sizing: border-box;margin-bottom: 0.5em;}#sk-container-id-1 div.sk-estimator:hover {background-color: #d4ebff;}#sk-container-id-1 div.sk-parallel-item::after {content: \"\";width: 100%;border-bottom: 1px solid gray;flex-grow: 1;}#sk-container-id-1 div.sk-label:hover label.sk-toggleable__label {background-color: #d4ebff;}#sk-container-id-1 div.sk-serial::before {content: \"\";position: absolute;border-left: 1px solid gray;box-sizing: border-box;top: 0;bottom: 0;left: 50%;z-index: 0;}#sk-container-id-1 div.sk-serial {display: flex;flex-direction: column;align-items: center;background-color: white;padding-right: 0.2em;padding-left: 0.2em;position: relative;}#sk-container-id-1 div.sk-item {position: relative;z-index: 1;}#sk-container-id-1 div.sk-parallel {display: flex;align-items: stretch;justify-content: center;background-color: white;position: relative;}#sk-container-id-1 div.sk-item::before, #sk-container-id-1 div.sk-parallel-item::before {content: \"\";position: absolute;border-left: 1px solid gray;box-sizing: border-box;top: 0;bottom: 0;left: 50%;z-index: -1;}#sk-container-id-1 div.sk-parallel-item {display: flex;flex-direction: column;z-index: 1;position: relative;background-color: white;}#sk-container-id-1 div.sk-parallel-item:first-child::after {align-self: flex-end;width: 50%;}#sk-container-id-1 div.sk-parallel-item:last-child::after {align-self: flex-start;width: 50%;}#sk-container-id-1 div.sk-parallel-item:only-child::after {width: 0;}#sk-container-id-1 div.sk-dashed-wrapped {border: 1px dashed gray;margin: 0 0.4em 0.5em 0.4em;box-sizing: border-box;padding-bottom: 0.4em;background-color: white;}#sk-container-id-1 div.sk-label label {font-family: monospace;font-weight: bold;display: inline-block;line-height: 1.2em;}#sk-container-id-1 div.sk-label-container {text-align: center;}#sk-container-id-1 div.sk-container {/* jupyter's `normalize.less` sets `[hidden] { display: none; }` but bootstrap.min.css set `[hidden] { display: none !important; }` so we also need the `!important` here to be able to override the default hidden behavior on the sphinx rendered scikit-learn.org. See: https://github.com/scikit-learn/scikit-learn/issues/21755 */display: inline-block !important;position: relative;}#sk-container-id-1 div.sk-text-repr-fallback {display: none;}</style><div id=\"sk-container-id-1\" class=\"sk-top-container\"><div class=\"sk-text-repr-fallback\"><pre>LogisticRegression(random_state=0)</pre><b>In a Jupyter environment, please rerun this cell to show the HTML representation or trust the notebook. <br />On GitHub, the HTML representation is unable to render, please try loading this page with nbviewer.org.</b></div><div class=\"sk-container\" hidden><div class=\"sk-item\"><div class=\"sk-estimator sk-toggleable\"><input class=\"sk-toggleable__control sk-hidden--visually\" id=\"sk-estimator-id-1\" type=\"checkbox\" checked><label for=\"sk-estimator-id-1\" class=\"sk-toggleable__label sk-toggleable__label-arrow\">LogisticRegression</label><div class=\"sk-toggleable__content\"><pre>LogisticRegression(random_state=0)</pre></div></div></div></div></div>"
            ]
          },
          "metadata": {},
          "execution_count": 29
        }
      ]
    },
    {
      "cell_type": "markdown",
      "source": [
        "Predicting the new results"
      ],
      "metadata": {
        "id": "ieOWMhGsQcsr"
      }
    },
    {
      "cell_type": "code",
      "source": [
        "print(classifier.predict(sc.transform([[30,87000]])))"
      ],
      "metadata": {
        "colab": {
          "base_uri": "https://localhost:8080/"
        },
        "id": "fagr0VPmKwjd",
        "outputId": "cdc2705f-0919-4ae2-93f0-13b0db2aaec6"
      },
      "execution_count": 36,
      "outputs": [
        {
          "output_type": "stream",
          "name": "stdout",
          "text": [
            "[0]\n"
          ]
        }
      ]
    },
    {
      "cell_type": "markdown",
      "source": [
        "^^The above result shows that the customer at age 30 and with the estimated salary 87000 will buy the suv car"
      ],
      "metadata": {
        "id": "qHGiRlujR-Ke"
      }
    },
    {
      "cell_type": "markdown",
      "source": [
        "Predict the Test set Results"
      ],
      "metadata": {
        "id": "7yi_3291SbUe"
      }
    },
    {
      "cell_type": "code",
      "source": [
        "y_pred = classifier.predict(x_test)\n",
        "print(np.concatenate((y_pred.reshape(len(y_pred),1),y_test.reshape(len(y_test),1)),1))"
      ],
      "metadata": {
        "colab": {
          "base_uri": "https://localhost:8080/"
        },
        "id": "7-YCTLViSbEU",
        "outputId": "bd6094f5-7d16-4a78-dc76-bfc22e11f41e"
      },
      "execution_count": 38,
      "outputs": [
        {
          "output_type": "stream",
          "name": "stdout",
          "text": [
            "[[0 0]\n",
            " [0 0]\n",
            " [0 0]\n",
            " [0 0]\n",
            " [0 0]\n",
            " [0 0]\n",
            " [0 0]\n",
            " [1 1]\n",
            " [0 0]\n",
            " [1 0]\n",
            " [0 0]\n",
            " [0 0]\n",
            " [0 0]\n",
            " [1 0]\n",
            " [0 0]\n",
            " [1 0]\n",
            " [0 0]\n",
            " [0 0]\n",
            " [1 1]\n",
            " [0 0]\n",
            " [0 0]\n",
            " [1 1]\n",
            " [0 0]\n",
            " [1 1]\n",
            " [0 0]\n",
            " [1 1]\n",
            " [0 0]\n",
            " [0 0]\n",
            " [0 0]\n",
            " [0 0]\n",
            " [0 0]\n",
            " [0 1]\n",
            " [1 1]\n",
            " [0 0]\n",
            " [0 0]\n",
            " [0 0]\n",
            " [0 0]\n",
            " [0 0]\n",
            " [0 0]\n",
            " [1 1]\n",
            " [0 0]\n",
            " [0 0]\n",
            " [0 0]\n",
            " [0 0]\n",
            " [1 1]\n",
            " [0 0]\n",
            " [0 0]\n",
            " [1 1]\n",
            " [0 0]\n",
            " [1 1]\n",
            " [1 1]\n",
            " [0 0]\n",
            " [0 0]\n",
            " [1 0]\n",
            " [1 1]\n",
            " [0 1]\n",
            " [0 0]\n",
            " [0 0]\n",
            " [1 1]\n",
            " [0 0]\n",
            " [0 0]\n",
            " [1 1]\n",
            " [0 0]\n",
            " [1 1]\n",
            " [0 0]\n",
            " [1 1]\n",
            " [0 0]\n",
            " [0 0]\n",
            " [0 0]\n",
            " [1 0]\n",
            " [1 1]\n",
            " [0 0]\n",
            " [0 0]\n",
            " [0 1]\n",
            " [0 0]\n",
            " [0 0]\n",
            " [1 0]\n",
            " [0 0]\n",
            " [1 1]\n",
            " [1 1]]\n"
          ]
        }
      ]
    },
    {
      "cell_type": "markdown",
      "source": [
        "confusion matrix"
      ],
      "metadata": {
        "id": "nOOpe8OITu_G"
      }
    },
    {
      "cell_type": "code",
      "source": [
        "from sklearn.metrics import confusion_matrix,accuracy_score\n",
        "cm=confusion_matrix(y_test,y_pred )\n",
        "print(cm)\n",
        "accuracy_score(y_test,y_pred )"
      ],
      "metadata": {
        "colab": {
          "base_uri": "https://localhost:8080/"
        },
        "id": "cLfpf1MbKwZ2",
        "outputId": "00bc2e69-1f8f-4a90-e767-c5a3fb501aec"
      },
      "execution_count": 43,
      "outputs": [
        {
          "output_type": "stream",
          "name": "stdout",
          "text": [
            "[[52  6]\n",
            " [ 3 19]]\n"
          ]
        },
        {
          "output_type": "execute_result",
          "data": {
            "text/plain": [
              "0.8875"
            ]
          },
          "metadata": {},
          "execution_count": 43
        }
      ]
    },
    {
      "cell_type": "markdown",
      "source": [
        "Visualising the trainig set results"
      ],
      "metadata": {
        "id": "o5alz9M8VGb9"
      }
    },
    {
      "cell_type": "code",
      "source": [
        "from matplotlib.colors import ListedColormap\n",
        "X_set, y_set = sc.inverse_transform(x_train), y_train\n",
        "X1, X2 = np.meshgrid(np.arange(start = X_set[:, 0].min() - 10, stop = X_set[:, 0].max() + 10, step = 0.25),\n",
        "                     np.arange(start = X_set[:, 1].min() - 1000, stop = X_set[:, 1].max() + 1000, step = 0.25))\n",
        "plt.contourf(X1, X2, classifier.predict(sc.transform(np.array([X1.ravel(), X2.ravel()]).T)).reshape(X1.shape),\n",
        "             alpha = 0.75, cmap = ListedColormap(('grey', 'green')))\n",
        "plt.xlim(X1.min(), X1.max())\n",
        "plt.ylim(X2.min(), X2.max())\n",
        "for i, j in enumerate(np.unique(y_set)):\n",
        "    plt.scatter(X_set[y_set == j, 0], X_set[y_set == j, 1], c = ListedColormap(('red', 'green'))(i), label = j)\n",
        "plt.title('Logistic Regression (Training set)')\n",
        "plt.xlabel('Age')\n",
        "plt.ylabel('Estimated Salary')\n",
        "plt.legend()\n",
        "plt.show()"
      ],
      "metadata": {
        "colab": {
          "base_uri": "https://localhost:8080/",
          "height": 527
        },
        "id": "Si3eeOZGUSW0",
        "outputId": "2c38c89e-a02a-4b20-838c-cf48132c7481"
      },
      "execution_count": 47,
      "outputs": [
        {
          "output_type": "stream",
          "name": "stderr",
          "text": [
            "<ipython-input-47-fe1b3018153a>:10: UserWarning: *c* argument looks like a single numeric RGB or RGBA sequence, which should be avoided as value-mapping will have precedence in case its length matches with *x* & *y*.  Please use the *color* keyword-argument or provide a 2D array with a single row if you intend to specify the same RGB or RGBA value for all points.\n",
            "  plt.scatter(X_set[y_set == j, 0], X_set[y_set == j, 1], c = ListedColormap(('red', 'green'))(i), label = j)\n"
          ]
        },
        {
          "output_type": "display_data",
          "data": {
            "text/plain": [
              "<Figure size 640x480 with 1 Axes>"
            ],
            "image/png": "[encoded data removed]"
          },
          "metadata": {}
        }
      ]
    },
    {
      "cell_type": "code",
      "source": [],
      "metadata": {
        "id": "PXb_lFi1WKmp"
      },
      "execution_count": null,
      "outputs": []
    }
  ]
}