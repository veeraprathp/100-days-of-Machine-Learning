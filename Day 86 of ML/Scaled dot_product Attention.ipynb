{
  "nbformat": 4,
  "nbformat_minor": 0,
  "metadata": {
    "colab": {
      "provenance": []
    },
    "kernelspec": {
      "name": "python3",
      "display_name": "Python 3"
    },
    "language_info": {
      "name": "python"
    }
  },
  "cells": [
    {
      "cell_type": "code",
      "source": [
        "import requests\n",
        "\n",
        "\n",
        "url = 'https://raw.githubusercontent.com/karpathy/char-rnn/master/data/tinyshakespeare/input.txt'\n",
        "response = requests.get(url)\n",
        "\n",
        "\n",
        "shakespeare_data = response.text\n",
        "\n",
        "print(shakespeare_data[:500])\n"
      ],
      "metadata": {
        "colab": {
          "base_uri": "https://localhost:8080/"
        },
        "id": "lK6lPMet-KUY",
        "outputId": "8a3dc9d5-2ced-4f78-8e97-47ef65bf4b24"
      },
      "execution_count": 1,
      "outputs": [
        {
          "output_type": "stream",
          "name": "stdout",
          "text": [
            "First Citizen:\n",
            "Before we proceed any further, hear me speak.\n",
            "\n",
            "All:\n",
            "Speak, speak.\n",
            "\n",
            "First Citizen:\n",
            "You are all resolved rather to die than to famish?\n",
            "\n",
            "All:\n",
            "Resolved. resolved.\n",
            "\n",
            "First Citizen:\n",
            "First, you know Caius Marcius is chief enemy to the people.\n",
            "\n",
            "All:\n",
            "We know't, we know't.\n",
            "\n",
            "First Citizen:\n",
            "Let us kill him, and we'll have corn at our own price.\n",
            "Is't a verdict?\n",
            "\n",
            "All:\n",
            "No more talking on't; let it be done: away, away!\n",
            "\n",
            "Second Citizen:\n",
            "One word, good citizens.\n",
            "\n",
            "First Citizen:\n",
            "We are accounted poor\n"
          ]
        }
      ]
    },
    {
      "cell_type": "code",
      "source": [
        "print(\"Lenghth of the data:\",len(shakespeare_data))"
      ],
      "metadata": {
        "colab": {
          "base_uri": "https://localhost:8080/"
        },
        "id": "xKvA8qIl-VRv",
        "outputId": "5351d625-0021-4ee0-f33d-7cde62cc61c4"
      },
      "execution_count": 2,
      "outputs": [
        {
          "output_type": "stream",
          "name": "stdout",
          "text": [
            "Lenghth of the data: 1115394\n"
          ]
        }
      ]
    },
    {
      "cell_type": "code",
      "source": [
        "chars =sorted(list(set(shakespeare_data)))\n",
        "vocab_size = len(chars)\n",
        "print(''.join(chars))\n",
        "print(vocab_size)"
      ],
      "metadata": {
        "colab": {
          "base_uri": "https://localhost:8080/"
        },
        "id": "BT5BCS9O-nN2",
        "outputId": "fcf2ee94-c833-46c2-b29c-c47b643c1362"
      },
      "execution_count": 3,
      "outputs": [
        {
          "output_type": "stream",
          "name": "stdout",
          "text": [
            "\n",
            " !$&',-.3:;?ABCDEFGHIJKLMNOPQRSTUVWXYZabcdefghijklmnopqrstuvwxyz\n",
            "65\n"
          ]
        }
      ]
    },
    {
      "cell_type": "markdown",
      "source": [
        "**In the below output each character is mapped with each integer**"
      ],
      "metadata": {
        "id": "zB-5zdp6AjVs"
      }
    },
    {
      "cell_type": "code",
      "source": [
        "stoi ={ch:i for i,ch in enumerate(chars)}\n",
        "itos ={i:ch for i,ch in enumerate(chars)}\n",
        "encode = lambda s:[stoi[c] for c in s] #encoder: take a string, output a list of integers\n",
        "decode = lambda l: ''.join([itos[i] for i in l]) # decoder: take a list of integers, output a string\n",
        "print(encode(\"Happy learning \"))\n",
        "print(decode(encode(\"Happy learning\")))"
      ],
      "metadata": {
        "colab": {
          "base_uri": "https://localhost:8080/"
        },
        "id": "BdduV7Ol_PzM",
        "outputId": "78cbb3ae-783d-4283-d584-ff108d3fc06b"
      },
      "execution_count": 4,
      "outputs": [
        {
          "output_type": "stream",
          "name": "stdout",
          "text": [
            "[20, 39, 54, 54, 63, 1, 50, 43, 39, 56, 52, 47, 52, 45, 1]\n",
            "Happy learning\n"
          ]
        }
      ]
    },
    {
      "cell_type": "markdown",
      "source": [
        "**Enocding the entire data**"
      ],
      "metadata": {
        "id": "La8I4fgHAiXk"
      }
    },
    {
      "cell_type": "code",
      "source": [
        "import torch\n",
        "data = torch.tensor(encode(shakespeare_data), dtype=torch.long)\n",
        "print(data.shape,data.dtype)\n",
        "print(data[:1000])"
      ],
      "metadata": {
        "colab": {
          "base_uri": "https://localhost:8080/"
        },
        "id": "RMKwd-A7AQ7w",
        "outputId": "d56817ff-cabb-4241-8e1c-39b2cf42595a"
      },
      "execution_count": 5,
      "outputs": [
        {
          "output_type": "stream",
          "name": "stdout",
          "text": [
            "torch.Size([1115394]) torch.int64\n",
            "tensor([18, 47, 56, 57, 58,  1, 15, 47, 58, 47, 64, 43, 52, 10,  0, 14, 43, 44,\n",
            "        53, 56, 43,  1, 61, 43,  1, 54, 56, 53, 41, 43, 43, 42,  1, 39, 52, 63,\n",
            "         1, 44, 59, 56, 58, 46, 43, 56,  6,  1, 46, 43, 39, 56,  1, 51, 43,  1,\n",
            "        57, 54, 43, 39, 49,  8,  0,  0, 13, 50, 50, 10,  0, 31, 54, 43, 39, 49,\n",
            "         6,  1, 57, 54, 43, 39, 49,  8,  0,  0, 18, 47, 56, 57, 58,  1, 15, 47,\n",
            "        58, 47, 64, 43, 52, 10,  0, 37, 53, 59,  1, 39, 56, 43,  1, 39, 50, 50,\n",
            "         1, 56, 43, 57, 53, 50, 60, 43, 42,  1, 56, 39, 58, 46, 43, 56,  1, 58,\n",
            "        53,  1, 42, 47, 43,  1, 58, 46, 39, 52,  1, 58, 53,  1, 44, 39, 51, 47,\n",
            "        57, 46, 12,  0,  0, 13, 50, 50, 10,  0, 30, 43, 57, 53, 50, 60, 43, 42,\n",
            "         8,  1, 56, 43, 57, 53, 50, 60, 43, 42,  8,  0,  0, 18, 47, 56, 57, 58,\n",
            "         1, 15, 47, 58, 47, 64, 43, 52, 10,  0, 18, 47, 56, 57, 58,  6,  1, 63,\n",
            "        53, 59,  1, 49, 52, 53, 61,  1, 15, 39, 47, 59, 57,  1, 25, 39, 56, 41,\n",
            "        47, 59, 57,  1, 47, 57,  1, 41, 46, 47, 43, 44,  1, 43, 52, 43, 51, 63,\n",
            "         1, 58, 53,  1, 58, 46, 43,  1, 54, 43, 53, 54, 50, 43,  8,  0,  0, 13,\n",
            "        50, 50, 10,  0, 35, 43,  1, 49, 52, 53, 61,  5, 58,  6,  1, 61, 43,  1,\n",
            "        49, 52, 53, 61,  5, 58,  8,  0,  0, 18, 47, 56, 57, 58,  1, 15, 47, 58,\n",
            "        47, 64, 43, 52, 10,  0, 24, 43, 58,  1, 59, 57,  1, 49, 47, 50, 50,  1,\n",
            "        46, 47, 51,  6,  1, 39, 52, 42,  1, 61, 43,  5, 50, 50,  1, 46, 39, 60,\n",
            "        43,  1, 41, 53, 56, 52,  1, 39, 58,  1, 53, 59, 56,  1, 53, 61, 52,  1,\n",
            "        54, 56, 47, 41, 43,  8,  0, 21, 57,  5, 58,  1, 39,  1, 60, 43, 56, 42,\n",
            "        47, 41, 58, 12,  0,  0, 13, 50, 50, 10,  0, 26, 53,  1, 51, 53, 56, 43,\n",
            "         1, 58, 39, 50, 49, 47, 52, 45,  1, 53, 52,  5, 58, 11,  1, 50, 43, 58,\n",
            "         1, 47, 58,  1, 40, 43,  1, 42, 53, 52, 43, 10,  1, 39, 61, 39, 63,  6,\n",
            "         1, 39, 61, 39, 63,  2,  0,  0, 31, 43, 41, 53, 52, 42,  1, 15, 47, 58,\n",
            "        47, 64, 43, 52, 10,  0, 27, 52, 43,  1, 61, 53, 56, 42,  6,  1, 45, 53,\n",
            "        53, 42,  1, 41, 47, 58, 47, 64, 43, 52, 57,  8,  0,  0, 18, 47, 56, 57,\n",
            "        58,  1, 15, 47, 58, 47, 64, 43, 52, 10,  0, 35, 43,  1, 39, 56, 43,  1,\n",
            "        39, 41, 41, 53, 59, 52, 58, 43, 42,  1, 54, 53, 53, 56,  1, 41, 47, 58,\n",
            "        47, 64, 43, 52, 57,  6,  1, 58, 46, 43,  1, 54, 39, 58, 56, 47, 41, 47,\n",
            "        39, 52, 57,  1, 45, 53, 53, 42,  8,  0, 35, 46, 39, 58,  1, 39, 59, 58,\n",
            "        46, 53, 56, 47, 58, 63,  1, 57, 59, 56, 44, 43, 47, 58, 57,  1, 53, 52,\n",
            "         1, 61, 53, 59, 50, 42,  1, 56, 43, 50, 47, 43, 60, 43,  1, 59, 57, 10,\n",
            "         1, 47, 44,  1, 58, 46, 43, 63,  0, 61, 53, 59, 50, 42,  1, 63, 47, 43,\n",
            "        50, 42,  1, 59, 57,  1, 40, 59, 58,  1, 58, 46, 43,  1, 57, 59, 54, 43,\n",
            "        56, 44, 50, 59, 47, 58, 63,  6,  1, 61, 46, 47, 50, 43,  1, 47, 58,  1,\n",
            "        61, 43, 56, 43,  0, 61, 46, 53, 50, 43, 57, 53, 51, 43,  6,  1, 61, 43,\n",
            "         1, 51, 47, 45, 46, 58,  1, 45, 59, 43, 57, 57,  1, 58, 46, 43, 63,  1,\n",
            "        56, 43, 50, 47, 43, 60, 43, 42,  1, 59, 57,  1, 46, 59, 51, 39, 52, 43,\n",
            "        50, 63, 11,  0, 40, 59, 58,  1, 58, 46, 43, 63,  1, 58, 46, 47, 52, 49,\n",
            "         1, 61, 43,  1, 39, 56, 43,  1, 58, 53, 53,  1, 42, 43, 39, 56, 10,  1,\n",
            "        58, 46, 43,  1, 50, 43, 39, 52, 52, 43, 57, 57,  1, 58, 46, 39, 58,  0,\n",
            "        39, 44, 44, 50, 47, 41, 58, 57,  1, 59, 57,  6,  1, 58, 46, 43,  1, 53,\n",
            "        40, 48, 43, 41, 58,  1, 53, 44,  1, 53, 59, 56,  1, 51, 47, 57, 43, 56,\n",
            "        63,  6,  1, 47, 57,  1, 39, 57,  1, 39, 52,  0, 47, 52, 60, 43, 52, 58,\n",
            "        53, 56, 63,  1, 58, 53,  1, 54, 39, 56, 58, 47, 41, 59, 50, 39, 56, 47,\n",
            "        57, 43,  1, 58, 46, 43, 47, 56,  1, 39, 40, 59, 52, 42, 39, 52, 41, 43,\n",
            "        11,  1, 53, 59, 56,  0, 57, 59, 44, 44, 43, 56, 39, 52, 41, 43,  1, 47,\n",
            "        57,  1, 39,  1, 45, 39, 47, 52,  1, 58, 53,  1, 58, 46, 43, 51,  1, 24,\n",
            "        43, 58,  1, 59, 57,  1, 56, 43, 60, 43, 52, 45, 43,  1, 58, 46, 47, 57,\n",
            "         1, 61, 47, 58, 46,  0, 53, 59, 56,  1, 54, 47, 49, 43, 57,  6,  1, 43,\n",
            "        56, 43,  1, 61, 43,  1, 40, 43, 41, 53, 51, 43,  1, 56, 39, 49, 43, 57,\n",
            "        10,  1, 44, 53, 56,  1, 58, 46, 43,  1, 45, 53, 42, 57,  1, 49, 52, 53,\n",
            "        61,  1, 21,  0, 57, 54, 43, 39, 49,  1, 58, 46, 47, 57,  1, 47, 52,  1,\n",
            "        46, 59, 52, 45, 43, 56,  1, 44, 53, 56,  1, 40, 56, 43, 39, 42,  6,  1,\n",
            "        52, 53, 58,  1, 47, 52,  1, 58, 46, 47, 56, 57, 58,  1, 44, 53, 56,  1,\n",
            "        56, 43, 60, 43, 52, 45, 43,  8,  0,  0])\n"
          ]
        }
      ]
    },
    {
      "cell_type": "markdown",
      "source": [
        "Splitting the data into the train and test split.\n",
        "\n",
        "90% for trainig data and 10% for testing data"
      ],
      "metadata": {
        "id": "AR7qmApVCIDb"
      }
    },
    {
      "cell_type": "code",
      "source": [
        "n = int(0.9*len(data))\n",
        "train_data = data[:n]\n",
        "val_data = data[n:]"
      ],
      "metadata": {
        "id": "kd5M-JivBU8T"
      },
      "execution_count": 6,
      "outputs": []
    },
    {
      "cell_type": "code",
      "source": [
        "block_size = 8\n",
        "train_data[:block_size+1]"
      ],
      "metadata": {
        "colab": {
          "base_uri": "https://localhost:8080/"
        },
        "id": "WIcOR8uLCHDf",
        "outputId": "72fea6c4-25eb-4b04-8e2a-a90f710eb8ff"
      },
      "execution_count": 7,
      "outputs": [
        {
          "output_type": "execute_result",
          "data": {
            "text/plain": [
              "tensor([18, 47, 56, 57, 58,  1, 15, 47, 58])"
            ]
          },
          "metadata": {},
          "execution_count": 7
        }
      ]
    },
    {
      "cell_type": "code",
      "source": [
        "x =train_data[:block_size]\n",
        "y = train_data[1:block_size+1]\n",
        "for t in range(block_size):\n",
        "  context = x[:t+1]\n",
        "  target = y[t]\n",
        "  print(f\"when input is{context} the target: {target}\")"
      ],
      "metadata": {
        "colab": {
          "base_uri": "https://localhost:8080/"
        },
        "id": "WL1cZak2DqYG",
        "outputId": "66e4ad26-0cac-4468-c2f6-7c66f6b3e58b"
      },
      "execution_count": 8,
      "outputs": [
        {
          "output_type": "stream",
          "name": "stdout",
          "text": [
            "when input istensor([18]) the target: 47\n",
            "when input istensor([18, 47]) the target: 56\n",
            "when input istensor([18, 47, 56]) the target: 57\n",
            "when input istensor([18, 47, 56, 57]) the target: 58\n",
            "when input istensor([18, 47, 56, 57, 58]) the target: 1\n",
            "when input istensor([18, 47, 56, 57, 58,  1]) the target: 15\n",
            "when input istensor([18, 47, 56, 57, 58,  1, 15]) the target: 47\n",
            "when input istensor([18, 47, 56, 57, 58,  1, 15, 47]) the target: 58\n"
          ]
        }
      ]
    },
    {
      "cell_type": "code",
      "source": [
        "torch.manual_seed(1337)\n",
        "batch_size = 4\n",
        "block_size = 8\n",
        "\n",
        "def get_batch(split):\n",
        "  data = train_data if split == 'train' else val_data\n",
        "  ix = torch.randint(len(data) - block_size, (batch_size,))\n",
        "  x = torch.stack([data[i:i+block_size] for i in ix])\n",
        "  y = torch.stack([data[i+1:i+block_size+1] for i in ix])\n",
        "  return x,y\n",
        "\n",
        "\n",
        "xb,yb = get_batch('train')\n",
        "print('inputs:')\n",
        "print(xb.shape)\n",
        "print(xb)\n",
        "print('targets:')\n",
        "print(yb.shape)\n",
        "print(yb)\n",
        "\n",
        "print('----')\n",
        "\n",
        "for b in range(batch_size):\n",
        "  for t in range(block_size):\n",
        "    context = xb[b,:t+1]\n",
        "    target = yb[b,t]\n",
        "    print(f\"when input is{context.tolist()} the target: {target}\")"
      ],
      "metadata": {
        "colab": {
          "base_uri": "https://localhost:8080/"
        },
        "id": "9MUaqkGnNODI",
        "outputId": "6291ecc1-18d6-411a-d9ca-027dacf61bb2"
      },
      "execution_count": 9,
      "outputs": [
        {
          "output_type": "stream",
          "name": "stdout",
          "text": [
            "inputs:\n",
            "torch.Size([4, 8])\n",
            "tensor([[24, 43, 58,  5, 57,  1, 46, 43],\n",
            "        [44, 53, 56,  1, 58, 46, 39, 58],\n",
            "        [52, 58,  1, 58, 46, 39, 58,  1],\n",
            "        [25, 17, 27, 10,  0, 21,  1, 54]])\n",
            "targets:\n",
            "torch.Size([4, 8])\n",
            "tensor([[43, 58,  5, 57,  1, 46, 43, 39],\n",
            "        [53, 56,  1, 58, 46, 39, 58,  1],\n",
            "        [58,  1, 58, 46, 39, 58,  1, 46],\n",
            "        [17, 27, 10,  0, 21,  1, 54, 39]])\n",
            "----\n",
            "when input is[24] the target: 43\n",
            "when input is[24, 43] the target: 58\n",
            "when input is[24, 43, 58] the target: 5\n",
            "when input is[24, 43, 58, 5] the target: 57\n",
            "when input is[24, 43, 58, 5, 57] the target: 1\n",
            "when input is[24, 43, 58, 5, 57, 1] the target: 46\n",
            "when input is[24, 43, 58, 5, 57, 1, 46] the target: 43\n",
            "when input is[24, 43, 58, 5, 57, 1, 46, 43] the target: 39\n",
            "when input is[44] the target: 53\n",
            "when input is[44, 53] the target: 56\n",
            "when input is[44, 53, 56] the target: 1\n",
            "when input is[44, 53, 56, 1] the target: 58\n",
            "when input is[44, 53, 56, 1, 58] the target: 46\n",
            "when input is[44, 53, 56, 1, 58, 46] the target: 39\n",
            "when input is[44, 53, 56, 1, 58, 46, 39] the target: 58\n",
            "when input is[44, 53, 56, 1, 58, 46, 39, 58] the target: 1\n",
            "when input is[52] the target: 58\n",
            "when input is[52, 58] the target: 1\n",
            "when input is[52, 58, 1] the target: 58\n",
            "when input is[52, 58, 1, 58] the target: 46\n",
            "when input is[52, 58, 1, 58, 46] the target: 39\n",
            "when input is[52, 58, 1, 58, 46, 39] the target: 58\n",
            "when input is[52, 58, 1, 58, 46, 39, 58] the target: 1\n",
            "when input is[52, 58, 1, 58, 46, 39, 58, 1] the target: 46\n",
            "when input is[25] the target: 17\n",
            "when input is[25, 17] the target: 27\n",
            "when input is[25, 17, 27] the target: 10\n",
            "when input is[25, 17, 27, 10] the target: 0\n",
            "when input is[25, 17, 27, 10, 0] the target: 21\n",
            "when input is[25, 17, 27, 10, 0, 21] the target: 1\n",
            "when input is[25, 17, 27, 10, 0, 21, 1] the target: 54\n",
            "when input is[25, 17, 27, 10, 0, 21, 1, 54] the target: 39\n"
          ]
        }
      ]
    },
    {
      "cell_type": "code",
      "source": [
        "import torch\n",
        "import torch.nn as nn\n",
        "from torch.nn import functional as F\n",
        "torch.manual_seed(1337)\n",
        "\n",
        "class BigramLanguageModel(nn.Module):\n",
        "\n",
        "    def __init__(self, vocab_size):\n",
        "        super().__init__()\n",
        "        # Each token directly reads off the logits for the next token from a lookup\n",
        "        self.token_embedding_table = nn.Embedding(vocab_size, vocab_size)\n",
        "\n",
        "    def forward(self, idx, targets=None):\n",
        "        logits = self.token_embedding_table(idx)  # (B, T, C)(Batch Size,sequence length,vocabulary size)\n",
        "\n",
        "        if targets is None:\n",
        "            loss = None\n",
        "        else:\n",
        "            B, T, C = logits.shape\n",
        "            # Flatten targets and logits for cross-entropy loss computation\n",
        "            logits = logits.view(B * T, C)\n",
        "            targets = targets.view(B * T)\n",
        "            # Compute the loss\n",
        "            loss = F.cross_entropy(logits, targets)\n",
        "\n",
        "        return logits, loss\n",
        "\n",
        "    def generate(self, idx, max_new_tokens):\n",
        "        for _ in range(max_new_tokens):\n",
        "            logits, _ = self(idx)\n",
        "            logits = logits[:, -1, :]  # Focus on the last time step\n",
        "            probs = F.softmax(logits, dim=-1)  # Convert logits to probabilities\n",
        "            idx_next = torch.multinomial(probs, num_samples=1)  # Sample from the distribution\n",
        "            idx = torch.cat((idx, idx_next), dim=1)  # Append the sampled token to the sequence\n",
        "        return idx\n",
        "\n",
        "\n",
        "\n",
        "\n",
        "m = BigramLanguageModel(vocab_size)\n",
        "logits, loss = m(xb, yb)\n",
        "print(logits.shape)  # Should be (B*T, C)\n",
        "print(loss)  # Cross-entropy loss if targets are provided\n",
        "\n",
        "\n",
        "idx = torch.zeros((1,1),dtype=torch.long)\n",
        "print(decode(m.generate(idx= torch.zeros((1,1),dtype =torch.long),max_new_tokens=100)[0].tolist()))\n"
      ],
      "metadata": {
        "colab": {
          "base_uri": "https://localhost:8080/"
        },
        "id": "B3OWeeED-f1P",
        "outputId": "b69e3266-295a-40e1-db62-e583062398fd"
      },
      "execution_count": 14,
      "outputs": [
        {
          "output_type": "stream",
          "name": "stdout",
          "text": [
            "torch.Size([32, 65])\n",
            "tensor(4.8786, grad_fn=<NllLossBackward0>)\n",
            "\n",
            "Sr?qP-QWktXoL&jLDJgOLVz'RIoDqHdhsV&vLLxatjscMpwLERSPyao.qfzs$Ys$zF-w,;eEkzxjgCKFChs!iWW.ObzDnxA Ms$3\n"
          ]
        }
      ]
    },
    {
      "cell_type": "markdown",
      "source": [
        "Using the Adam optimizer"
      ],
      "metadata": {
        "id": "NSorwedb940Y"
      }
    },
    {
      "cell_type": "code",
      "source": [
        "optimizer = torch.optim.AdamW(m.parameters(),lr=1e-3)"
      ],
      "metadata": {
        "id": "n7h5anxZNTaX"
      },
      "execution_count": 16,
      "outputs": []
    },
    {
      "cell_type": "code",
      "source": [
        "batch_size = 32\n",
        "for steps in range(10000):\n",
        "\n",
        "  #sample a batch of data\n",
        "\n",
        "  xb,yb = get_batch('train')\n",
        "\n",
        "  #evaluate the loss\n",
        "  logits,loss = m(xb,yb)\n",
        "  optimizer.zero_grad(set_to_none=True)\n",
        "  loss.backward()\n",
        "  optimizer.step()\n",
        "\n",
        "print(loss.item())"
      ],
      "metadata": {
        "colab": {
          "base_uri": "https://localhost:8080/"
        },
        "id": "1G7pjwAB-WVm",
        "outputId": "33a17500-9f31-4915-e72d-660aa7e1fa48"
      },
      "execution_count": 17,
      "outputs": [
        {
          "output_type": "stream",
          "name": "stdout",
          "text": [
            "2.4183878898620605\n"
          ]
        }
      ]
    },
    {
      "cell_type": "code",
      "source": [
        "\n",
        "print(decode(m.generate(idx= torch.zeros((1,1),dtype =torch.long),max_new_tokens=500)[0].tolist()))\n"
      ],
      "metadata": {
        "colab": {
          "base_uri": "https://localhost:8080/"
        },
        "id": "wo7_bNq3AiU_",
        "outputId": "f54f7370-6415-4f1c-ff3d-77f47150ab1c"
      },
      "execution_count": 19,
      "outputs": [
        {
          "output_type": "stream",
          "name": "stdout",
          "text": [
            "\n",
            "Wher vouprrouthercc.\n",
            "hathe; d!\n",
            "My hind tt hinig t ouchos tes; st yo hind wotte grotonear 'so it t jod weancotha:\n",
            "h hay.JUCle n prids, r loncave w hollular s O:\n",
            "HIs; ht anjx?\n",
            "\n",
            "DUThinqunt.\n",
            "\n",
            "LaZAnde.\n",
            "athave l.\n",
            "KEONH:\n",
            "ARThanco be y,-hedarwnoddy scace, tridesar, wnl'shenous s ls, theresseys\n",
            "PlorseelapinghiybHen yof GLUCEN t l-t E:\n",
            "I hisgothers je are!-e!\n",
            "QLYotouciullle'z,\n",
            "Thitertho s?\n",
            "NDan'spererfo cist ripl chys er orlese;\n",
            "Yo jehof h hecere ek? wferommot mowo soaf yoit, ince his, t, f at. fal whetri\n"
          ]
        }
      ]
    },
    {
      "cell_type": "code",
      "source": [
        "#self attention\n",
        "\n",
        "torch.manual_seed(1337)\n",
        "B,T,C = 4,8,2\n",
        "x = torch.randn(B,T,C)\n",
        "x.shape\n"
      ],
      "metadata": {
        "colab": {
          "base_uri": "https://localhost:8080/"
        },
        "id": "WNdQR3BIA7a3",
        "outputId": "9c503134-3a13-4fcc-c03d-c3a7cb15f3f7"
      },
      "execution_count": 20,
      "outputs": [
        {
          "output_type": "execute_result",
          "data": {
            "text/plain": [
              "torch.Size([4, 8, 2])"
            ]
          },
          "metadata": {},
          "execution_count": 20
        }
      ]
    },
    {
      "cell_type": "markdown",
      "source": [
        "**Scaled Dot product Attention**"
      ],
      "metadata": {
        "id": "N48KmiSDJXW4"
      }
    },
    {
      "cell_type": "markdown",
      "source": [
        "![image.png](data:image/png;base64,iVBORw0KGgoAAAANSUhEUgAAAgUAAAB/CAYAAAB/urGDAAAAAXNSR0IArs4c6QAAAARnQU1BAACxjwv8YQUAAAAJcEhZcwAAFiUAABYlAUlSJPAAADqeSURBVHhe7d0HWFNXGwfwPyNkkIS9l4gg4AAVAXGPumtrraN2b7vX1733stpaW7W21dZad927TtwoooIKsmTvBDJJgPOdxKCIgGhRW31/ffIUw+Hm5t4z3nPuuedaMQ6EEEIIueVZW/5PCCGEkFscBQWEEEIIMaOggBBCCCFmFBQQQgghxIyCAkIIIYSYUVBACCGEEDMKCgghhBBiRkEBIYQQQswoKCCEEEKIGQUFhBBCCDGjoIAQQgghZhQUEEIIIcSMggJCCCGEmFFQQAghhBAzCgoIIYQQYkZBASGEEELMKCgghBBCiBkFBYQQQggxo6CAEEIIIWYUFBBCCCHEjIICQgghhJhRUEAIIYQQMwoKCCGEEGJGQQEhhBBCzCgoIIQQQogZBQWEEEIIMaOggBBCCCFmFBQQQgghxIyCAkIIIYSYUVBACCGEEDMKCgghhBBiRkEBIYQQQswoKCCEEEKIGQUFhBBCCDGjoIAQQgghZhQUEEIIIcSMggJCCCGEmFFQQAghhBAzCgoIIYQQYkZBASGEEELMKCgghBBCiBkFBYQQQggxo6CAEEIIIWYUFBBCCCHEjIICQgghhJhRUEAIIYQQMyvGWX4mhBBCblJGJC96Gm8sKYDUMwLdugbCtTYP+1f8jaSa9hhyRyw6uNpDnXcQe7ccgWziF3j/3j4IcLKz/P2tgUYKCCGE3Pw0J7BrmQwDJr2ON157Bg+OH4s7+geDleTCEBKNkSNvx5233457HnsTjw6thousDuwWbCIpKCCEEHLT05zYhfSBw3Bb3x7oEugDTzdX2FaexSmjHqFduiDAxweuri7w8PKHj5cHvD2dYCewsfz1rYOCAkIIIddHrREajRoqlYq/9KitvV5Xr43IOFWHuLgQ+LpKYGN17r2zJ7dAoe2J7mF+kNtfCAAE9kMQ7O8KsdCc8JZCcwoIIYRcU8oze7BlxUoc1IcgJq4jvGV20OfuxaYNOXDsOx73jouGv6MITffL87H9ux+x7nQRKmssb9UT9cEjr41FlJ8jhOY3mkhrF4LRTz+EPu62EMvlENsJLEFBKv68+y68kTsa0+a9gtFh7hBZYoDqygoYxTKIBfVpbx0UFBBCCLk2NFnYNOsTzDnuimH3TkR/3iP3dBRDwFtaZlCj8sw2zPxoJo4HPoa33xyPaG8ZBJY/vcAAVUkplLpsbHjvGUzdlI6wJ3/CG+Oj4e3gCFdPJ9jb2eBc222EKmszpk38HAfb98XYB+5Cn45+8PJ2hUzUqIEv2oiXRz6DHTHvYN57ExDhJbVs49ZGlw8IIYS0vdI9mP3Sw/jssCfGPvEwxvbtio5+bnCSSyG1t4fMyQO+3cfgyftjkb/9K3yzOAEFCqPljxuyg8zdB36uttCmaaEq64yuXbsjJDgI7fxdIT0fEHD6EiSsOwDx4+/g449exMSB3dGxvRccxZf2+JWnD+KAqgrhnUPhYi+hgMCCggJCCCFtiwcEM156Dd8cC8CYR+/DiKhguEtsYd245bWVIqDPIAyw0uPA7LWIz6mAppmxa+OZJKxRqFHu3w0dgh0uud5vzN+OWTM2w9BtEiaPH4iIDh6Qi5v4TDMjzqZuh0ITg67BnpCKqSmsR0eCEEJIGyrB9lkf4Jet5eg2/mGM6dEBLqIGvflGrD19EGonBMtcjcTUMqj1ll80knsmASU6FWriItDRRQpxgw2WHFqA79ZUocvwIYiLCoW3gwi2TUcDFplI4funCe6OIH85eOxALCgoIIQQ0mZKdszGp8uScCr4DkwYHg5/R0HLDY2NDeysrGBdm4PyCjVqapoaKihB6qFj0FVpMaxLEDztRee2WVuCg799g+UFHTBsxABEhftCJmpudKCBokwcztTBpXMQOjiIcQveZNAsCgoIIYS0DWMyNs9ehdQMBQYPH4hIb0cIW9HKGPirDrWwsbUBeIBwCU02UvdWQlvVEz1D/CEzde1LD2LB+09jTXUn9O0ZgTB/B4hsrVuYG6BB2s7VWPr7D/j0w6lYfbYIxekHsWHJQvy2+RTKVaa9IBQUEEIIaRPGk3sxL5k3tvqhGNAzBC4yweUn8BXlIdVQDR14AGEnaLKXbzxzFKsrzs0nCAqSoy51JT598z189PMWzN6dAVVdDawuOzwghn+P/rht1Hg88tZP2LDnMLbPfgePTr4Lt/cKhIPk0vsebkUUFBBCCGkTuSmbUVylQE1sT3QKdIS97WVDAmiy03BQr4MKAxAa4AiJyPKLBs7PJ4jxgmbrbCxJc8SoSWMQ5yCHYc16xKeUo+qyHX1riGSOcHJxh5dfEDqGhSM00Ace7q5wkYtge6stSNAMCgoIIYS0ASWyTmdDr60GwvzhIRVCcNl2VoNTB1eiXFUO+dh+6B7ggAYLC1qUIPv4MejVWuD4KZQFDMew/tHo1Ocu3DXaGS42u/BXfBLKKpuZoUiuCAUFhBBC2kAtjNU1qGMMMQHecBTaXf7SQfkRbFiej4ry9hg7sj8CXeS45EYATTZO7KiEpjIKz738LCYP7oEgNykEIg/0Gz0R7VwkSJmzCtvSylFVa/kbctUoKCCEENImBHa8UeGRgL1peeDLXuMHsnYtxrqcEriPfwYPDQyCh30TTdLZZKwp16Dcrzu692wPbyc7y0JE1nCMHY67uzhDplmFNXtPovzy1xDIZVBQQAghpA04on1YJEQSe6SWKKAz1D98wAhl9gkkHUlBvkqP83ccZq/Fj99uQ2nwo3j95TvRLUAGQRMtUvap/SjWVkHaNwLhjdYnsBJ3xuiJg+DiBuxasQtHS6tAFxH+GQoKyK1NkYtijfFCRUWumKawGCpjDeos/ya3AGU+StTVMF500m3g238ixgS4wrDvGFIrNbyBLsGeWV9jdZoeYocqbP1pC04XKmHUpOGvGV9hd10MnnvtCYzo4gOpbVPNUQkyk5KgU2sR1ykI7vXrE5wnhN/Qcbgn0BWSlMXYeTAPlc0tidhGjKX5UOirb9o6g4KCG8yQsR2r47N4JqsFtUvXl+H0Erw/6wDytdVglx/pNDNoNFCbH/uqgp7XiHTOeFNQvg1Tp2/B8VINGj/E7pag10BjeRRwXd3NnyOMaX/hs5/2IUupA2vUggg8B+L+KaPRvmwTVm5JQdnRLdgojEFEWEcEBkSgo2gnjh/ZiG/feBILlb3w9Mdv4b4+wXAVNrPioeoMEncooa6MQvcO/pA2sfSgjVNv9B3uAAdJNv5YtQsnyqvM6x5cK7Y1aVj05ULEp5VCexNGwvSUxBtKjYNTB+OJeYPxybrXMbSdw82/spauCKdS8wGPzghyF8Ku6WelXnt5W/D+F8cQet8EjOjhBwdBC4ueKE5j54blWJXI0LlPHELcJRDocrFr7Rrkew7B5Ml3o4efFHb/MMQ2JC3ABwsPoPiSWdR2CL3jVTw2qB2cLGu0G5L+wIcL96OoQVpp7yl4+65IuMsuf7917rZvMHN9GsrUFzfjdj3uw5uTesHPQXTheOiP449Pf8f+YsWFoVm7KNz32j3oZXpkbXUFktZ8h/mKgXhpQiwCnBr87U1NgxPLvsGMAzKMviMApz//E1kDp+C1x/si0El4cx6D/O34bNpR+N9xB4bHBMKlicbcqC5G6vaFmP3LZhhkYhREPIWvJvWAF/KxeeZDmJvdGbED78a4wdEI8XeHvZUeNdamWwL5tiwby970DeZuTUVR9kns2HYUOZVOiBjZG2FeoRjz3FMY3skTclN8ULQHc2YtxepFvJHOqoBa5IGo/v3QfdTTeH1iLAKdr0FerFEjf+8ifBvviHEPDUV3XwdeQi+Wv3MmZm9IRoHy4gc82UVOxMsT+qCDa4MHMOlTsHTqH4jPKYHW8hYE3TDhxUno28EVkuudkUxBAblBVPvZF108mNzaib24IoMp9XWWX7RAq2LVxlrWYsrWpLlmqplarWe1tU1/+sn541lcZAcWFPsl255XyVPfANXpbPEz97A35h9mOZXGFo6TmqWv+ZjdN+o+9tYv29mx1BxWqqhiKpWaqSsrWMHZfey3/w1hUSNfZguPlDGN0fJnV6lOU8Zyc7JZ6vLXWacgL2bfdQr7efdRdjormxUq9Kym1pKQM6Xd/+ME1jF2NHvu22Vsz4lUllWqZoaa1p316spClns2mS18qRNr72XP7Cd9ydYcTmGZJVWsuuEHmdRqWFneMfbb8+Gs+20Ps6lr9rOU9CJWWV3D6lMaqpLYwlfHsM9WnmClmkZ/f5Mq2vIhG9ztIfbhymMsd88PLC7Ih0lHTmN/n1Xy82Bgam0dLweWxDcDQyZb8cpD7K2f97L0CsP5c9+UWp2CFWadZCl7NrJVm9awZSs3sh3bd7Pf3wpht3/yOzuUVcmM5jrCwE78/gVbnZTDFA0qA72S58+cLJaVnspSUpLZiRMnWWp6BsvMymPlGgM7n80NKlaSd5adOZnCkk+c4OlOsNNn0ll2cRXT8zrwWqnTFbOdM55gU+ZsYullOsu7F1RXFbO8nBS25I2eLNyPl69xH7HF+46zjGIl0zXer1otK88/wf58NYrFDruPfbZ8Nzt+ppApdcYWj/G1QkHBDaTa/RHr4i43jcAxp6eWsFMK3WUzwckFQ9i8g3msqoXWtDVprpnSbeyD99eytDINq7G81VD+mudYtIeUdZ44lyWVNJ3mWiva8AaLeuJbtiNTwQzNtaE1RWzH9HtZbOwE9v7iBHamVMcb5caJDawqdQF7KrgDCx7/I9tXpGL/MC4wO7PwHtbOQ8zw4K/sWLGmyaBFfXQBe++DGezPXSksp7z1wcDFatnh70JZgCsYnvyDJfPz0SxdMvvxvmfYjxuPsTwVbxAu+TgDK9/5BZs0/FO2OqWMaW9EbXZdZbI/x0Uy7+GfsfXpFaxaU8gSNq1km4/ksApdDas7vZTdOX8fS22iwfivKt7yPuv31Dds/akSpm/V+eVBUbWOaTRVTKGo5MF0Htv0bmcWfs/nbHNmBc8xfJu7vmUTH/uKrTtdzHgM9R9Sx3RnFrMX+z/D5mzKZBVN1rW17OjsnizMm5evh35i+3Ormu+A6E6yXx5/if2w6hDLrqy+EPTcADSn4IZRI3F7IgZPuB2+MikqF+3EsSI9DC1eo1KjNCMNpSojmr902Zo011B5Do4VKqCtafqLuA98G4t2HsSqaXcj1FmE6371wHAM63/chZjovgh1kzWzuEoxdn77DF757gzC730eDwyNQHsXvq+X3GIlgCyoP24bVAvVrhlYvbcQKv0/PejFOLX/GKo1eoyK7Ag3ceN7vTU4vvBr/Jrhi/H3T8KY2FD4OttDcFWrsVnD2z8OAjt7oKAUlcYaNH2btwGZa35F8YB7MKxnKLzsm1qKVgCnmMGIEyzDmt0noWh0WeLmo4I6Q4XaAG9+POwgkHig24DhGNjVB44iG2hLs3CmVAl97U1y0dn0TIO5uxHRJQbhnk6tvFRmBWs7ESQSGRwd5ZBKZZCIrFG9dzreee4JPDJuGEY8vhLSHn3QiW9TdDVZ+IaxgqjdAAyLS8Rf++NxtkLTxPwia3j5RkMokgNF5VAZjM2ULyOyN/6BwpjRGBjbhbcH9bdc3hgUFNwolYnYmRiFoY9PwP3tJJBWLcLWw0XQtRQVVCVi91/V0Kst/25Ka9JcQxmHt+KEXotqy78bs5V6oH1oOIJMD0qxuf7ZT5OwEbOPd0FkpDdk4qZDkuJNM/DWTzug6f0gnhjT9dxT3porpDZe8Au1haAmHcuPpKNSd/E1xCumycSpeBWqtb0Q29EHEmGDiVX8dyu//AFJHoMxsn80Qtu5wp7Xzv+k/nD3CoWtrQjYkY8CHkg2ufdZ6zHrSBgG9A+Dj5Nds8fCStQFvYd648CGvUhS8O9gef/mxJsAUw1va2MOFk3/2QhFEJgfyKPBsX1roFUrzyW9CWgSt+CX48Ho2MkXTjLbq8xzUgSFx0EEHZK2rcdfG5IgHfYIpozozBvCVjwj4d/G1g09+g9E2bpjOJShgLqJFt/VM4QH3RJgTwEKFdVNl4mzm/FrYiCiYjshwFV4QwMCEwoKbhBFwjokRvdAuH8/3D65E8RSDZZvT0CxtrrpW7tqi7Djh8/x+1me+ZqLG1qTpgGDugjpR4/gVE45NLxHc2mka4BarYZKW2cZdTBAo+H/Ns28r7s0vSZlMaZO3c0zv76JbV1wbgZ/8zO1DRoFck4m4kRGIdTVzd+V0Xg79XcGNH9XgAbJe5eisG9XhHtLeVBiebuhgi2Y8cFSpGSGY/ykYQjxkKLl5dttYWPHE1jV4GyZ6Tj+s7tIDKcPY7lCi8p2UQjpIIWdZc6g5sxKfPXjfjgMHothvDdhWsWt5efFt46NzBlBpkfXqouhUNXg0o5tMbbO3YMOg/qhk4/jZXqIQnTqOQjy1ESczlTz82B5+1/AqFEi99RRHElIQTavnI2qYuSVamFo4r6y+rQnMgpQpePn8wpPaMmuOfhmYRqKFC2NlhjPlSUNL1vmY275d1Nlq/7uBn19OWyaUVOCzOOJOH6mwDyBtO1GCjU4tX8lCqJDEOLnAMlVD+9Zw2PI+5g/9xf8Onsm5ixZhtmv34GuvryM/SdbImu4hEcjxrANqadMeeXSA25j74RAGwHE6lIoedBdc0ngUIIdv++Db0w0uvAgX3yjIwKOgoIbQoHDW08jKioUDmIHRA4ehU4SCbR/7URCoR7VjSpmdeIifPjWu5ixcj/yeE90w5zX8ezTj+LRJ/jr14Mo0xgvk+YAryQa1NDFezH3fxPxyq+HUSl3h+DsX3jt7pfw/d9noTKPVGRg7Vsv815yL/SN45l+xjak7foN075dim2HEnF4/VRMmvQ8fthZwNObCkIudkx9H69/MQfb08tQfexPfPW/Z/CE6bOf+Bwb0kzDqHyra97EK4+PRq8+vRAdMwN/56suvnWI79fPrz6ATxceRoXEHQ61GVj50cN4ffYOZFfVB0sKJMx9HS/dMxS9esci+n9LsP/YKsye9gvWxScgafdCvDx+Mt5ekoQKbeNKORtHl5XD29cLXiLbS5dT5XtzbMP3+CsjF+qhd2JopDtkpgb/ciwfU2Nzbpv/pFjnpB1AabUWtX27IdRBDJGVBplrP8WTn2ch+LY+6NG1PdylgrbrTTh7oQOvtIT82JQrDZdUWsU7fsI6r9vQP9IPLqLLj0oI/cPQgyUh5VQetKaTfsMV48i8rzBnTSLKRK7w4o2aJvF3vP3gHfh07QmUaRvsY8kBzH/rEXy6YD9K7Fwhr8vGui8ex5uztiCdB7rn8p+Sb+8d/O/ZT/BbfimqNv2AD16aYi5nczdsxC8fvY33v1uC3Vm8cd/2Gz545elzZfCJuYjPU/KeYhY2fvQGnr6zN/r15mVr2nok7fwDM79fgi37j+Dwxu/w4P3P49vNWVAoMrHp++n4fdMeJBzZxsvGBDzz0TIcKdFcPKKjz8KmaV/it02nUCVzg1hzCL8/fz9e/YGX2/P7DWRt/BBvvjAOw2J6oFuXLujSdzheXXwUxTyAyFr3Ih4YfOH9e95ZgePFakvWzsWxVaVwc/WAt8SuiXLTejZST3TrPxp33T0Rdw2LQ0dvOez+BQ3h1bL2CkIXDwP2p2WjQtPEsknOnggU2EGEHJRX6mFsVCWVxM/HJuc4xES0hwePtv4VR8Iyt4BcT6Vb2CujP2YbsxTMfMOB/hCbOtCTOQgc2CO/n2IVjWZp1WrKWH5uNlv3gS9zl4M9PieeHUvNYllZ/FWqNs/ibTmNyjLTlyvazr64sxsb8sxstvdMCdMYjKxaXcoOzn6MdYl4jP10oJSpjXqmyM1hWfEz2SQvZybuM5Q9+NEKdjStgFVUqVhV+RE2c0Iw6xjzKdtovoOgmlUV5rGzCXPZfd4uTDLwXbYqIZmlmz47q4ApdTXmiWl6RS7LyVrNXvP3YHK8zJalV7Dz07CKdrAvxw5mj3yxnB3PrmBavl/GajUry9zCvp4czUZ/tpplKXSsjhmZuiSXnU1fxV4P8GTyiIHsjmdnsb9TslmJsoqplHls9ZshLKTjfeyXBP79Gs5kLN3IXmrvxe7+ZjcrqGpiSmD1UTYjuh1ztrFio6ftYflNpblEEVv9VHvmKQVzeukvll6ut7x/NYrYmmfDmZfUio2avpcVFGexzTOfY3eGeTG5LI59tOniGdptouYwmxEawFwhYS8vPc0umhdXto99/vTXbHlKAVO3duaTaXth7Vjgy0vZ6VZMslPnHmdHjxxgBw5exetoFs9bhuYnb3FFf7/HBr43n+1ILTbn9ZoaI9NXlbBdX49gj/66j51VWM5x8W42bRJ/79M/2ZGMMqatPpf/yrO2sekP9WZjPl7GUktNkz5rmKaU5+PsDeyzjvy49X2N/bkniZ3heb1EqWQl+TxvbvqchQa4Mdw/nW1MOHmuDGaVsCrz3Rp6puRpsvfOZg/yvCiNHczueX8RO5iSy8orq1hVxVE258EI1jn2EfbMa1PZmkMpLLe8klVVKVjGitdZty7h7On5CaxQVV9HGNjxBfeykeMms09Wp/D3Daxap2S5m79iE6K6s/u/3clyFKYpfaYZ/fks9+wZtnvO46yHt5zZ3v4BW3+ymFXzwqlXbGVfd+nGhj04jS3fe4yl5VXw42W5g6lsK3uzcyC7+7ONLLPi3LZIvWK29sUI1mHyF2xrZsWlE41rjrLZPcOYN8TsmfmHWYHa8r5J+UE2/aVpbPGRbKY0trJ8XQc0UnADFB1ch/wB/RHuLIG5Iyrsin6jwyGWaLFiw17kNrqEYC1x4b3bAHg528J0GV7u5ouAgHZo146/XO3Nw8gtpzENz5k+SI2989/Cr/HWiB56G8L9eFMgsIWdvSu63TYAXcu3YtbGw1BqreDo64d2QX5wtLWB9WE39BwSjQ6BnnCSSSFz7oIekTWoSj+EjAIe/dbaQebpA39f3rPm6a3EzvD0Czj32e284CDi2+AfL3T0hV87P/jxz7y4t1GEzd++iZ+PBaH3yN4I8nOE2JTGzh4u7fphwu3dcfq3LzB7ewEq9Taw59/NP8j/3HZOaxHen+97ez+4OsggdfBGl4hY6BVbkJqnQnXDyLwoDzuNRnh5ucGO7+clso9ifZEa6tpe6NXFH1JRK/pEpjkAew3gnXsMCeF/Uz/efzUazCfoLDqJn2b+DaueD2HS7Z6wt07Cgq0HUaJu+dLMFbNxhV8vUx7QIq2gHNXG+p6zAvt/XQT0H4wYfzdIWtubs2yvWq1EVStWObThfVG9VguNRnPlL15OeHtm2VLTSrM2ISe9CDUiOwh4frGxsYWQ96Zj4vrB3l5qSVWMv394F78c8ULUbb0RHOAMsd25/Occ0Bt3j4pCxpLpmPP3WZRprSFx5fk4wBuuPI0Nz+sevNyZ8rqbgwPcvHne9HKBnYDnLzkvk/715cANMjteDiCEA08TwPOrs1AAmyQXdO8TheBgbzjLZZA5dUL3rgy6s8uQJglBSGB7eDvLIZM5ol1gO9TqyrE+OQc8GLLsuxpl6SeQdmA9Dp0pgGllYTuRA3z69UUPQyV2rzuAVOW5kQUhLxu+/h0QO/k9fPL0IPiejMfO5ApUVgOVyUeQdfuzeP1/kzEyujM6+DjxusEyMlSSj3hjNVw9XCHix5A0xM9xewFsS0pQxs/JJVfMbFzgGy2ASK5DemEFtOcrJCUO/bEMxp6x6Nnei9ebrSxf1wEFBdddERI2FSO2ZyAcRfWTa4To2m8kwsUSaNdvxqEcrXm4vc2VHcSaP7JQqIhG51AniBoMjQt4ZdHN1oDc45korrbMkq3/dc8u6BrgANH5jCuAUGoFqzoeEBhNt7Va3m6lSzJd5i4sXJWBvHYdEMKDHLuG18qthPAN74r2mgzMXxePPLXufENjSmVV3Q2dOrlBKqwf2raCvUTKgxAtjKY7IBruW42RV6EMtqbApX6VlAYUWcnI4pWfEZFo5yNBa+o/zfF9WF6hRZXDRAzs6QN7y+JCVyXrOFYodaisy8WRM3YYNHE4YiO6YvS4exEhFyF/3gbszVah4Yj3P+cGt2DeAAqBY/ll59er1xxahN+qe2NIryB42l/JxDJ+3OT8XFRVmWfeXy4oEHqEoWv3aMREx1z5K7IdDzhbnqDm5RMHwZGf8epjb2D6wg04klECdXUd7Lo9jjeGh8BLxhvvrD1YsiYdZ30CEeQmg6hhAMTzn3doJwTpzmLhhj04W6m57HdqlfqP6B6OzoHOsD+/6L8AAntetpgNDwL84SAWni8v1jygMeXbPJ0WhnMTETg5ej72M2bOXIr3xneHu+xcprUSSeBkbY3qfYUorrq4sRJIfTDg6Xfx7jA9Nnz7DVasmYfpG10wfOJQRIW6QWyeLNlATQ00vJDbNFNu6ml5cGeag3Qzvmprmyt0NhCI+fnK0EOnq2vi7gIXuPKgQSAGkgvLoDacOxPaxOVYpO2GuJ4d4Su3+1c1xP+mfbk1FCRgSzKP4Ge9jReeecxyvfFRPP39XigEPMNoNmLd/kweUV6DqKAwAxsrjNAEViFjzwasXf0X/lplea1Lh3jyw3gsLhBOvEdzUdGXmVYeNM2vbqD5uuGKKc4cwiGlHvpQX7gLee/L8n49axdPBPDPV684hYxGFRwg5r0yXok12J8W6q0W1ZgCAtPaHX38eUHlBfmy21Hg4IZFKFBVInjiaAzw/yeTsHhslByPUr0G8ntfwjuPDUN0qDc/9LawjxiFcX3ksNetwK8bElGhastFXMVwcHLmPWgbFCiV5yZK6o9j0TwlBg7phRDPy020bIwnNqU3TVxtRbRoJTDdsmbPe+1X8ZIIL/skPqe+z+O7J3tBeHI1pr/6JMaP6Ifo7rfhiZmH+XflDR3PV8qMIzhcoYEm2Nd8C2jjWNDa2QP+/CBoV6ciU6Fv27sqpLxs8W1fVBGbv1In+PEAxa6JTFhryqOWn02NktSnOwbcFgl5fgJ+n/4uPp82Az8v3YnUSi1qtKbJow3Tm1hB5NQF4196CSOt9uK71+LhEtcXMSFezTx/oHWmTJmCwYMH33SvhISEFoICznSKDPwYNxktiiF3dIYt72EUVVZCwwMspk/B8gUViO4VjTC/y03evf4oKLjOihLWoXL0s3j73Xfx/ts8Wn/L8vpwGma8PBDOciP+3nQQWVp9M/e0XsygNvDM2HLlez6NpadcJ/RCx1590K//QAw8/xqJSS+9jFce6QdfHgS0WcaoNUDDC0xLu1hj4BUtL1HMRsCruEbBhwlvsEx1oxUPCAyXVHBtyMa0WCn/IBkPCHhjc2l13Ejm3/hjVR6UPpPx8iP94e/U+GEtV6IY6UeOolqnR7+eMQjxdblwy6YwCCPHjYLMoQ4Jv/+NA8VqNDHR+SpZwdWrM2x4V6Y2rxzlRh1Slv+Ewl63ITaUNxJNPbbuP8RaGoD+D3+JRRvXYv73H+GFewehszgP6759Ci/9uBNZFTwQ5N/5XP4zBaRN5T9bHhjx9035r8m7dFrBqDGPXLV+VE0EAT//rQlwNZnr8fWT4/HuomR4xN2LeyZNxB1DeqCdVNTCpEABZIHd0SvaAYLKtdi0NxkKXk/8Ex9++CHmz59/072ioqIgEFztZUEruHiEm9cCqS2oQEW1FidXz0NBZByiwv3hKPz3la//don/zzFdOjCid+9uCA4OslxrvPCKGXYH+oolqNm+BQfTddA3mql6KQX2TFuCRKX64ln8F+Fppi9FooKn8QvC7bYC2GcYYCuWw9HJCU4NXs6uLnA1LYRzmd7XFUlbjm925KBC13yI4+QXhmBb3mPKKYKCR9KXpFQU41RtDar7eMJTwitoy9tXTO6ECGsb1OgMTd4O6RQUie52IoiSi3nhvbAfhrIMJB1NQEqhnjcKljeRgZXTv8L2ys549r1XMbqTNyT/5LqgJhPHtqmgV/dCVFij9Ql4Be45aDwe7uIISf6v2Lgvx3ybaFtx8+nEezIiIL4A+UlLMSutBwb3DYaXXHAVFYQCxSdrUePiASc7U5DXssz1b2DywJ6INM16v8JX33HfY3teZYs999Sln2FrAYNLx+4YOGoCHn7+A3y7bAm+ezgIp37biD2ZSgi9QhFsJ4YwrwTKphaYURYjlQfU+jh3eJgCRsvbV0K5/3usSCri+cryRlspj8fMZz7BzynB6DdxNHr3CEGAlwfcnE2XQS5cBtDmZ6Fc3eCxxTAibeUiFPf7AJ99fAf0a6dh6vLDKKy65Ko4D5Id0ZkHRkxnbPY2YpPAwECEhYXddC+ZTNbCZRMlFEU1qIlwgyMvL03VTS7eoRAI7YF9RShMXIG5aZ0QE9MRfs7/rssG9SgouJ4ydmCxIdr83HBxEw2IoEM/DI8TQ1KzHesPZUHT6BKCs0dvWJsWmjmvBGcTy6CqvtB7aSpNTmIpT1ML5hyDUZO9IbU7hJR03jtvXP6r9mL6Bxtwulx7dU+7c/WEn6lXZfmniaY4A4VKHZpZ4NDMNmwwxveWQLbvNDIVBhgb1TtF6ceQa5Bg+B190F4mvmxD0ywnN4Tw/Ssrr0BNE8OBtoFDcN+dvnBQxeNImgamuVzFu77DZ+vP8oDCGZUbpmNjahnUNRqcXjwNn+4RYtDrH+CJoaHwEDe65AINilOP8u2Um9dNuKys41heoTu3PkHghfUJ6lk7xmDcpL6Q2+uw4q9dSKts/omEmsLTSEpMR5meV+KW91pi4+KJCFtbiNUbMP2LPQjs3RehXvKrG9Y08Eoyvwbhbm6QCi4/F8Gn97P4ZNZvWLhoERZd4WvulxMQ5c6PlWVbTdFX8F7wkTRU8qDUTmTP40J3eAd2xe2jRkBoVEGp4YUgeADujJPDKSEV2eWmUSvLH1sUZyQjp1qIIaN7o4Oj9PJBqaMHYm0EqJ/GaFKan4zSKm0T60D8M8oTW7EyNQN5EdHoEegNZ9MDikwH3WgwzwOoz+U5u/7EodwyaCyZpmTPD/ipuCNie8Ri8IMv4IkBDPHTZ2PVkSJcEhc4uvKgXQBlRQUMPGgnDelQVcqDYD83uIibDhhtnD3Q2dYOUs0W/DBtNzwjoxHu79z0Oin/AhQUXC+1Rdi+8GfEM957Ml2zb6q2FLRH9JCuEEmM2L1kG5JV2ouun7t5hcPNxg5ZRQrzMCaq8pDVPgBeggsR6qVp8pFZn8baEX2e/hhTYvOxesUmnFE2bPwNOLV6NYyR7eEsFl6+4a3/w4Ztq607/HvaQJBehGIDj575W/nZ+Qj2lELY0rVKYQdMeP0djPHYjD+XH0SJynBhiFaTgJWzt8Bj9Kt48+5OcG/FpDdTb9709/X/P8+B92R6CHCgtBSaxjcMmwg8cdtjz2K0fy5WLt2M1MoT2LhaigHR4ejg74/IUDG2JB7Gpun/wyOLdBj66td4a1JPtGtixUPFnpm49+EHMX7UY/h5bzFUTXTAGso8dm4+wYX1CSy/qGclQoe+Q9HbXoaaHUuw9lAJqppaUlmxHz888CgeuHsEHp+zD0VN9fwaswRLQpyBtPcYjOrmc/XDmmWFSK+WIjLIH/bCy/epTXekmFa47NS5Mzpf4Su0gwfkjee/XEKL3cvX43BhJfTnG2Rr1Bm0QK8IhPhIeHlrj3Evv447fOOxYvV+FDRcfEuTiLW/bIXLkOfw2t0R8OG9QfPnadRQ1NVeOqpg4uqKjm48yMovgZJH3jU8QCzIbAdfVxGELUUw9UwbZRoYTItwNXGKGxIKTdek+TGorYE1T1t/LJSJ+xFvq4LK1jSGWA11mcp8Z4lpc8qji/Hlm2fRLjQS/h68gyIPw9j/vYwxNkfx/ee/YFtGOXQNgxe5P0K6CZGoKEfVJT2J62vDhg34448/rslr6dKlUCgUlk9qJWMxchMN6OrpDw9JMx0WRxd04PWvGJmwjxmGod0C4HpJJ+Lfw+YDzvIzuSbSsebNT/DhVx9i1rpjyDt5EEcSjqNYHoFuAY68sTyXNRQHfsK738zG7/N3Is10zbj4GFJTT2LftjSIwiLg5ySE2N0fbqpkrF2VBZG3LXK2roO25+3o09Ed9pYJSQK3ZtKEmtJYQyDzQ9eYbhBnbsa8lYehZjbQl57mAcs8nPIYi7EDwuAlP4v1b3+C7xctx6pjmVDm5qMg6zC2K70QpliDL2fOwm/zE5BWmousrAwkxlfBu3cwLxRO8GknQ+GOedincYebNhHLDnpj+Mju5sfpZq99E59+vxAr951GnqEIuQXHUSTuhAh/Fzh6hSKmdxAq9y7D+sNK1FjrUJK6A3M/W4rS7o/i2afGooe/aWlkJRLmfoCpc//EqoN8O9VFyCk8jn1nhAgXHcPX383GvIUrkZKtwOmsbKQeyoQ4rCs/fqZrtFLUlmzFn7uk6D2iO/zljZ+9YAU75w6IjgtFzdHfMXfXUWRluiB2dCRcrRXIOLwBX/+0B3qf3nhiyoO4q3cYfOW8N1ptDVvTRMwGpVygycSWJX8ho6QQNV3H4LZO7pA27norDuPXj6di7pI/8Nu8LThdWMU7eBqUnojHvnJ3dOWNnsz8aFoNji/+Gt/8uBjrkrJ577YQJ08ew6nD6bAJjYC/6dbW+k3bqZG5bQlWpZeggHXC6CGd4HG5OSJ2CpyctQy7Aybj3XfvQyzPlxfdAXIFFEcW4dNlcgx/aiQ/X1c52tCGig/PQoLWF/pTWai0sYeDTSVSD67AnE3VGHHPXRgS7mEe0RC5BCOqVweoE1ZhY0I59FZ6lJ7ZhXlfLUNB2GQ8OWUcots7Q8T/PnH+J5g2ewEWHExFcU4WMjKOIv5vBVy6tYcnz1O2ti7wcVUjdfN6ZFq5wCZ/JzarumJwrzB4y/Ox5eOvMHPhUvyVeAblOQUoyj6CnUpXtFdsxsw5czBv3n6cKsjH2bPZSNpXCbce1kj6bgbm/LEc8ck50BXlovjkAaRbd0DnyCiEi0uQvmsrTuud4eMmQN6+ZViT6Y/bB/lBkbYHaflnkCWMRWjVSvzx43R8NGMRtiUfxln/3jwAbMd7uDqkLJ2JBZsO4FjqEew+koTEPVuhcOyG9p4OEAt4uSndgaXxQvQYFIlA02qaluN7PRlTluCN79cjv7wcakUZSoqLUdyGL2tra3Tq1Mk8ibXVsrfj6/m5CB07HgO6mubgNFFu7JQ4/etK7HEbg5ffehD9Q9wgastLtG3MyrRYgeVnck3oocgtQYVGBZ1lopGtUAK5uw+vQC7Mnq5R80q8Qg29ynS70bnJdAIxr+xtxHD24j0i3jhYW9VBW5aP/Hw1bJ1lsK6rg9jFCy72DVe4a0WaOgOqyotRqtDCWmxa7pehjqezk3vCRWrH90kPZV4JKqv1UJuuvzPe67Hn78vc4SXUolSpgc68n3Ww4d9FKJDD3c8F9qbRAGMVinOzUFrrACeRLeqspHD3lJtHCgwKXplV6aFVV6OmzgYCiRAyF2941B+HWh0UxSVQaRmsJXZ836uh1QMSJ3e4OpkaPtMX4P2u0kKUa/h2NBe2IxA7w9uhDqUVKui1at4r4sdaIIZEIIGLd/3x432mI99izMT9uH3et3iwl+n+4HOH5CLm/ShAQTmvmNNNQ75a2Lk7wT5rAyYvdcG0z+/H8HAv2NtYw5j0C77MicOTg4LhLm2wMUMl8nmFr05egmm6CXh/dAi8G39YDQ8AisqhMRph4F/UdDyZnWmfbWArc4OXs71ltTd+TsuLUKbkPT/TdV1zJrKDRGjP84YnHPhxvlDHGFBZkIsC1Qks/U6L8W+P5r1h+WUq8SqcWrgIyYG3YWD3ALiIrrYXo8HBqQMx5czDmPPefejhI7v6Sz1tRF+QhDzmCtOUO1veoxYIGAyGOhhqbeDk5gypJV+Y1fKyWsLzn6aOlwue/1g1dHoGkSn/OdrzcmJKWHsu/6m1PJ+a5qbYwI7nVYG1HG4+zrA3r0XAz5iuHAW5RbynLoOUly9mWs+An0+hrRGVphEEvQ5qvenveUDC/96Gn29PoQ4VVRpoqyxly47neVPZ8rVHTSnvpeu0UPOeep21gJ973vN08oSbgwh1VSUoLC2D2koOF7mYf3gNGP9cF7EBpQVFUNZKIHVwhougEkq+7SrL3ACBqz8C3WR8nxj/TnkoKuOdEVMdZbojhH8PmasvnHl9YCrW1Uk/YtL98eg79VM8PLA9nFoz4tGmSrD9/QlYYj8FD4+Og79T2z8rwTSZ0NHRkQd1rQ95sldOwdjf3PDGx89gTGdPiJvcKRVSly1HsmccevcI4p2nq312xHViCgrIf0xtLautqbno+fqXaE2aOksa/mop2ZUzPUfetN2r3Gr9vrf5fnH6HPbnlHB257TNLE/Z8vKAdTXVTKtRs0pFBatUqVju2ldYYNA9bPruAmZe7LB4J/vqjofY15uzWYV5acpLFa16nn29I4eVXu/nwhasYS98s4udLdWeW5WuRXXMoK5kWsO5lSevWuUe9mXMUPb6ghOsSNPmZ+7q8LxU/5Xq+M+mPHXZbNlW+Y+3vPXlgP94jdV/lun71V045+Z9MP32H9LnsWUvRrG7v1plfoz49WZIXsAm3vUc+yk+gymbfd45Y3k7vmfvvDyRDY+NYt263M++33a2mccat4UstmLKYPb41E3sdGl1C8fYVL6qmNa0ouU1zwf/3A0e3CNXxdoa1jamp7NZ/t2U1qSxsqThr7bNCFb8403bvcqt1u97m+8XJ/TB7fffD+u1B5BUpEZLTzq2srGDWGIPuaMT5FIpZGJ7WOt244s3nsaTj96FYcMew3rPARjc2bWZZyRkYtfOAEQGSGB/nZ8Lm7l7JwIi/CCRiFrRK7GCwF4OsaBBr/kqZG75DZt73Ikxvf14L7XNz9zV4Xmp/itZ8Z9Neeqy2bKt8p/VhXLQ7OT1NlP/Wabv1+C2SvM+mH77Dwm9MPyeyRBuT8LxPCXa8OaXVihB/NKfIejeG7EdPCFrYQERt+7j8eQLD6C/RoEClRgSJ1tc9d2El6FNWIs5mv4YMKgTfFscuTCVLxnEplGka54P/rl/Sckl5HqxhrTHk3huZBoWbjiKosrqiycjtkDWoTP62NVAlbAZq1dsRJLLWDz11FB0dJc0scCPAacXz0dh39vQyc3huj4r3pC6FL8V9sbgMDc4Nj2e2fYK/8avK10w+Z7hCPeRXeGCR+Tfj5ebiIfx5IhcrN6eiJxyXavLzT9lPLMTy/aFIy6uO3xdxC02WnZyD/hKhdDwRMZekejoKoXkWuRF0wJE353BoBGj0TfYs/XLgP8HUFBAbj1CJ/R69AWMLp2LuVtTUF5/n9ZlWPsMx2eLfsHPv/yAGbOXYfmPL2NkuEeTt5fCoEZt8GSMHxjcqjsm2o4BamMI7hk/ECEeTQUr14A+Fcum/w2fCZMxItIP8n/bEm2kbQgdEf3A0xhVtQgL/z7a9JoGbU6JAytmQxXXD707+sChhVGCepozKdil0yCmSxC87FsOIq5OCfb+/BtKB9yOOweFwvu6lu9rjyYakluUEeqiVMT/tRG1/R/FwI7O4GX78mqqoTWYHvRjC5FpSdzmxoVZDaoNVrBr7vbTa4ahRm+ElelhO9flgw04sep3pMpjEdujo3nBo5uo00QuwctNyRnsW70Zhuh70C/MkweBll9dC9mr8cyUrQh55QXc378DnFvxKPPTC8Zh3FtlGDt9Dl4c3RGubTxMZ3rc8XZNe3Tr1h1BbuceSHczoaCA3MJMs/pLYZS4QHbRDH7SegxaRTlqxI6QCukY3hrqoKsog0HsBKnoWgaBGhz67k7MrHgArzw+Fp19pE1/Vq0RGn016mzEkAhzsfLJO/C//XF4f8F7mBDhBfs23j+jqgwaaxmkpk7BTZjhaZyP3MKsIXHxgIOYGrOrZwWJkyvkFFTdQqwhdnbn5eYajwplb8PiTe0RERMNH1f7Sz+rVonkNV9hyls/YuXOQ9i14FP8sng1/t6jhDqiK0Jc7Ju5RfCfEchc4WgvvCkDAhMKCgghhPzLaHB0wwJkdo5D/07ecBI2aoD1+djx43N4a5MRfcaOwJA+Uehz53BIDi/FrqJCRHe6VvMJbn50zAghhPy7FO3HykUu6Ns7GgEejUcJjEhbPRUfzi5CUOwI9O8cBA8HORzdIhHqr0edXTd0D/aHXNJokpBeA41KBZW+FrV00bxZFBQQQgi5PngP/9CGAzhdoW7h6ZZGJG/5GSdjY9E/0gfOjZ/Dkb0JP/6wEUnecRgS7Q8P+/oVOAuQnWKA3q07gjo4QNxgdEFzZgfW/PQhxoy8G9M3pqNCZ/kFuQQFBYQQQq45Y/52zHrhPkx5fjKmrzyJMlWTj5MCiuKx7BcBoqJ7wt+j8eRCHjBs/x47MzIRFtMDQa4ynL9LsSITx4/pmpxPIPbrgVBvI4pyXSGyt4PtNVrQ6GZAQQEhhJBrypi5GX/u0CGwRyQExiosX7oTp8pUvIlvzDRK8BNSIvugX3dfOIsaN1F5OL4hH+UVHdG7SxCceQNf3/ZrziRjp1KDmM4dLplPYC2yQWXeEdREdkCovwyNryyQCygoIIQQck3Z+sRi1Mh+6DtxEu7t5gxBwmL8fdT0YChLgnoVB7D6VytExPZCoFdTK2Oqoc+tQ111V4QEOEDcYA2C3JOrUa5pjx7BfpBLinF0XyoqKusfg52LtPhyeLRvhwAHMczLHZhuZTQwml/QCAUFhBBCrikroQNcnWWwd4jEmEmD4GKfg59X7MDpMhUarieavWsxdnfpi35RfnBt8vkZAkDGW/Rof7g5C8817mbZSN5XDI1Tl3PzCQoTsPBEAcp1tedGErKTsTvDFl1CwuEiZUjf8DPmr1iKWa8/j592pKFUR5FBPQoKCCGEXCdC+A29G/cEymG1cTn2nSyDymD5leoQ1vygQkxMH3TwdrgwV+AigYgcEwppqQ5qbY0loNAgbcVP+P1YIUo8veAutUP+kR3w8HGFWCI2p1BmHccxdVcEehhxaPEipMti0N9Xhz27jiAlRwUjDRecZ/MBZ/mZEEIIuaasRV6w1x7C+n37sVPQGaN6BsGTN+TZm6dihqoTJt7VB+EekmYWRrKFc4A3bM+uRUKFM1xEJTi8dCXOuA7AgBBrZJypg4+bAoePu6PPoCgEe0pha6VB8ppP8WeqDsY6KXoMHoKeEcHw8umAuNtGoH+39nCX2V3bhZj+Q2iZY0IIIddVde5feGvES/i1IBafrZqK+7qU4Y/HP0PuHW/iqTsj4Curv82wCXXVqCwpQJlWAInECqzW9HREF0hZJYoKVLCS2KDOxgEebg7mxxVb4TQWjhuHOaJhGNJOi+wCJ/R8YAom9vKH83V+pPl/AV0+IIQQcl0JvQdi1IR2cLbeigVbE5G4aRH+cO6FmCh/uJ1fd6AZ1kI4eAaifTtvuLt5wtPbG64yEURyD7QLaQ8/H38EeDtBYg4IuPr5BHF3Yvzj72ByWDx+/+wXxGeXQZV9FCcK1NBcjwc+/kdQUEAIIeT6snFEr3EPoL+rGGmz38WLn+xCWK/+6OrjhMZrFTXHytoaNjY2sG74NFD+nnWj987PJwj2g6ePLzycq6F0sobARoek1duQXa6AkQYMzqOggBBCyHVmBXHISIwZ6Qz7mpM44T0EI2MD4CW9zCjBFTMiPWUXlF3aI8SyPkG7rhMQZW1AxvaF2COPREd3Z8hsLMkJzSkghBByI9RBffA73Hf/Ekie/gafPByDQAfbNg4KGDQFx5Gld4e/jztkQt766ytQUKiG0cYWdlJHuDmIIaBZhudRUEAIIeTGqFYg42Q+rP0C4eNsD7trMXbN6nhoYAWrhpcZeLNXx/h7/PMoHLgYBQWEEEJuGFZXx1uiRo02uWEoKCCEEEKIGU00JIQQQogZBQWEEEIIMaOggBBCCCFmFBQQQgghxIyCAkIIIYSYUVBACCGEEDMKCgghhBBiRkEBIYQQQswoKCCEEEKIGQUFhBBCCDGjoIAQQgghZhQUEEIIIcSMggJCCCGEmFFQQAghhBAzCgoIIYQQYkZBASGEEELMKCgghBBCiBkFBYQQQggxo6CAEEIIIWYUFBBCCCGEA/4PdpeZCLCx5qEAAAAASUVORK5CYII=)"
      ],
      "metadata": {
        "id": "8xdiMzFyJS7v"
      }
    },
    {
      "cell_type": "code",
      "source": [
        "head_size = 16\n",
        "key=nn.Linear(C,head_size,bias=False)\n",
        "query = nn.Linear(C,head_size,bias=False)\n",
        "value = nn.Linear(C,head_size,bias=False)\n",
        "k = key(x) #(B,T,16)\n",
        "q = query(x) #(B,T,16)\n",
        "wei = q @ k.transpose(-2,-1) #(B,T,16) @ (B,16,T) ---> (B,T,T)"
      ],
      "metadata": {
        "id": "TCdaVGdMInT0"
      },
      "execution_count": 27,
      "outputs": []
    },
    {
      "cell_type": "code",
      "source": [
        "tril = torch.tril(torch.ones(T,T))\n",
        "#wei = torch.zeros((T,T))\n",
        "wei = wei.masked_fill(tril==0,float('-inf'))\n",
        "wei =F.softmax(wei,dim=-1)\n",
        "#out =wei @ x\n",
        "v= value(x)\n",
        "out = wei @ v\n",
        "out.shape"
      ],
      "metadata": {
        "colab": {
          "base_uri": "https://localhost:8080/"
        },
        "id": "FuQMyZOWFQLw",
        "outputId": "17b3f7b8-e8ef-458d-ab68-0cc217090952"
      },
      "execution_count": 31,
      "outputs": [
        {
          "output_type": "execute_result",
          "data": {
            "text/plain": [
              "torch.Size([4, 8, 16])"
            ]
          },
          "metadata": {},
          "execution_count": 31
        }
      ]
    },
    {
      "cell_type": "code",
      "source": [
        "tril"
      ],
      "metadata": {
        "colab": {
          "base_uri": "https://localhost:8080/"
        },
        "id": "Xc6reJx7FwYq",
        "outputId": "0327c960-2314-4111-f882-d812be2b8515"
      },
      "execution_count": 32,
      "outputs": [
        {
          "output_type": "execute_result",
          "data": {
            "text/plain": [
              "tensor([[1., 0., 0., 0., 0., 0., 0., 0.],\n",
              "        [1., 1., 0., 0., 0., 0., 0., 0.],\n",
              "        [1., 1., 1., 0., 0., 0., 0., 0.],\n",
              "        [1., 1., 1., 1., 0., 0., 0., 0.],\n",
              "        [1., 1., 1., 1., 1., 0., 0., 0.],\n",
              "        [1., 1., 1., 1., 1., 1., 0., 0.],\n",
              "        [1., 1., 1., 1., 1., 1., 1., 0.],\n",
              "        [1., 1., 1., 1., 1., 1., 1., 1.]])"
            ]
          },
          "metadata": {},
          "execution_count": 32
        }
      ]
    },
    {
      "cell_type": "code",
      "source": [
        "wei"
      ],
      "metadata": {
        "colab": {
          "base_uri": "https://localhost:8080/"
        },
        "id": "eM42pMcGF8XY",
        "outputId": "4284f855-549c-475d-b969-177705e12139"
      },
      "execution_count": 33,
      "outputs": [
        {
          "output_type": "execute_result",
          "data": {
            "text/plain": [
              "tensor([[[1.0000, 0.0000, 0.0000, 0.0000, 0.0000, 0.0000, 0.0000, 0.0000],\n",
              "         [0.6377, 0.3623, 0.0000, 0.0000, 0.0000, 0.0000, 0.0000, 0.0000],\n",
              "         [0.3188, 0.3588, 0.3224, 0.0000, 0.0000, 0.0000, 0.0000, 0.0000],\n",
              "         [0.2385, 0.2772, 0.2406, 0.2437, 0.0000, 0.0000, 0.0000, 0.0000],\n",
              "         [0.1824, 0.3194, 0.1700, 0.1655, 0.1628, 0.0000, 0.0000, 0.0000],\n",
              "         [0.1522, 0.1419, 0.1553, 0.1571, 0.2492, 0.1442, 0.0000, 0.0000],\n",
              "         [0.1429, 0.1397, 0.1465, 0.1498, 0.1433, 0.1344, 0.1434, 0.0000],\n",
              "         [0.1096, 0.1171, 0.1081, 0.1077, 0.1084, 0.2139, 0.1094, 0.1256]],\n",
              "\n",
              "        [[1.0000, 0.0000, 0.0000, 0.0000, 0.0000, 0.0000, 0.0000, 0.0000],\n",
              "         [0.4807, 0.5193, 0.0000, 0.0000, 0.0000, 0.0000, 0.0000, 0.0000],\n",
              "         [0.2188, 0.2354, 0.5459, 0.0000, 0.0000, 0.0000, 0.0000, 0.0000],\n",
              "         [0.3083, 0.2116, 0.2582, 0.2219, 0.0000, 0.0000, 0.0000, 0.0000],\n",
              "         [0.2042, 0.1739, 0.1588, 0.3035, 0.1597, 0.0000, 0.0000, 0.0000],\n",
              "         [0.1542, 0.2009, 0.1745, 0.1755, 0.1428, 0.1520, 0.0000, 0.0000],\n",
              "         [0.1662, 0.1368, 0.1235, 0.1829, 0.1303, 0.1248, 0.1354, 0.0000],\n",
              "         [0.1088, 0.1088, 0.1366, 0.1087, 0.1710, 0.1462, 0.1112, 0.1087]],\n",
              "\n",
              "        [[1.0000, 0.0000, 0.0000, 0.0000, 0.0000, 0.0000, 0.0000, 0.0000],\n",
              "         [0.4952, 0.5048, 0.0000, 0.0000, 0.0000, 0.0000, 0.0000, 0.0000],\n",
              "         [0.5186, 0.2387, 0.2427, 0.0000, 0.0000, 0.0000, 0.0000, 0.0000],\n",
              "         [0.2164, 0.2267, 0.3410, 0.2158, 0.0000, 0.0000, 0.0000, 0.0000],\n",
              "         [0.1697, 0.2354, 0.2632, 0.1660, 0.1658, 0.0000, 0.0000, 0.0000],\n",
              "         [0.1398, 0.2615, 0.1682, 0.1381, 0.1397, 0.1528, 0.0000, 0.0000],\n",
              "         [0.1402, 0.1260, 0.1389, 0.1537, 0.1322, 0.1248, 0.1842, 0.0000],\n",
              "         [0.1168, 0.1418, 0.1635, 0.1146, 0.1136, 0.1141, 0.1212, 0.1144]],\n",
              "\n",
              "        [[1.0000, 0.0000, 0.0000, 0.0000, 0.0000, 0.0000, 0.0000, 0.0000],\n",
              "         [0.5868, 0.4132, 0.0000, 0.0000, 0.0000, 0.0000, 0.0000, 0.0000],\n",
              "         [0.2120, 0.2120, 0.5760, 0.0000, 0.0000, 0.0000, 0.0000, 0.0000],\n",
              "         [0.1774, 0.1760, 0.1756, 0.4710, 0.0000, 0.0000, 0.0000, 0.0000],\n",
              "         [0.1614, 0.1567, 0.1530, 0.3700, 0.1590, 0.0000, 0.0000, 0.0000],\n",
              "         [0.1625, 0.1538, 0.1402, 0.2235, 0.1704, 0.1496, 0.0000, 0.0000],\n",
              "         [0.1364, 0.1315, 0.1378, 0.1341, 0.1949, 0.1416, 0.1237, 0.0000],\n",
              "         [0.1159, 0.1108, 0.1073, 0.2143, 0.1224, 0.1091, 0.1076, 0.1126]]],\n",
              "       grad_fn=<SoftmaxBackward0>)"
            ]
          },
          "metadata": {},
          "execution_count": 33
        }
      ]
    },
    {
      "cell_type": "code",
      "source": [
        "k = torch.randn(B,T,head_size)\n",
        "q = torch.randn(B,T,head_size)\n",
        "wei = q @ k.transpose(-2,-1) * head_size**-0.5\n"
      ],
      "metadata": {
        "id": "l_9bmBvoF-uG"
      },
      "execution_count": 34,
      "outputs": []
    },
    {
      "cell_type": "code",
      "source": [
        "k.var()"
      ],
      "metadata": {
        "colab": {
          "base_uri": "https://localhost:8080/"
        },
        "id": "P9r0O20NJo-5",
        "outputId": "52f3edf4-a3ef-43ce-9d73-9611be9ea0cb"
      },
      "execution_count": 35,
      "outputs": [
        {
          "output_type": "execute_result",
          "data": {
            "text/plain": [
              "tensor(1.1137)"
            ]
          },
          "metadata": {},
          "execution_count": 35
        }
      ]
    },
    {
      "cell_type": "code",
      "source": [
        "q.var()"
      ],
      "metadata": {
        "colab": {
          "base_uri": "https://localhost:8080/"
        },
        "id": "LguockkAJtEO",
        "outputId": "bee1c07b-1857-459e-f718-e81f4ddba353"
      },
      "execution_count": 36,
      "outputs": [
        {
          "output_type": "execute_result",
          "data": {
            "text/plain": [
              "tensor(1.0013)"
            ]
          },
          "metadata": {},
          "execution_count": 36
        }
      ]
    },
    {
      "cell_type": "code",
      "source": [
        "wei.var()"
      ],
      "metadata": {
        "colab": {
          "base_uri": "https://localhost:8080/"
        },
        "id": "zLrHwEjvJvbm",
        "outputId": "0a944fa7-122c-440e-d5b7-074fea6d1ec1"
      },
      "execution_count": 37,
      "outputs": [
        {
          "output_type": "execute_result",
          "data": {
            "text/plain": [
              "tensor(1.0981)"
            ]
          },
          "metadata": {},
          "execution_count": 37
        }
      ]
    },
    {
      "cell_type": "markdown",
      "source": [
        "**softmax equlization**"
      ],
      "metadata": {
        "id": "ebXKZ_auKY47"
      }
    },
    {
      "cell_type": "code",
      "source": [
        "torch.softmax(torch.tensor([0.1,-0.2,0.3,-0.2,-0.5]),dim =-1)"
      ],
      "metadata": {
        "colab": {
          "base_uri": "https://localhost:8080/"
        },
        "id": "aALiPIMkJxI3",
        "outputId": "3a601626-1e24-41ac-d372-58262e047de2"
      },
      "execution_count": 39,
      "outputs": [
        {
          "output_type": "execute_result",
          "data": {
            "text/plain": [
              "tensor([0.2352, 0.1742, 0.2873, 0.1742, 0.1291])"
            ]
          },
          "metadata": {},
          "execution_count": 39
        }
      ]
    },
    {
      "cell_type": "code",
      "source": [
        "torch.softmax(torch.tensor([0.1,-0.2,-0.3,0.2,0.5])*8,dim =-1)"
      ],
      "metadata": {
        "colab": {
          "base_uri": "https://localhost:8080/"
        },
        "id": "gorz108gKDRb",
        "outputId": "a9347b03-3409-4953-8962-13c3fec8e60e"
      },
      "execution_count": 41,
      "outputs": [
        {
          "output_type": "execute_result",
          "data": {
            "text/plain": [
              "tensor([0.0359, 0.0033, 0.0015, 0.0798, 0.8796])"
            ]
          },
          "metadata": {},
          "execution_count": 41
        }
      ]
    }
  ]
}